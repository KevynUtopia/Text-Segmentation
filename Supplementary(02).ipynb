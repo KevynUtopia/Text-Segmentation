{
  "nbformat": 4,
  "nbformat_minor": 5,
  "metadata": {
    "kernelspec": {
      "display_name": "Python 3",
      "language": "python",
      "name": "python3"
    },
    "language_info": {
      "codemirror_mode": {
        "name": "ipython",
        "version": 3
      },
      "file_extension": ".py",
      "mimetype": "text/x-python",
      "name": "python",
      "nbconvert_exporter": "python",
      "pygments_lexer": "ipython3",
      "version": "3.8.5"
    },
    "colab": {
      "name": "group22_project1.ipynb",
      "provenance": []
    },
    "accelerator": "GPU"
  },
  "cells": [
    {
      "cell_type": "code",
      "metadata": {
        "colab": {
          "base_uri": "https://localhost:8080/"
        },
        "id": "fossil-count",
        "outputId": "0353c56f-c06d-46b8-ee98-7522fb81dfb0"
      },
      "source": [
        "import os\n",
        "import nltk\n",
        "import math\n",
        "import pandas as pd\n",
        "import numpy as np\n",
        "\n",
        "from tensorflow import keras\n",
        "import tensorflow as tf\n",
        "import matplotlib.pyplot as plt\n",
        "from collections import Counter\n",
        "from itertools import chain\n",
        "\n",
        "from sklearn.model_selection import StratifiedKFold\n",
        "from sklearn.metrics import accuracy_score, f1_score, \\\n",
        "    confusion_matrix, classification_report\n",
        "from sklearn.pipeline import Pipeline\n",
        "from sklearn.feature_extraction.text import TfidfVectorizer\n",
        "from sklearn.linear_model import LogisticRegression\n",
        "\n",
        "import keras as K\n",
        "\n",
        "from keras.optimizers import SGD\n",
        "from keras.models import Sequential, Model\n",
        "from keras.layers import Dense, Embedding, Dropout, BatchNormalization, Activation, Input, \\\n",
        "    Conv1D, MaxPool1D, Flatten, Concatenate, Add\n",
        "from nltk.corpus import stopwords\n",
        "from nltk.stem import PorterStemmer\n",
        "nltk.download('stopwords')\n",
        "nltk.download('punkt')\n",
        "\n",
        "stopwords = set(stopwords.words('english'))\n",
        "ps = PorterStemmer()\n",
        "\n",
        "from google.colab import drive\n",
        "drive.mount('/content/gdrive')\n",
        "\n",
        "import spacy\n",
        "nlp = spacy.load('en_core_web_sm')\n",
        "import torch\n",
        "from torch import nn\n",
        "from torch.utils.data import DataLoader, Dataset\n",
        "import tqdm"
      ],
      "id": "fossil-count",
      "execution_count": 21,
      "outputs": [
        {
          "output_type": "stream",
          "text": [
            "[nltk_data] Downloading package stopwords to /root/nltk_data...\n",
            "[nltk_data]   Package stopwords is already up-to-date!\n",
            "[nltk_data] Downloading package punkt to /root/nltk_data...\n",
            "[nltk_data]   Package punkt is already up-to-date!\n",
            "Drive already mounted at /content/gdrive; to attempt to forcibly remount, call drive.mount(\"/content/gdrive\", force_remount=True).\n"
          ],
          "name": "stdout"
        }
      ]
    },
    {
      "cell_type": "code",
      "metadata": {
        "id": "orange-preparation"
      },
      "source": [
        "def load_data(file_name):\n",
        "    \"\"\"\n",
        "    :param file_name: a file name, type: str\n",
        "    return a list of ids, a list of reviews, a list of labels\n",
        "    https://pandas.pydata.org/pandas-docs/stable/generated/pandas.read_csv.html\n",
        "    \"\"\"\n",
        "    df = pd.read_csv(file_name)\n",
        "\n",
        "    return df[\"business_id\"], df[\"text\"], df[\"stars\"]\n",
        "\n",
        "def load_labels(file_name):\n",
        "    \"\"\"\n",
        "    :param file_name: a file name, type: str\n",
        "    return a list of labels\n",
        "    \"\"\"\n",
        "    return pd.read_csv(file_name)[\"stars\"]\n",
        "\n",
        "def write_predictions(file_name, pred):\n",
        "    df = pd.DataFrame(zip(range(len(pred)), pred))\n",
        "    df.columns = [\"id\", \"stars\"]\n",
        "    df.to_csv(file_name, index=False)"
      ],
      "id": "orange-preparation",
      "execution_count": 22,
      "outputs": []
    },
    {
      "cell_type": "code",
      "metadata": {
        "id": "greatest-american"
      },
      "source": [
        "def get_feats_dict(feats, min_freq=-1, max_freq=-1, max_size=-1):\n",
        "    # count all features\n",
        "    feat_cnt = Counter(feats) # [\"text\", \"text\", \"mine\"] --> {\"text\": 2, \"mine\": 1}\n",
        "    # .most_common(): List the n most common elements and their counts from the most common to the least.\n",
        "    if max_size > 0 and min_freq == -1 and max_freq == -1:\n",
        "        valid_feats = [\"<pad>\", \"<unk>\"] + [f for f, cnt in feat_cnt.most_common(max_size-2)]\n",
        "    else:\n",
        "        valid_feats = [\"<pad>\", \"<unk>\"]\n",
        "        for f, cnt in feat_cnt.most_common():\n",
        "            if (min_freq == -1 or cnt >= min_freq) and \\\n",
        "                (max_freq == -1 or cnt <= max_freq):\n",
        "                valid_feats.append(f)\n",
        "    if max_size > 0 and len(valid_feats) > max_size:\n",
        "        valid_feats = valid_feats[:max_size]\n",
        "    print(\"Size of features:\", len(valid_feats))\n",
        "    \n",
        "    # build a mapping from features to indices\n",
        "    feats_dict = dict(zip(valid_feats, range(len(valid_feats))))\n",
        "    return feats_dict\n",
        "\n",
        "def get_onehot_vector(feats, feats_dict):\n",
        "    \"\"\"\n",
        "    :param feats: a list of features, type: list\n",
        "    :param feats_dict: a dict from features to indices, type: dict\n",
        "    return a feature vector,\n",
        "    \"\"\"\n",
        "    # initialize the vector as all zeros\n",
        "    vector = np.zeros(len(feats_dict), dtype=np.float)\n",
        "    for f in feats:\n",
        "        # get the feature index, return -1 if the feature is not existed\n",
        "        f_idx = feats_dict.get(f, -1)\n",
        "        if f_idx != -1:\n",
        "            # set the corresponding element as 1\n",
        "            vector[f_idx] = 1\n",
        "    return vector\n",
        "\n",
        "def get_index_vector(feats, feats_dict, max_len):\n",
        "    \"\"\"\n",
        "    :param feats: a list of features, type: list\n",
        "    :param feats_dict: a dict from features to indices, type: dict\n",
        "    :param feats: a list of features, type: list\n",
        "    return a feature vector,\n",
        "    \"\"\"\n",
        "    # initialize the vector as all zeros\n",
        "    vector = np.zeros(max_len, dtype=np.int64)\n",
        "    for i, f in enumerate(feats):\n",
        "        if i == max_len:\n",
        "            break\n",
        "        # get the feature index, return 1 (<unk>) if the feature is not existed\n",
        "        try:\n",
        "            vector[i] = feats_dict[f]\n",
        "        except KeyError:\n",
        "            vector[i] = 1\n",
        "    return vector"
      ],
      "id": "greatest-american",
      "execution_count": 23,
      "outputs": []
    },
    {
      "cell_type": "code",
      "metadata": {
        "id": "surrounded-knowing"
      },
      "source": [
        "def build_CNN(input_length, vocab_size, embedding_size,\n",
        "              hidden_size, output_size,\n",
        "              kernel_sizes, num_filters, num_mlp_layers,\n",
        "              padding=\"valid\",\n",
        "              strides=1,\n",
        "              activation=\"relu\",\n",
        "              dropout_rate=0.0,\n",
        "              batch_norm=False,\n",
        "              l2_reg=0.0,\n",
        "              loss=\"categorical_crossentropy\",\n",
        "              optimizer=\"SGD\",\n",
        "              learning_rate=0.1,\n",
        "              metric=\"accuracy\"):\n",
        "    \"\"\"\n",
        "    :param input_length: the maximum length of sentences, type: int\n",
        "    :param vocab_size: the vacabulary size, type: int\n",
        "    :param embedding_size: the dimension of word representations, type: int\n",
        "    :param hidden_size: the dimension of the hidden states, type: int\n",
        "    :param output_size: the dimension of the prediction, type: int\n",
        "    :param kernel_sizes: the kernel sizes of convolutional layers, type: list\n",
        "    :param num_filters: the number of filters for each kernel, type: int\n",
        "    :param num_mlp_layers: the number of layers of the MLP, type: int\n",
        "    :param padding: the padding method in convolutional layers, type: str\n",
        "    :param strides: the strides in convolutional layers, type: int\n",
        "    :param activation: the activation type, type: str\n",
        "    :param dropout_rate: the probability of dropout, type: float\n",
        "    :param batch_norm: whether to enable batch normalization, type: bool\n",
        "    :param l2_reg: the weight for the L2 regularizer, type: str\n",
        "    :param loss: the training loss, type: str\n",
        "    :param optimizer: the optimizer, type: str\n",
        "    :param learning_rate: the learning rate for the optimizer, type: float\n",
        "    :param metric: the metric, type: str\n",
        "    return a CNN for text classification,\n",
        "    # activation document: https://keras.io/activations/\n",
        "    # dropout document: https://keras.io/layers/core/#dropout\n",
        "    # embedding document: https://keras.io/layers/embeddings/#embedding\n",
        "    # convolutional layers document: https://keras.io/layers/convolutional\n",
        "    # pooling layers document: https://keras.io/layers/pooling/\n",
        "    # batch normalization document: https://keras.io/layers/normalization/\n",
        "    # losses document: https://keras.io/losses/\n",
        "    # optimizers document: https://keras.io/optimizers/\n",
        "    # metrics document: https://keras.io/metrics/\n",
        "    \"\"\"\n",
        "    x = Input(shape=(input_length,))\n",
        "    \n",
        "    ################################\n",
        "    ###### Word Representation #####\n",
        "    ################################\n",
        "    # word representation layer\n",
        "    emb = Embedding(input_dim=vocab_size, output_dim=embedding_size)(x)\n",
        "    \n",
        "    ################################\n",
        "    ########### Conv-Pool ##########\n",
        "    ################################\n",
        "    # convolutional and pooling layers\n",
        "    cnn_results = list()\n",
        "    for kernel_size in kernel_sizes:\n",
        "        # add convolutional layer\n",
        "        conv = Conv1D(filters=num_filters, kernel_size=kernel_size, padding=padding, strides=strides)(emb)\n",
        "        # add batch normalization layer\n",
        "        if batch_norm:\n",
        "            conv = BatchNormalization()(conv)\n",
        "        # add activation\n",
        "        conv = Activation(activation)(conv)\n",
        "        # add max-pooling\n",
        "        maxpool = MaxPool1D(pool_size=(input_length-kernel_size)//strides+1)(conv)\n",
        "        cnn_results.append(Flatten()(maxpool))\n",
        "    \n",
        "    ################################\n",
        "    ##### Fully Connected Layer ####\n",
        "    ################################\n",
        "    h = Concatenate()(cnn_results) if len(kernel_sizes) > 1 else cnn_results[0]\n",
        "    h = Dropout(dropout_rate, seed=0)(h)\n",
        "    # multi-layer perceptron\n",
        "    for i in range(num_mlp_layers-1):\n",
        "        new_h = Dense(hidden_size,\n",
        "                      kernel_initializer=keras.initializers.he_normal(seed=0),\n",
        "                      bias_initializer=\"zeros\",\n",
        "                      kernel_regularizer=keras.regularizers.l2(l2_reg))(h)\n",
        "        # add batch normalization layer\n",
        "        if batch_norm:\n",
        "            new_h = BatchNormalization()(new_h)\n",
        "        # add residual connection\n",
        "        if i == 0:\n",
        "            h = new_h\n",
        "        else:\n",
        "            h = Add()([h, new_h])\n",
        "        # add activation\n",
        "        h = Activation(activation)(h)\n",
        "    y = Dense(output_size,\n",
        "              activation=\"softmax\",\n",
        "              kernel_initializer=keras.initializers.he_normal(seed=0),\n",
        "              bias_initializer=\"zeros\")(h)\n",
        "    \n",
        "    # set the loss, the optimizer, and the metric\n",
        "    if optimizer == \"SGD\":\n",
        "        optimizer = keras.optimizers.SGD(lr=learning_rate)\n",
        "    elif optimizer == \"RMSprop\":\n",
        "        optmizer = keras.optimizers.RMSprop(learning_rate=learning_rate)\n",
        "    elif optimizer == \"Adam\":\n",
        "        optmizer = keras.optimizers.Adam(learning_rate=learning_rate)\n",
        "    else:\n",
        "        raise NotImplementedError\n",
        "    model = Model(x, y)\n",
        "    model.compile(loss=loss, optimizer=optimizer, metrics=[metric])\n",
        "    \n",
        "    return model"
      ],
      "id": "surrounded-knowing",
      "execution_count": 24,
      "outputs": []
    },
    {
      "cell_type": "code",
      "metadata": {
        "colab": {
          "base_uri": "https://localhost:8080/"
        },
        "id": "quantitative-standard",
        "outputId": "27984a18-5cf1-42df-e79d-3207e1acbb1c"
      },
      "source": [
        "train_file = \"/content/gdrive/MyDrive/COMP4332PA1/train.csv\"\n",
        "val_file = \"/content/gdrive/MyDrive/COMP4332PA1/valid.csv\"\n",
        "min_freq = 3\n",
        "\n",
        "# load data\n",
        "\n",
        "train_ids, train_texts, train_labels = load_data(train_file)\n",
        "val_ids, val_texts, val_labels = load_data(val_file)\n",
        "\n",
        "# extract features\n",
        "train_tokens = [tokenize(text) for text in train_texts]\n",
        "val_tokens = [tokenize(text) for text in val_texts]\n",
        "\n",
        "train_stemmed = [stem(tokens) for tokens in train_tokens]\n",
        "val_stemmed = [stem(tokens) for tokens in val_tokens]\n",
        "\n",
        "train_feats = [filter_stopwords(tokens) for tokens in train_stemmed]\n",
        "val_feats = [filter_stopwords(tokens) for tokens in val_stemmed]\n",
        "\n",
        "# build a mapping from features to indices\n",
        "feats_dict = get_feats_dict(\n",
        "    chain.from_iterable(train_feats),\n",
        "    min_freq=min_freq)"
      ],
      "id": "quantitative-standard",
      "execution_count": 25,
      "outputs": [
        {
          "output_type": "stream",
          "text": [
            "Size of features: 9225\n"
          ],
          "name": "stdout"
        }
      ]
    },
    {
      "cell_type": "code",
      "metadata": {
        "colab": {
          "base_uri": "https://localhost:8080/",
          "height": 296
        },
        "id": "incredible-thursday",
        "outputId": "b2a09266-ccb7-41de-f2b6-238c5e7c2487"
      },
      "source": [
        "plt.figure(figsize=(10,4))\n",
        "len_cnt = Counter([len(feats) for feats in train_feats])\n",
        "len_key = sorted(len_cnt)\n",
        "plt.subplot(1,2,1)\n",
        "plt.plot(range(1, len(len_key)+1),\n",
        "         [len_cnt[l] for l in len_key])\n",
        "plt.xlabel(\"Sentence Length\")\n",
        "plt.ylabel(\"Length Frequency\")\n",
        "\n",
        "plt.subplot(1,2,2)\n",
        "plt.plot(range(1, len(len_key)+1),\n",
        "         np.cumsum([len_cnt[l] for l in len_key]))\n",
        "plt.xlabel(\"Sentence Length\")\n",
        "plt.ylabel(\"Cumulative Numbers\")"
      ],
      "id": "incredible-thursday",
      "execution_count": 26,
      "outputs": [
        {
          "output_type": "execute_result",
          "data": {
            "text/plain": [
              "Text(0, 0.5, 'Cumulative Numbers')"
            ]
          },
          "metadata": {
            "tags": []
          },
          "execution_count": 26
        },
        {
          "output_type": "display_data",
          "data": {
            "image/png": "[encoded data removed]",
            "text/plain": [
              "<Figure size 720x288 with 2 Axes>"
            ]
          },
          "metadata": {
            "tags": [],
            "needs_background": "light"
          }
        }
      ]
    },
    {
      "cell_type": "code",
      "metadata": {
        "id": "separated-vegetable"
      },
      "source": [
        "max_len = 200\n",
        "\n",
        "# build the feats_matrix\n",
        "# convert each example to a index vector, and then stack vectors as a matrix\n",
        "train_feats_matrix = np.vstack(\n",
        "    [get_index_vector(f, feats_dict, max_len) for f in train_feats])\n",
        "val_feats_matrix = np.vstack(\n",
        "    [get_index_vector(f, feats_dict, max_len) for f in val_feats])\n",
        "\n",
        "# convert labels to label_matrix\n",
        "num_classes = max(train_labels)\n",
        "# convert each label to a ont-hot vector, and then stack vectors as a matrix\n",
        "train_label_matrix = keras.utils.to_categorical(train_labels-1, num_classes=num_classes)\n",
        "val_label_matrix = keras.utils.to_categorical(val_labels-1, num_classes=num_classes)"
      ],
      "id": "separated-vegetable",
      "execution_count": 27,
      "outputs": []
    },
    {
      "cell_type": "code",
      "metadata": {
        "colab": {
          "base_uri": "https://localhost:8080/"
        },
        "id": "musical-trigger",
        "outputId": "f49e0748-b2e4-4c16-b777-98f481f6f5f9"
      },
      "source": [
        "os.makedirs(\"models\", exist_ok=True)\n",
        "model = build_CNN(input_length=max_len, vocab_size=len(feats_dict),\n",
        "                  embedding_size=100, hidden_size=100, output_size=num_classes,\n",
        "                  kernel_sizes=[2,3,4], num_filters=100, num_mlp_layers=3,\n",
        "                  activation=\"relu\",\n",
        "                  dropout_rate=0.5, l2_reg=0.005, batch_norm=True)\n",
        "checkpointer = keras.callbacks.ModelCheckpoint(\n",
        "    filepath=os.path.join(\"models\", \"weights.hdf5\"),\n",
        "    monitor=\"val_accuracy\",\n",
        "    verbose=0,\n",
        "    save_best_only=True)\n",
        "\n",
        "np.random.seed(0)\n",
        "tf.random.set_seed(0)\n",
        "history = model.fit(train_feats_matrix, train_label_matrix,\n",
        "                    validation_split=0.1,\n",
        "                    epochs=30, batch_size=100, verbose=0,\n",
        "                    callbacks=[checkpointer])\n",
        "model = keras.models.load_model(os.path.join(\"models\", \"weights.hdf5\"))\n",
        "\n",
        "train_score = model.evaluate(train_feats_matrix, train_label_matrix,\n",
        "                             batch_size=100)\n"
      ],
      "id": "musical-trigger",
      "execution_count": 28,
      "outputs": [
        {
          "output_type": "stream",
          "text": [
            "100/100 [==============================] - 1s 6ms/step - loss: 0.6492 - accuracy: 0.7711\n"
          ],
          "name": "stdout"
        }
      ]
    },
    {
      "cell_type": "code",
      "metadata": {
        "colab": {
          "base_uri": "https://localhost:8080/"
        },
        "id": "sweet-mention",
        "outputId": "995783a9-56a0-4dfa-f52f-f6721f0cbb13"
      },
      "source": [
        "val_score = model.evaluate(val_feats_matrix, val_label_matrix,\n",
        "                            batch_size=100)\n",
        "print(\"training loss:\", train_score[0], \"training accuracy\", train_score[1])\n",
        "print(\"validation loss:\", val_score[0], \"validation accuracy\", val_score[1])"
      ],
      "id": "sweet-mention",
      "execution_count": 29,
      "outputs": [
        {
          "output_type": "stream",
          "text": [
            "20/20 [==============================] - 0s 6ms/step - loss: 1.0371 - accuracy: 0.6115\n",
            "training loss: 0.6491913199424744 training accuracy 0.7710999846458435\n",
            "validation loss: 1.0370895862579346 validation accuracy 0.6115000247955322\n"
          ],
          "name": "stdout"
        }
      ]
    },
    {
      "cell_type": "code",
      "metadata": {
        "scrolled": true,
        "colab": {
          "base_uri": "https://localhost:8080/",
          "height": 316
        },
        "id": "overhead-stack",
        "outputId": "f274b03e-2a79-422f-cd29-5f0f76806e6c"
      },
      "source": [
        "plt.figure(figsize=(10,4))\n",
        "plt.subplot(1,2,1)\n",
        "plt.plot(history.history[\"loss\"], label=\"training\", color=\"blue\", linestyle=\"dashed\")\n",
        "plt.plot(history.history[\"val_loss\"], label=\"validation\", color=\"orange\")\n",
        "plt.xlabel(\"Iteration\")\n",
        "plt.ylabel(\"Loss\")\n",
        "plt.legend()\n",
        "plt.subplot(1,2,2)\n",
        "acc = np.array(history.history[\"accuracy\"])\n",
        "val_acc = np.array(history.history[\"val_accuracy\"])\n",
        "plt.plot(acc, label=\"training\", color=\"blue\", linestyle=\"dashed\")\n",
        "print(history.history[\"val_accuracy\"])\n",
        "plt.plot(val_acc, label=\"validation\", color=\"orange\")\n",
        "plt.xlabel(\"Iteration\")\n",
        "plt.ylabel(\"Accuracy\")\n",
        "plt.legend()\n",
        "plt.show()"
      ],
      "id": "overhead-stack",
      "execution_count": 30,
      "outputs": [
        {
          "output_type": "stream",
          "text": [
            "[0.23499999940395355, 0.20399999618530273, 0.21799999475479126, 0.3440000116825104, 0.4309999942779541, 0.4480000138282776, 0.5019999742507935, 0.47999998927116394, 0.531000018119812, 0.5429999828338623, 0.527999997138977, 0.5109999775886536, 0.5350000262260437, 0.5509999990463257, 0.5490000247955322, 0.5580000281333923, 0.5509999990463257, 0.5559999942779541, 0.5479999780654907, 0.5669999718666077, 0.5590000152587891, 0.5659999847412109, 0.5519999861717224, 0.5699999928474426, 0.5669999718666077, 0.5649999976158142, 0.531000018119812, 0.5410000085830688, 0.5709999799728394, 0.5630000233650208]\n"
          ],
          "name": "stdout"
        },
        {
          "output_type": "display_data",
          "data": {
            "image/png": "[encoded data removed]",
            "text/plain": [
              "<Figure size 720x288 with 2 Axes>"
            ]
          },
          "metadata": {
            "tags": [],
            "needs_background": "light"
          }
        }
      ]
    },
    {
      "cell_type": "markdown",
      "metadata": {
        "id": "athletic-montreal"
      },
      "source": [
        ""
      ],
      "id": "athletic-montreal"
    }
  ]
}