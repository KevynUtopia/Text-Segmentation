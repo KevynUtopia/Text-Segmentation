{
  "nbformat": 4,
  "nbformat_minor": 0,
  "metadata": {
    "kernelspec": {
      "display_name": "Python 3",
      "language": "python",
      "name": "python3"
    },
    "language_info": {
      "codemirror_mode": {
        "name": "ipython",
        "version": 3
      },
      "file_extension": ".py",
      "mimetype": "text/x-python",
      "name": "python",
      "nbconvert_exporter": "python",
      "pygments_lexer": "ipython3",
      "version": "3.8.3"
    },
    "colab": {
      "name": "Project 1 - BERT & RNN & Logistic R.ipynb",
      "provenance": [],
      "collapsed_sections": [
        "5h_i23QaNavD",
        "Z69bZWrHNavD",
        "kSrKghw0NavH",
        "5NErckS4NavN",
        "gu4HBEFVNavO",
        "zQty2UZFNavP"
      ]
    },
    "accelerator": "GPU",
    "widgets": {
      "application/vnd.jupyter.widget-state+json": {
        "bca1caf5adee4e798e03fd539b2978b8": {
          "model_module": "@jupyter-widgets/controls",
          "model_name": "HBoxModel",
          "state": {
            "_view_name": "HBoxView",
            "_dom_classes": [],
            "_model_name": "HBoxModel",
            "_view_module": "@jupyter-widgets/controls",
            "_model_module_version": "1.5.0",
            "_view_count": null,
            "_view_module_version": "1.5.0",
            "box_style": "",
            "layout": "IPY_MODEL_1b70710b2b784318adee221c2a848dd6",
            "_model_module": "@jupyter-widgets/controls",
            "children": [
              "IPY_MODEL_bc29b317f1d440d8849e9579fc267ad4",
              "IPY_MODEL_43171e979f314ae385027a7ccc03025b"
            ]
          }
        },
        "1b70710b2b784318adee221c2a848dd6": {
          "model_module": "@jupyter-widgets/base",
          "model_name": "LayoutModel",
          "state": {
            "_view_name": "LayoutView",
            "grid_template_rows": null,
            "right": null,
            "justify_content": null,
            "_view_module": "@jupyter-widgets/base",
            "overflow": null,
            "_model_module_version": "1.2.0",
            "_view_count": null,
            "flex_flow": null,
            "width": null,
            "min_width": null,
            "border": null,
            "align_items": null,
            "bottom": null,
            "_model_module": "@jupyter-widgets/base",
            "top": null,
            "grid_column": null,
            "overflow_y": null,
            "overflow_x": null,
            "grid_auto_flow": null,
            "grid_area": null,
            "grid_template_columns": null,
            "flex": null,
            "_model_name": "LayoutModel",
            "justify_items": null,
            "grid_row": null,
            "max_height": null,
            "align_content": null,
            "visibility": null,
            "align_self": null,
            "height": null,
            "min_height": null,
            "padding": null,
            "grid_auto_rows": null,
            "grid_gap": null,
            "max_width": null,
            "order": null,
            "_view_module_version": "1.2.0",
            "grid_template_areas": null,
            "object_position": null,
            "object_fit": null,
            "grid_auto_columns": null,
            "margin": null,
            "display": null,
            "left": null
          }
        },
        "bc29b317f1d440d8849e9579fc267ad4": {
          "model_module": "@jupyter-widgets/controls",
          "model_name": "FloatProgressModel",
          "state": {
            "_view_name": "ProgressView",
            "style": "IPY_MODEL_2be19d5f0f034b8580f5bb162d821796",
            "_dom_classes": [],
            "description": "Downloading: 100%",
            "_model_name": "FloatProgressModel",
            "bar_style": "success",
            "max": 231508,
            "_view_module": "@jupyter-widgets/controls",
            "_model_module_version": "1.5.0",
            "value": 231508,
            "_view_count": null,
            "_view_module_version": "1.5.0",
            "orientation": "horizontal",
            "min": 0,
            "description_tooltip": null,
            "_model_module": "@jupyter-widgets/controls",
            "layout": "IPY_MODEL_b48453cfe9144b75a703bd621d9ca574"
          }
        },
        "43171e979f314ae385027a7ccc03025b": {
          "model_module": "@jupyter-widgets/controls",
          "model_name": "HTMLModel",
          "state": {
            "_view_name": "HTMLView",
            "style": "IPY_MODEL_87f18769fc8d45a397454da085812c25",
            "_dom_classes": [],
            "description": "",
            "_model_name": "HTMLModel",
            "placeholder": "​",
            "_view_module": "@jupyter-widgets/controls",
            "_model_module_version": "1.5.0",
            "value": " 232k/232k [00:01&lt;00:00, 214kB/s]",
            "_view_count": null,
            "_view_module_version": "1.5.0",
            "description_tooltip": null,
            "_model_module": "@jupyter-widgets/controls",
            "layout": "IPY_MODEL_0f3f223023a8489784e2a9481e54fb15"
          }
        },
        "2be19d5f0f034b8580f5bb162d821796": {
          "model_module": "@jupyter-widgets/controls",
          "model_name": "ProgressStyleModel",
          "state": {
            "_view_name": "StyleView",
            "_model_name": "ProgressStyleModel",
            "description_width": "initial",
            "_view_module": "@jupyter-widgets/base",
            "_model_module_version": "1.5.0",
            "_view_count": null,
            "_view_module_version": "1.2.0",
            "bar_color": null,
            "_model_module": "@jupyter-widgets/controls"
          }
        },
        "b48453cfe9144b75a703bd621d9ca574": {
          "model_module": "@jupyter-widgets/base",
          "model_name": "LayoutModel",
          "state": {
            "_view_name": "LayoutView",
            "grid_template_rows": null,
            "right": null,
            "justify_content": null,
            "_view_module": "@jupyter-widgets/base",
            "overflow": null,
            "_model_module_version": "1.2.0",
            "_view_count": null,
            "flex_flow": null,
            "width": null,
            "min_width": null,
            "border": null,
            "align_items": null,
            "bottom": null,
            "_model_module": "@jupyter-widgets/base",
            "top": null,
            "grid_column": null,
            "overflow_y": null,
            "overflow_x": null,
            "grid_auto_flow": null,
            "grid_area": null,
            "grid_template_columns": null,
            "flex": null,
            "_model_name": "LayoutModel",
            "justify_items": null,
            "grid_row": null,
            "max_height": null,
            "align_content": null,
            "visibility": null,
            "align_self": null,
            "height": null,
            "min_height": null,
            "padding": null,
            "grid_auto_rows": null,
            "grid_gap": null,
            "max_width": null,
            "order": null,
            "_view_module_version": "1.2.0",
            "grid_template_areas": null,
            "object_position": null,
            "object_fit": null,
            "grid_auto_columns": null,
            "margin": null,
            "display": null,
            "left": null
          }
        },
        "87f18769fc8d45a397454da085812c25": {
          "model_module": "@jupyter-widgets/controls",
          "model_name": "DescriptionStyleModel",
          "state": {
            "_view_name": "StyleView",
            "_model_name": "DescriptionStyleModel",
            "description_width": "",
            "_view_module": "@jupyter-widgets/base",
            "_model_module_version": "1.5.0",
            "_view_count": null,
            "_view_module_version": "1.2.0",
            "_model_module": "@jupyter-widgets/controls"
          }
        },
        "0f3f223023a8489784e2a9481e54fb15": {
          "model_module": "@jupyter-widgets/base",
          "model_name": "LayoutModel",
          "state": {
            "_view_name": "LayoutView",
            "grid_template_rows": null,
            "right": null,
            "justify_content": null,
            "_view_module": "@jupyter-widgets/base",
            "overflow": null,
            "_model_module_version": "1.2.0",
            "_view_count": null,
            "flex_flow": null,
            "width": null,
            "min_width": null,
            "border": null,
            "align_items": null,
            "bottom": null,
            "_model_module": "@jupyter-widgets/base",
            "top": null,
            "grid_column": null,
            "overflow_y": null,
            "overflow_x": null,
            "grid_auto_flow": null,
            "grid_area": null,
            "grid_template_columns": null,
            "flex": null,
            "_model_name": "LayoutModel",
            "justify_items": null,
            "grid_row": null,
            "max_height": null,
            "align_content": null,
            "visibility": null,
            "align_self": null,
            "height": null,
            "min_height": null,
            "padding": null,
            "grid_auto_rows": null,
            "grid_gap": null,
            "max_width": null,
            "order": null,
            "_view_module_version": "1.2.0",
            "grid_template_areas": null,
            "object_position": null,
            "object_fit": null,
            "grid_auto_columns": null,
            "margin": null,
            "display": null,
            "left": null
          }
        },
        "eaf2e85e11834830b3fa57f2bb2c1915": {
          "model_module": "@jupyter-widgets/controls",
          "model_name": "HBoxModel",
          "state": {
            "_view_name": "HBoxView",
            "_dom_classes": [],
            "_model_name": "HBoxModel",
            "_view_module": "@jupyter-widgets/controls",
            "_model_module_version": "1.5.0",
            "_view_count": null,
            "_view_module_version": "1.5.0",
            "box_style": "",
            "layout": "IPY_MODEL_81d5fc68ec56480d92b4d643cf3663e5",
            "_model_module": "@jupyter-widgets/controls",
            "children": [
              "IPY_MODEL_be2d2d7c17294177bbb76506cbf6b1fc",
              "IPY_MODEL_6419bcfa5c2b4d2396fd7a55ecb18765"
            ]
          }
        },
        "81d5fc68ec56480d92b4d643cf3663e5": {
          "model_module": "@jupyter-widgets/base",
          "model_name": "LayoutModel",
          "state": {
            "_view_name": "LayoutView",
            "grid_template_rows": null,
            "right": null,
            "justify_content": null,
            "_view_module": "@jupyter-widgets/base",
            "overflow": null,
            "_model_module_version": "1.2.0",
            "_view_count": null,
            "flex_flow": null,
            "width": null,
            "min_width": null,
            "border": null,
            "align_items": null,
            "bottom": null,
            "_model_module": "@jupyter-widgets/base",
            "top": null,
            "grid_column": null,
            "overflow_y": null,
            "overflow_x": null,
            "grid_auto_flow": null,
            "grid_area": null,
            "grid_template_columns": null,
            "flex": null,
            "_model_name": "LayoutModel",
            "justify_items": null,
            "grid_row": null,
            "max_height": null,
            "align_content": null,
            "visibility": null,
            "align_self": null,
            "height": null,
            "min_height": null,
            "padding": null,
            "grid_auto_rows": null,
            "grid_gap": null,
            "max_width": null,
            "order": null,
            "_view_module_version": "1.2.0",
            "grid_template_areas": null,
            "object_position": null,
            "object_fit": null,
            "grid_auto_columns": null,
            "margin": null,
            "display": null,
            "left": null
          }
        },
        "be2d2d7c17294177bbb76506cbf6b1fc": {
          "model_module": "@jupyter-widgets/controls",
          "model_name": "FloatProgressModel",
          "state": {
            "_view_name": "ProgressView",
            "style": "IPY_MODEL_aa805d016a074ce9add91f77a3a2b2e1",
            "_dom_classes": [],
            "description": "Downloading: 100%",
            "_model_name": "FloatProgressModel",
            "bar_style": "success",
            "max": 28,
            "_view_module": "@jupyter-widgets/controls",
            "_model_module_version": "1.5.0",
            "value": 28,
            "_view_count": null,
            "_view_module_version": "1.5.0",
            "orientation": "horizontal",
            "min": 0,
            "description_tooltip": null,
            "_model_module": "@jupyter-widgets/controls",
            "layout": "IPY_MODEL_0c272c723f20498b90bef09b3edab6a5"
          }
        },
        "6419bcfa5c2b4d2396fd7a55ecb18765": {
          "model_module": "@jupyter-widgets/controls",
          "model_name": "HTMLModel",
          "state": {
            "_view_name": "HTMLView",
            "style": "IPY_MODEL_25a089669d7f4d9d932e10ca5e70b799",
            "_dom_classes": [],
            "description": "",
            "_model_name": "HTMLModel",
            "placeholder": "​",
            "_view_module": "@jupyter-widgets/controls",
            "_model_module_version": "1.5.0",
            "value": " 28.0/28.0 [00:00&lt;00:00, 34.0B/s]",
            "_view_count": null,
            "_view_module_version": "1.5.0",
            "description_tooltip": null,
            "_model_module": "@jupyter-widgets/controls",
            "layout": "IPY_MODEL_11a5e9b7f8c24ed5b574ed6072061f61"
          }
        },
        "aa805d016a074ce9add91f77a3a2b2e1": {
          "model_module": "@jupyter-widgets/controls",
          "model_name": "ProgressStyleModel",
          "state": {
            "_view_name": "StyleView",
            "_model_name": "ProgressStyleModel",
            "description_width": "initial",
            "_view_module": "@jupyter-widgets/base",
            "_model_module_version": "1.5.0",
            "_view_count": null,
            "_view_module_version": "1.2.0",
            "bar_color": null,
            "_model_module": "@jupyter-widgets/controls"
          }
        },
        "0c272c723f20498b90bef09b3edab6a5": {
          "model_module": "@jupyter-widgets/base",
          "model_name": "LayoutModel",
          "state": {
            "_view_name": "LayoutView",
            "grid_template_rows": null,
            "right": null,
            "justify_content": null,
            "_view_module": "@jupyter-widgets/base",
            "overflow": null,
            "_model_module_version": "1.2.0",
            "_view_count": null,
            "flex_flow": null,
            "width": null,
            "min_width": null,
            "border": null,
            "align_items": null,
            "bottom": null,
            "_model_module": "@jupyter-widgets/base",
            "top": null,
            "grid_column": null,
            "overflow_y": null,
            "overflow_x": null,
            "grid_auto_flow": null,
            "grid_area": null,
            "grid_template_columns": null,
            "flex": null,
            "_model_name": "LayoutModel",
            "justify_items": null,
            "grid_row": null,
            "max_height": null,
            "align_content": null,
            "visibility": null,
            "align_self": null,
            "height": null,
            "min_height": null,
            "padding": null,
            "grid_auto_rows": null,
            "grid_gap": null,
            "max_width": null,
            "order": null,
            "_view_module_version": "1.2.0",
            "grid_template_areas": null,
            "object_position": null,
            "object_fit": null,
            "grid_auto_columns": null,
            "margin": null,
            "display": null,
            "left": null
          }
        },
        "25a089669d7f4d9d932e10ca5e70b799": {
          "model_module": "@jupyter-widgets/controls",
          "model_name": "DescriptionStyleModel",
          "state": {
            "_view_name": "StyleView",
            "_model_name": "DescriptionStyleModel",
            "description_width": "",
            "_view_module": "@jupyter-widgets/base",
            "_model_module_version": "1.5.0",
            "_view_count": null,
            "_view_module_version": "1.2.0",
            "_model_module": "@jupyter-widgets/controls"
          }
        },
        "11a5e9b7f8c24ed5b574ed6072061f61": {
          "model_module": "@jupyter-widgets/base",
          "model_name": "LayoutModel",
          "state": {
            "_view_name": "LayoutView",
            "grid_template_rows": null,
            "right": null,
            "justify_content": null,
            "_view_module": "@jupyter-widgets/base",
            "overflow": null,
            "_model_module_version": "1.2.0",
            "_view_count": null,
            "flex_flow": null,
            "width": null,
            "min_width": null,
            "border": null,
            "align_items": null,
            "bottom": null,
            "_model_module": "@jupyter-widgets/base",
            "top": null,
            "grid_column": null,
            "overflow_y": null,
            "overflow_x": null,
            "grid_auto_flow": null,
            "grid_area": null,
            "grid_template_columns": null,
            "flex": null,
            "_model_name": "LayoutModel",
            "justify_items": null,
            "grid_row": null,
            "max_height": null,
            "align_content": null,
            "visibility": null,
            "align_self": null,
            "height": null,
            "min_height": null,
            "padding": null,
            "grid_auto_rows": null,
            "grid_gap": null,
            "max_width": null,
            "order": null,
            "_view_module_version": "1.2.0",
            "grid_template_areas": null,
            "object_position": null,
            "object_fit": null,
            "grid_auto_columns": null,
            "margin": null,
            "display": null,
            "left": null
          }
        },
        "f2c61ac4932249d49df4bd6a11129c7e": {
          "model_module": "@jupyter-widgets/controls",
          "model_name": "HBoxModel",
          "state": {
            "_view_name": "HBoxView",
            "_dom_classes": [],
            "_model_name": "HBoxModel",
            "_view_module": "@jupyter-widgets/controls",
            "_model_module_version": "1.5.0",
            "_view_count": null,
            "_view_module_version": "1.5.0",
            "box_style": "",
            "layout": "IPY_MODEL_96b91de876f34f098ca51065592eb0de",
            "_model_module": "@jupyter-widgets/controls",
            "children": [
              "IPY_MODEL_190e59e8eaae4a7d8327bb198285330f",
              "IPY_MODEL_a43c9518f6d547bb9012fe7a3d1400fb"
            ]
          }
        },
        "96b91de876f34f098ca51065592eb0de": {
          "model_module": "@jupyter-widgets/base",
          "model_name": "LayoutModel",
          "state": {
            "_view_name": "LayoutView",
            "grid_template_rows": null,
            "right": null,
            "justify_content": null,
            "_view_module": "@jupyter-widgets/base",
            "overflow": null,
            "_model_module_version": "1.2.0",
            "_view_count": null,
            "flex_flow": null,
            "width": null,
            "min_width": null,
            "border": null,
            "align_items": null,
            "bottom": null,
            "_model_module": "@jupyter-widgets/base",
            "top": null,
            "grid_column": null,
            "overflow_y": null,
            "overflow_x": null,
            "grid_auto_flow": null,
            "grid_area": null,
            "grid_template_columns": null,
            "flex": null,
            "_model_name": "LayoutModel",
            "justify_items": null,
            "grid_row": null,
            "max_height": null,
            "align_content": null,
            "visibility": null,
            "align_self": null,
            "height": null,
            "min_height": null,
            "padding": null,
            "grid_auto_rows": null,
            "grid_gap": null,
            "max_width": null,
            "order": null,
            "_view_module_version": "1.2.0",
            "grid_template_areas": null,
            "object_position": null,
            "object_fit": null,
            "grid_auto_columns": null,
            "margin": null,
            "display": null,
            "left": null
          }
        },
        "190e59e8eaae4a7d8327bb198285330f": {
          "model_module": "@jupyter-widgets/controls",
          "model_name": "FloatProgressModel",
          "state": {
            "_view_name": "ProgressView",
            "style": "IPY_MODEL_c783343f25f04066aaa071dba1abeee8",
            "_dom_classes": [],
            "description": "Downloading: 100%",
            "_model_name": "FloatProgressModel",
            "bar_style": "success",
            "max": 466062,
            "_view_module": "@jupyter-widgets/controls",
            "_model_module_version": "1.5.0",
            "value": 466062,
            "_view_count": null,
            "_view_module_version": "1.5.0",
            "orientation": "horizontal",
            "min": 0,
            "description_tooltip": null,
            "_model_module": "@jupyter-widgets/controls",
            "layout": "IPY_MODEL_08b30435ec5b4e61947211de97ba6700"
          }
        },
        "a43c9518f6d547bb9012fe7a3d1400fb": {
          "model_module": "@jupyter-widgets/controls",
          "model_name": "HTMLModel",
          "state": {
            "_view_name": "HTMLView",
            "style": "IPY_MODEL_539d096d971042e98c1da28fd7ba5add",
            "_dom_classes": [],
            "description": "",
            "_model_name": "HTMLModel",
            "placeholder": "​",
            "_view_module": "@jupyter-widgets/controls",
            "_model_module_version": "1.5.0",
            "value": " 466k/466k [00:00&lt;00:00, 1.37MB/s]",
            "_view_count": null,
            "_view_module_version": "1.5.0",
            "description_tooltip": null,
            "_model_module": "@jupyter-widgets/controls",
            "layout": "IPY_MODEL_bd0252cf36424f3e8cd4110e04dd471e"
          }
        },
        "c783343f25f04066aaa071dba1abeee8": {
          "model_module": "@jupyter-widgets/controls",
          "model_name": "ProgressStyleModel",
          "state": {
            "_view_name": "StyleView",
            "_model_name": "ProgressStyleModel",
            "description_width": "initial",
            "_view_module": "@jupyter-widgets/base",
            "_model_module_version": "1.5.0",
            "_view_count": null,
            "_view_module_version": "1.2.0",
            "bar_color": null,
            "_model_module": "@jupyter-widgets/controls"
          }
        },
        "08b30435ec5b4e61947211de97ba6700": {
          "model_module": "@jupyter-widgets/base",
          "model_name": "LayoutModel",
          "state": {
            "_view_name": "LayoutView",
            "grid_template_rows": null,
            "right": null,
            "justify_content": null,
            "_view_module": "@jupyter-widgets/base",
            "overflow": null,
            "_model_module_version": "1.2.0",
            "_view_count": null,
            "flex_flow": null,
            "width": null,
            "min_width": null,
            "border": null,
            "align_items": null,
            "bottom": null,
            "_model_module": "@jupyter-widgets/base",
            "top": null,
            "grid_column": null,
            "overflow_y": null,
            "overflow_x": null,
            "grid_auto_flow": null,
            "grid_area": null,
            "grid_template_columns": null,
            "flex": null,
            "_model_name": "LayoutModel",
            "justify_items": null,
            "grid_row": null,
            "max_height": null,
            "align_content": null,
            "visibility": null,
            "align_self": null,
            "height": null,
            "min_height": null,
            "padding": null,
            "grid_auto_rows": null,
            "grid_gap": null,
            "max_width": null,
            "order": null,
            "_view_module_version": "1.2.0",
            "grid_template_areas": null,
            "object_position": null,
            "object_fit": null,
            "grid_auto_columns": null,
            "margin": null,
            "display": null,
            "left": null
          }
        },
        "539d096d971042e98c1da28fd7ba5add": {
          "model_module": "@jupyter-widgets/controls",
          "model_name": "DescriptionStyleModel",
          "state": {
            "_view_name": "StyleView",
            "_model_name": "DescriptionStyleModel",
            "description_width": "",
            "_view_module": "@jupyter-widgets/base",
            "_model_module_version": "1.5.0",
            "_view_count": null,
            "_view_module_version": "1.2.0",
            "_model_module": "@jupyter-widgets/controls"
          }
        },
        "bd0252cf36424f3e8cd4110e04dd471e": {
          "model_module": "@jupyter-widgets/base",
          "model_name": "LayoutModel",
          "state": {
            "_view_name": "LayoutView",
            "grid_template_rows": null,
            "right": null,
            "justify_content": null,
            "_view_module": "@jupyter-widgets/base",
            "overflow": null,
            "_model_module_version": "1.2.0",
            "_view_count": null,
            "flex_flow": null,
            "width": null,
            "min_width": null,
            "border": null,
            "align_items": null,
            "bottom": null,
            "_model_module": "@jupyter-widgets/base",
            "top": null,
            "grid_column": null,
            "overflow_y": null,
            "overflow_x": null,
            "grid_auto_flow": null,
            "grid_area": null,
            "grid_template_columns": null,
            "flex": null,
            "_model_name": "LayoutModel",
            "justify_items": null,
            "grid_row": null,
            "max_height": null,
            "align_content": null,
            "visibility": null,
            "align_self": null,
            "height": null,
            "min_height": null,
            "padding": null,
            "grid_auto_rows": null,
            "grid_gap": null,
            "max_width": null,
            "order": null,
            "_view_module_version": "1.2.0",
            "grid_template_areas": null,
            "object_position": null,
            "object_fit": null,
            "grid_auto_columns": null,
            "margin": null,
            "display": null,
            "left": null
          }
        },
        "d5aa8f1cd07f4007b623c36df799379d": {
          "model_module": "@jupyter-widgets/controls",
          "model_name": "HBoxModel",
          "state": {
            "_view_name": "HBoxView",
            "_dom_classes": [],
            "_model_name": "HBoxModel",
            "_view_module": "@jupyter-widgets/controls",
            "_model_module_version": "1.5.0",
            "_view_count": null,
            "_view_module_version": "1.5.0",
            "box_style": "",
            "layout": "IPY_MODEL_dceff397b10f47a4a0e890c31927da5d",
            "_model_module": "@jupyter-widgets/controls",
            "children": [
              "IPY_MODEL_cf3db48c4cb3463bb60ad2bd60bbfcdc",
              "IPY_MODEL_9949f7adb8744cd58ecccbd683dba637"
            ]
          }
        },
        "dceff397b10f47a4a0e890c31927da5d": {
          "model_module": "@jupyter-widgets/base",
          "model_name": "LayoutModel",
          "state": {
            "_view_name": "LayoutView",
            "grid_template_rows": null,
            "right": null,
            "justify_content": null,
            "_view_module": "@jupyter-widgets/base",
            "overflow": null,
            "_model_module_version": "1.2.0",
            "_view_count": null,
            "flex_flow": null,
            "width": null,
            "min_width": null,
            "border": null,
            "align_items": null,
            "bottom": null,
            "_model_module": "@jupyter-widgets/base",
            "top": null,
            "grid_column": null,
            "overflow_y": null,
            "overflow_x": null,
            "grid_auto_flow": null,
            "grid_area": null,
            "grid_template_columns": null,
            "flex": null,
            "_model_name": "LayoutModel",
            "justify_items": null,
            "grid_row": null,
            "max_height": null,
            "align_content": null,
            "visibility": null,
            "align_self": null,
            "height": null,
            "min_height": null,
            "padding": null,
            "grid_auto_rows": null,
            "grid_gap": null,
            "max_width": null,
            "order": null,
            "_view_module_version": "1.2.0",
            "grid_template_areas": null,
            "object_position": null,
            "object_fit": null,
            "grid_auto_columns": null,
            "margin": null,
            "display": null,
            "left": null
          }
        },
        "cf3db48c4cb3463bb60ad2bd60bbfcdc": {
          "model_module": "@jupyter-widgets/controls",
          "model_name": "FloatProgressModel",
          "state": {
            "_view_name": "ProgressView",
            "style": "IPY_MODEL_aacd342744ee4410b4fd50f777842929",
            "_dom_classes": [],
            "description": "Downloading: 100%",
            "_model_name": "FloatProgressModel",
            "bar_style": "success",
            "max": 433,
            "_view_module": "@jupyter-widgets/controls",
            "_model_module_version": "1.5.0",
            "value": 433,
            "_view_count": null,
            "_view_module_version": "1.5.0",
            "orientation": "horizontal",
            "min": 0,
            "description_tooltip": null,
            "_model_module": "@jupyter-widgets/controls",
            "layout": "IPY_MODEL_266efb55cd6c47999eb167092e419137"
          }
        },
        "9949f7adb8744cd58ecccbd683dba637": {
          "model_module": "@jupyter-widgets/controls",
          "model_name": "HTMLModel",
          "state": {
            "_view_name": "HTMLView",
            "style": "IPY_MODEL_79e9c9841c204a4abb90b2bea6db5732",
            "_dom_classes": [],
            "description": "",
            "_model_name": "HTMLModel",
            "placeholder": "​",
            "_view_module": "@jupyter-widgets/controls",
            "_model_module_version": "1.5.0",
            "value": " 433/433 [00:00&lt;00:00, 1.67kB/s]",
            "_view_count": null,
            "_view_module_version": "1.5.0",
            "description_tooltip": null,
            "_model_module": "@jupyter-widgets/controls",
            "layout": "IPY_MODEL_9964768191b740a38343c77e27688e50"
          }
        },
        "aacd342744ee4410b4fd50f777842929": {
          "model_module": "@jupyter-widgets/controls",
          "model_name": "ProgressStyleModel",
          "state": {
            "_view_name": "StyleView",
            "_model_name": "ProgressStyleModel",
            "description_width": "initial",
            "_view_module": "@jupyter-widgets/base",
            "_model_module_version": "1.5.0",
            "_view_count": null,
            "_view_module_version": "1.2.0",
            "bar_color": null,
            "_model_module": "@jupyter-widgets/controls"
          }
        },
        "266efb55cd6c47999eb167092e419137": {
          "model_module": "@jupyter-widgets/base",
          "model_name": "LayoutModel",
          "state": {
            "_view_name": "LayoutView",
            "grid_template_rows": null,
            "right": null,
            "justify_content": null,
            "_view_module": "@jupyter-widgets/base",
            "overflow": null,
            "_model_module_version": "1.2.0",
            "_view_count": null,
            "flex_flow": null,
            "width": null,
            "min_width": null,
            "border": null,
            "align_items": null,
            "bottom": null,
            "_model_module": "@jupyter-widgets/base",
            "top": null,
            "grid_column": null,
            "overflow_y": null,
            "overflow_x": null,
            "grid_auto_flow": null,
            "grid_area": null,
            "grid_template_columns": null,
            "flex": null,
            "_model_name": "LayoutModel",
            "justify_items": null,
            "grid_row": null,
            "max_height": null,
            "align_content": null,
            "visibility": null,
            "align_self": null,
            "height": null,
            "min_height": null,
            "padding": null,
            "grid_auto_rows": null,
            "grid_gap": null,
            "max_width": null,
            "order": null,
            "_view_module_version": "1.2.0",
            "grid_template_areas": null,
            "object_position": null,
            "object_fit": null,
            "grid_auto_columns": null,
            "margin": null,
            "display": null,
            "left": null
          }
        },
        "79e9c9841c204a4abb90b2bea6db5732": {
          "model_module": "@jupyter-widgets/controls",
          "model_name": "DescriptionStyleModel",
          "state": {
            "_view_name": "StyleView",
            "_model_name": "DescriptionStyleModel",
            "description_width": "",
            "_view_module": "@jupyter-widgets/base",
            "_model_module_version": "1.5.0",
            "_view_count": null,
            "_view_module_version": "1.2.0",
            "_model_module": "@jupyter-widgets/controls"
          }
        },
        "9964768191b740a38343c77e27688e50": {
          "model_module": "@jupyter-widgets/base",
          "model_name": "LayoutModel",
          "state": {
            "_view_name": "LayoutView",
            "grid_template_rows": null,
            "right": null,
            "justify_content": null,
            "_view_module": "@jupyter-widgets/base",
            "overflow": null,
            "_model_module_version": "1.2.0",
            "_view_count": null,
            "flex_flow": null,
            "width": null,
            "min_width": null,
            "border": null,
            "align_items": null,
            "bottom": null,
            "_model_module": "@jupyter-widgets/base",
            "top": null,
            "grid_column": null,
            "overflow_y": null,
            "overflow_x": null,
            "grid_auto_flow": null,
            "grid_area": null,
            "grid_template_columns": null,
            "flex": null,
            "_model_name": "LayoutModel",
            "justify_items": null,
            "grid_row": null,
            "max_height": null,
            "align_content": null,
            "visibility": null,
            "align_self": null,
            "height": null,
            "min_height": null,
            "padding": null,
            "grid_auto_rows": null,
            "grid_gap": null,
            "max_width": null,
            "order": null,
            "_view_module_version": "1.2.0",
            "grid_template_areas": null,
            "object_position": null,
            "object_fit": null,
            "grid_auto_columns": null,
            "margin": null,
            "display": null,
            "left": null
          }
        },
        "b9ebae55546c470ca71b617f912f54fd": {
          "model_module": "@jupyter-widgets/controls",
          "model_name": "HBoxModel",
          "state": {
            "_view_name": "HBoxView",
            "_dom_classes": [],
            "_model_name": "HBoxModel",
            "_view_module": "@jupyter-widgets/controls",
            "_model_module_version": "1.5.0",
            "_view_count": null,
            "_view_module_version": "1.5.0",
            "box_style": "",
            "layout": "IPY_MODEL_990899f604634f67804b3aee7f7a6e7a",
            "_model_module": "@jupyter-widgets/controls",
            "children": [
              "IPY_MODEL_2a570faec16c412f82bdacfc3bf96452",
              "IPY_MODEL_330f5d572b57449ab3fea8bbbc96ae32"
            ]
          }
        },
        "990899f604634f67804b3aee7f7a6e7a": {
          "model_module": "@jupyter-widgets/base",
          "model_name": "LayoutModel",
          "state": {
            "_view_name": "LayoutView",
            "grid_template_rows": null,
            "right": null,
            "justify_content": null,
            "_view_module": "@jupyter-widgets/base",
            "overflow": null,
            "_model_module_version": "1.2.0",
            "_view_count": null,
            "flex_flow": null,
            "width": null,
            "min_width": null,
            "border": null,
            "align_items": null,
            "bottom": null,
            "_model_module": "@jupyter-widgets/base",
            "top": null,
            "grid_column": null,
            "overflow_y": null,
            "overflow_x": null,
            "grid_auto_flow": null,
            "grid_area": null,
            "grid_template_columns": null,
            "flex": null,
            "_model_name": "LayoutModel",
            "justify_items": null,
            "grid_row": null,
            "max_height": null,
            "align_content": null,
            "visibility": null,
            "align_self": null,
            "height": null,
            "min_height": null,
            "padding": null,
            "grid_auto_rows": null,
            "grid_gap": null,
            "max_width": null,
            "order": null,
            "_view_module_version": "1.2.0",
            "grid_template_areas": null,
            "object_position": null,
            "object_fit": null,
            "grid_auto_columns": null,
            "margin": null,
            "display": null,
            "left": null
          }
        },
        "2a570faec16c412f82bdacfc3bf96452": {
          "model_module": "@jupyter-widgets/controls",
          "model_name": "FloatProgressModel",
          "state": {
            "_view_name": "ProgressView",
            "style": "IPY_MODEL_365b9b0652df4ea791b06a7414f3aab6",
            "_dom_classes": [],
            "description": "Downloading: 100%",
            "_model_name": "FloatProgressModel",
            "bar_style": "success",
            "max": 440473133,
            "_view_module": "@jupyter-widgets/controls",
            "_model_module_version": "1.5.0",
            "value": 440473133,
            "_view_count": null,
            "_view_module_version": "1.5.0",
            "orientation": "horizontal",
            "min": 0,
            "description_tooltip": null,
            "_model_module": "@jupyter-widgets/controls",
            "layout": "IPY_MODEL_294c8af658d24cc78ee13b6d5fdab3eb"
          }
        },
        "330f5d572b57449ab3fea8bbbc96ae32": {
          "model_module": "@jupyter-widgets/controls",
          "model_name": "HTMLModel",
          "state": {
            "_view_name": "HTMLView",
            "style": "IPY_MODEL_4feded04031449d1bae3ad36e15d43c8",
            "_dom_classes": [],
            "description": "",
            "_model_name": "HTMLModel",
            "placeholder": "​",
            "_view_module": "@jupyter-widgets/controls",
            "_model_module_version": "1.5.0",
            "value": " 440M/440M [00:08&lt;00:00, 52.7MB/s]",
            "_view_count": null,
            "_view_module_version": "1.5.0",
            "description_tooltip": null,
            "_model_module": "@jupyter-widgets/controls",
            "layout": "IPY_MODEL_0f3bcc7574ee4da98dc539217e744de9"
          }
        },
        "365b9b0652df4ea791b06a7414f3aab6": {
          "model_module": "@jupyter-widgets/controls",
          "model_name": "ProgressStyleModel",
          "state": {
            "_view_name": "StyleView",
            "_model_name": "ProgressStyleModel",
            "description_width": "initial",
            "_view_module": "@jupyter-widgets/base",
            "_model_module_version": "1.5.0",
            "_view_count": null,
            "_view_module_version": "1.2.0",
            "bar_color": null,
            "_model_module": "@jupyter-widgets/controls"
          }
        },
        "294c8af658d24cc78ee13b6d5fdab3eb": {
          "model_module": "@jupyter-widgets/base",
          "model_name": "LayoutModel",
          "state": {
            "_view_name": "LayoutView",
            "grid_template_rows": null,
            "right": null,
            "justify_content": null,
            "_view_module": "@jupyter-widgets/base",
            "overflow": null,
            "_model_module_version": "1.2.0",
            "_view_count": null,
            "flex_flow": null,
            "width": null,
            "min_width": null,
            "border": null,
            "align_items": null,
            "bottom": null,
            "_model_module": "@jupyter-widgets/base",
            "top": null,
            "grid_column": null,
            "overflow_y": null,
            "overflow_x": null,
            "grid_auto_flow": null,
            "grid_area": null,
            "grid_template_columns": null,
            "flex": null,
            "_model_name": "LayoutModel",
            "justify_items": null,
            "grid_row": null,
            "max_height": null,
            "align_content": null,
            "visibility": null,
            "align_self": null,
            "height": null,
            "min_height": null,
            "padding": null,
            "grid_auto_rows": null,
            "grid_gap": null,
            "max_width": null,
            "order": null,
            "_view_module_version": "1.2.0",
            "grid_template_areas": null,
            "object_position": null,
            "object_fit": null,
            "grid_auto_columns": null,
            "margin": null,
            "display": null,
            "left": null
          }
        },
        "4feded04031449d1bae3ad36e15d43c8": {
          "model_module": "@jupyter-widgets/controls",
          "model_name": "DescriptionStyleModel",
          "state": {
            "_view_name": "StyleView",
            "_model_name": "DescriptionStyleModel",
            "description_width": "",
            "_view_module": "@jupyter-widgets/base",
            "_model_module_version": "1.5.0",
            "_view_count": null,
            "_view_module_version": "1.2.0",
            "_model_module": "@jupyter-widgets/controls"
          }
        },
        "0f3bcc7574ee4da98dc539217e744de9": {
          "model_module": "@jupyter-widgets/base",
          "model_name": "LayoutModel",
          "state": {
            "_view_name": "LayoutView",
            "grid_template_rows": null,
            "right": null,
            "justify_content": null,
            "_view_module": "@jupyter-widgets/base",
            "overflow": null,
            "_model_module_version": "1.2.0",
            "_view_count": null,
            "flex_flow": null,
            "width": null,
            "min_width": null,
            "border": null,
            "align_items": null,
            "bottom": null,
            "_model_module": "@jupyter-widgets/base",
            "top": null,
            "grid_column": null,
            "overflow_y": null,
            "overflow_x": null,
            "grid_auto_flow": null,
            "grid_area": null,
            "grid_template_columns": null,
            "flex": null,
            "_model_name": "LayoutModel",
            "justify_items": null,
            "grid_row": null,
            "max_height": null,
            "align_content": null,
            "visibility": null,
            "align_self": null,
            "height": null,
            "min_height": null,
            "padding": null,
            "grid_auto_rows": null,
            "grid_gap": null,
            "max_width": null,
            "order": null,
            "_view_module_version": "1.2.0",
            "grid_template_areas": null,
            "object_position": null,
            "object_fit": null,
            "grid_auto_columns": null,
            "margin": null,
            "display": null,
            "left": null
          }
        },
        "4e0ec2b274a8437ba2a5413f6d2470f4": {
          "model_module": "@jupyter-widgets/controls",
          "model_name": "HBoxModel",
          "state": {
            "_view_name": "HBoxView",
            "_dom_classes": [],
            "_model_name": "HBoxModel",
            "_view_module": "@jupyter-widgets/controls",
            "_model_module_version": "1.5.0",
            "_view_count": null,
            "_view_module_version": "1.5.0",
            "box_style": "",
            "layout": "IPY_MODEL_bef09493ddd54729aafcd9e0662d0047",
            "_model_module": "@jupyter-widgets/controls",
            "children": [
              "IPY_MODEL_50d0a53288d9466d81ed0ab92208e36b",
              "IPY_MODEL_3b5f909883f14b11b7e5669e7f431456"
            ]
          }
        },
        "bef09493ddd54729aafcd9e0662d0047": {
          "model_module": "@jupyter-widgets/base",
          "model_name": "LayoutModel",
          "state": {
            "_view_name": "LayoutView",
            "grid_template_rows": null,
            "right": null,
            "justify_content": null,
            "_view_module": "@jupyter-widgets/base",
            "overflow": null,
            "_model_module_version": "1.2.0",
            "_view_count": null,
            "flex_flow": null,
            "width": null,
            "min_width": null,
            "border": null,
            "align_items": null,
            "bottom": null,
            "_model_module": "@jupyter-widgets/base",
            "top": null,
            "grid_column": null,
            "overflow_y": null,
            "overflow_x": null,
            "grid_auto_flow": null,
            "grid_area": null,
            "grid_template_columns": null,
            "flex": null,
            "_model_name": "LayoutModel",
            "justify_items": null,
            "grid_row": null,
            "max_height": null,
            "align_content": null,
            "visibility": null,
            "align_self": null,
            "height": null,
            "min_height": null,
            "padding": null,
            "grid_auto_rows": null,
            "grid_gap": null,
            "max_width": null,
            "order": null,
            "_view_module_version": "1.2.0",
            "grid_template_areas": null,
            "object_position": null,
            "object_fit": null,
            "grid_auto_columns": null,
            "margin": null,
            "display": null,
            "left": null
          }
        },
        "50d0a53288d9466d81ed0ab92208e36b": {
          "model_module": "@jupyter-widgets/controls",
          "model_name": "FloatProgressModel",
          "state": {
            "_view_name": "ProgressView",
            "style": "IPY_MODEL_18ec9672c2674d6b8379182261638d06",
            "_dom_classes": [],
            "description": "100%",
            "_model_name": "FloatProgressModel",
            "bar_style": "success",
            "max": 2,
            "_view_module": "@jupyter-widgets/controls",
            "_model_module_version": "1.5.0",
            "value": 2,
            "_view_count": null,
            "_view_module_version": "1.5.0",
            "orientation": "horizontal",
            "min": 0,
            "description_tooltip": null,
            "_model_module": "@jupyter-widgets/controls",
            "layout": "IPY_MODEL_82486cf0b3a2405d970c762fca2cc4ec"
          }
        },
        "3b5f909883f14b11b7e5669e7f431456": {
          "model_module": "@jupyter-widgets/controls",
          "model_name": "HTMLModel",
          "state": {
            "_view_name": "HTMLView",
            "style": "IPY_MODEL_e6f749c2debf4fe9be9f5f79ffced30a",
            "_dom_classes": [],
            "description": "",
            "_model_name": "HTMLModel",
            "placeholder": "​",
            "_view_module": "@jupyter-widgets/controls",
            "_model_module_version": "1.5.0",
            "value": " 2/2 [15:53&lt;00:00, 476.99s/it]",
            "_view_count": null,
            "_view_module_version": "1.5.0",
            "description_tooltip": null,
            "_model_module": "@jupyter-widgets/controls",
            "layout": "IPY_MODEL_93e3870f466c425ab8902b5230757d56"
          }
        },
        "18ec9672c2674d6b8379182261638d06": {
          "model_module": "@jupyter-widgets/controls",
          "model_name": "ProgressStyleModel",
          "state": {
            "_view_name": "StyleView",
            "_model_name": "ProgressStyleModel",
            "description_width": "initial",
            "_view_module": "@jupyter-widgets/base",
            "_model_module_version": "1.5.0",
            "_view_count": null,
            "_view_module_version": "1.2.0",
            "bar_color": null,
            "_model_module": "@jupyter-widgets/controls"
          }
        },
        "82486cf0b3a2405d970c762fca2cc4ec": {
          "model_module": "@jupyter-widgets/base",
          "model_name": "LayoutModel",
          "state": {
            "_view_name": "LayoutView",
            "grid_template_rows": null,
            "right": null,
            "justify_content": null,
            "_view_module": "@jupyter-widgets/base",
            "overflow": null,
            "_model_module_version": "1.2.0",
            "_view_count": null,
            "flex_flow": null,
            "width": null,
            "min_width": null,
            "border": null,
            "align_items": null,
            "bottom": null,
            "_model_module": "@jupyter-widgets/base",
            "top": null,
            "grid_column": null,
            "overflow_y": null,
            "overflow_x": null,
            "grid_auto_flow": null,
            "grid_area": null,
            "grid_template_columns": null,
            "flex": null,
            "_model_name": "LayoutModel",
            "justify_items": null,
            "grid_row": null,
            "max_height": null,
            "align_content": null,
            "visibility": null,
            "align_self": null,
            "height": null,
            "min_height": null,
            "padding": null,
            "grid_auto_rows": null,
            "grid_gap": null,
            "max_width": null,
            "order": null,
            "_view_module_version": "1.2.0",
            "grid_template_areas": null,
            "object_position": null,
            "object_fit": null,
            "grid_auto_columns": null,
            "margin": null,
            "display": null,
            "left": null
          }
        },
        "e6f749c2debf4fe9be9f5f79ffced30a": {
          "model_module": "@jupyter-widgets/controls",
          "model_name": "DescriptionStyleModel",
          "state": {
            "_view_name": "StyleView",
            "_model_name": "DescriptionStyleModel",
            "description_width": "",
            "_view_module": "@jupyter-widgets/base",
            "_model_module_version": "1.5.0",
            "_view_count": null,
            "_view_module_version": "1.2.0",
            "_model_module": "@jupyter-widgets/controls"
          }
        },
        "93e3870f466c425ab8902b5230757d56": {
          "model_module": "@jupyter-widgets/base",
          "model_name": "LayoutModel",
          "state": {
            "_view_name": "LayoutView",
            "grid_template_rows": null,
            "right": null,
            "justify_content": null,
            "_view_module": "@jupyter-widgets/base",
            "overflow": null,
            "_model_module_version": "1.2.0",
            "_view_count": null,
            "flex_flow": null,
            "width": null,
            "min_width": null,
            "border": null,
            "align_items": null,
            "bottom": null,
            "_model_module": "@jupyter-widgets/base",
            "top": null,
            "grid_column": null,
            "overflow_y": null,
            "overflow_x": null,
            "grid_auto_flow": null,
            "grid_area": null,
            "grid_template_columns": null,
            "flex": null,
            "_model_name": "LayoutModel",
            "justify_items": null,
            "grid_row": null,
            "max_height": null,
            "align_content": null,
            "visibility": null,
            "align_self": null,
            "height": null,
            "min_height": null,
            "padding": null,
            "grid_auto_rows": null,
            "grid_gap": null,
            "max_width": null,
            "order": null,
            "_view_module_version": "1.2.0",
            "grid_template_areas": null,
            "object_position": null,
            "object_fit": null,
            "grid_auto_columns": null,
            "margin": null,
            "display": null,
            "left": null
          }
        },
        "3fd1708914ae4f52987e20dac4903e78": {
          "model_module": "@jupyter-widgets/controls",
          "model_name": "HBoxModel",
          "state": {
            "_view_name": "HBoxView",
            "_dom_classes": [],
            "_model_name": "HBoxModel",
            "_view_module": "@jupyter-widgets/controls",
            "_model_module_version": "1.5.0",
            "_view_count": null,
            "_view_module_version": "1.5.0",
            "box_style": "",
            "layout": "IPY_MODEL_9e6c08d8d4474c62bc11944ced88fe4e",
            "_model_module": "@jupyter-widgets/controls",
            "children": [
              "IPY_MODEL_156f21216b4c433e912c0ca1ee2f8aa1",
              "IPY_MODEL_d79f0019064d4060976ba0b87eb8c369"
            ]
          }
        },
        "9e6c08d8d4474c62bc11944ced88fe4e": {
          "model_module": "@jupyter-widgets/base",
          "model_name": "LayoutModel",
          "state": {
            "_view_name": "LayoutView",
            "grid_template_rows": null,
            "right": null,
            "justify_content": null,
            "_view_module": "@jupyter-widgets/base",
            "overflow": null,
            "_model_module_version": "1.2.0",
            "_view_count": null,
            "flex_flow": null,
            "width": null,
            "min_width": null,
            "border": null,
            "align_items": null,
            "bottom": null,
            "_model_module": "@jupyter-widgets/base",
            "top": null,
            "grid_column": null,
            "overflow_y": null,
            "overflow_x": null,
            "grid_auto_flow": null,
            "grid_area": null,
            "grid_template_columns": null,
            "flex": null,
            "_model_name": "LayoutModel",
            "justify_items": null,
            "grid_row": null,
            "max_height": null,
            "align_content": null,
            "visibility": null,
            "align_self": null,
            "height": null,
            "min_height": null,
            "padding": null,
            "grid_auto_rows": null,
            "grid_gap": null,
            "max_width": null,
            "order": null,
            "_view_module_version": "1.2.0",
            "grid_template_areas": null,
            "object_position": null,
            "object_fit": null,
            "grid_auto_columns": null,
            "margin": null,
            "display": null,
            "left": null
          }
        },
        "156f21216b4c433e912c0ca1ee2f8aa1": {
          "model_module": "@jupyter-widgets/controls",
          "model_name": "FloatProgressModel",
          "state": {
            "_view_name": "ProgressView",
            "style": "IPY_MODEL_a91563088a3d481f9ac5bf8820d7d314",
            "_dom_classes": [],
            "description": "Epoch 1: 100%",
            "_model_name": "FloatProgressModel",
            "bar_style": "",
            "max": 500,
            "_view_module": "@jupyter-widgets/controls",
            "_model_module_version": "1.5.0",
            "value": 500,
            "_view_count": null,
            "_view_module_version": "1.5.0",
            "orientation": "horizontal",
            "min": 0,
            "description_tooltip": null,
            "_model_module": "@jupyter-widgets/controls",
            "layout": "IPY_MODEL_37564fdb59c748879ee208bbffebd065"
          }
        },
        "d79f0019064d4060976ba0b87eb8c369": {
          "model_module": "@jupyter-widgets/controls",
          "model_name": "HTMLModel",
          "state": {
            "_view_name": "HTMLView",
            "style": "IPY_MODEL_dac0b7421f40400597f4701afa69a1da",
            "_dom_classes": [],
            "description": "",
            "_model_name": "HTMLModel",
            "placeholder": "​",
            "_view_module": "@jupyter-widgets/controls",
            "_model_module_version": "1.5.0",
            "value": " 500/500 [07:15&lt;00:00,  1.12it/s, training_loss=0.000]",
            "_view_count": null,
            "_view_module_version": "1.5.0",
            "description_tooltip": null,
            "_model_module": "@jupyter-widgets/controls",
            "layout": "IPY_MODEL_da0c8ed1769242e58b619287d9509782"
          }
        },
        "a91563088a3d481f9ac5bf8820d7d314": {
          "model_module": "@jupyter-widgets/controls",
          "model_name": "ProgressStyleModel",
          "state": {
            "_view_name": "StyleView",
            "_model_name": "ProgressStyleModel",
            "description_width": "initial",
            "_view_module": "@jupyter-widgets/base",
            "_model_module_version": "1.5.0",
            "_view_count": null,
            "_view_module_version": "1.2.0",
            "bar_color": null,
            "_model_module": "@jupyter-widgets/controls"
          }
        },
        "37564fdb59c748879ee208bbffebd065": {
          "model_module": "@jupyter-widgets/base",
          "model_name": "LayoutModel",
          "state": {
            "_view_name": "LayoutView",
            "grid_template_rows": null,
            "right": null,
            "justify_content": null,
            "_view_module": "@jupyter-widgets/base",
            "overflow": null,
            "_model_module_version": "1.2.0",
            "_view_count": null,
            "flex_flow": null,
            "width": null,
            "min_width": null,
            "border": null,
            "align_items": null,
            "bottom": null,
            "_model_module": "@jupyter-widgets/base",
            "top": null,
            "grid_column": null,
            "overflow_y": null,
            "overflow_x": null,
            "grid_auto_flow": null,
            "grid_area": null,
            "grid_template_columns": null,
            "flex": null,
            "_model_name": "LayoutModel",
            "justify_items": null,
            "grid_row": null,
            "max_height": null,
            "align_content": null,
            "visibility": null,
            "align_self": null,
            "height": null,
            "min_height": null,
            "padding": null,
            "grid_auto_rows": null,
            "grid_gap": null,
            "max_width": null,
            "order": null,
            "_view_module_version": "1.2.0",
            "grid_template_areas": null,
            "object_position": null,
            "object_fit": null,
            "grid_auto_columns": null,
            "margin": null,
            "display": null,
            "left": null
          }
        },
        "dac0b7421f40400597f4701afa69a1da": {
          "model_module": "@jupyter-widgets/controls",
          "model_name": "DescriptionStyleModel",
          "state": {
            "_view_name": "StyleView",
            "_model_name": "DescriptionStyleModel",
            "description_width": "",
            "_view_module": "@jupyter-widgets/base",
            "_model_module_version": "1.5.0",
            "_view_count": null,
            "_view_module_version": "1.2.0",
            "_model_module": "@jupyter-widgets/controls"
          }
        },
        "da0c8ed1769242e58b619287d9509782": {
          "model_module": "@jupyter-widgets/base",
          "model_name": "LayoutModel",
          "state": {
            "_view_name": "LayoutView",
            "grid_template_rows": null,
            "right": null,
            "justify_content": null,
            "_view_module": "@jupyter-widgets/base",
            "overflow": null,
            "_model_module_version": "1.2.0",
            "_view_count": null,
            "flex_flow": null,
            "width": null,
            "min_width": null,
            "border": null,
            "align_items": null,
            "bottom": null,
            "_model_module": "@jupyter-widgets/base",
            "top": null,
            "grid_column": null,
            "overflow_y": null,
            "overflow_x": null,
            "grid_auto_flow": null,
            "grid_area": null,
            "grid_template_columns": null,
            "flex": null,
            "_model_name": "LayoutModel",
            "justify_items": null,
            "grid_row": null,
            "max_height": null,
            "align_content": null,
            "visibility": null,
            "align_self": null,
            "height": null,
            "min_height": null,
            "padding": null,
            "grid_auto_rows": null,
            "grid_gap": null,
            "max_width": null,
            "order": null,
            "_view_module_version": "1.2.0",
            "grid_template_areas": null,
            "object_position": null,
            "object_fit": null,
            "grid_auto_columns": null,
            "margin": null,
            "display": null,
            "left": null
          }
        },
        "a7cb819c5fd64bbca823b18bc84bca02": {
          "model_module": "@jupyter-widgets/controls",
          "model_name": "HBoxModel",
          "state": {
            "_view_name": "HBoxView",
            "_dom_classes": [],
            "_model_name": "HBoxModel",
            "_view_module": "@jupyter-widgets/controls",
            "_model_module_version": "1.5.0",
            "_view_count": null,
            "_view_module_version": "1.5.0",
            "box_style": "",
            "layout": "IPY_MODEL_82219ffc91f644a9914879f977f79abd",
            "_model_module": "@jupyter-widgets/controls",
            "children": [
              "IPY_MODEL_ed27ad3be13a428a84ec2fd91bfcfcd4",
              "IPY_MODEL_24863fd9b297475c9a51e63a17543163"
            ]
          }
        },
        "82219ffc91f644a9914879f977f79abd": {
          "model_module": "@jupyter-widgets/base",
          "model_name": "LayoutModel",
          "state": {
            "_view_name": "LayoutView",
            "grid_template_rows": null,
            "right": null,
            "justify_content": null,
            "_view_module": "@jupyter-widgets/base",
            "overflow": null,
            "_model_module_version": "1.2.0",
            "_view_count": null,
            "flex_flow": null,
            "width": null,
            "min_width": null,
            "border": null,
            "align_items": null,
            "bottom": null,
            "_model_module": "@jupyter-widgets/base",
            "top": null,
            "grid_column": null,
            "overflow_y": null,
            "overflow_x": null,
            "grid_auto_flow": null,
            "grid_area": null,
            "grid_template_columns": null,
            "flex": null,
            "_model_name": "LayoutModel",
            "justify_items": null,
            "grid_row": null,
            "max_height": null,
            "align_content": null,
            "visibility": null,
            "align_self": null,
            "height": null,
            "min_height": null,
            "padding": null,
            "grid_auto_rows": null,
            "grid_gap": null,
            "max_width": null,
            "order": null,
            "_view_module_version": "1.2.0",
            "grid_template_areas": null,
            "object_position": null,
            "object_fit": null,
            "grid_auto_columns": null,
            "margin": null,
            "display": null,
            "left": null
          }
        },
        "ed27ad3be13a428a84ec2fd91bfcfcd4": {
          "model_module": "@jupyter-widgets/controls",
          "model_name": "FloatProgressModel",
          "state": {
            "_view_name": "ProgressView",
            "style": "IPY_MODEL_f75fcee4e12d4bc4b0a955fdcef81fe9",
            "_dom_classes": [],
            "description": "Epoch 2: 100%",
            "_model_name": "FloatProgressModel",
            "bar_style": "",
            "max": 500,
            "_view_module": "@jupyter-widgets/controls",
            "_model_module_version": "1.5.0",
            "value": 500,
            "_view_count": null,
            "_view_module_version": "1.5.0",
            "orientation": "horizontal",
            "min": 0,
            "description_tooltip": null,
            "_model_module": "@jupyter-widgets/controls",
            "layout": "IPY_MODEL_e227d49fb8ac482394eb8b6efb09b01e"
          }
        },
        "24863fd9b297475c9a51e63a17543163": {
          "model_module": "@jupyter-widgets/controls",
          "model_name": "HTMLModel",
          "state": {
            "_view_name": "HTMLView",
            "style": "IPY_MODEL_dbdc70ea24814adcb05410b080061118",
            "_dom_classes": [],
            "description": "",
            "_model_name": "HTMLModel",
            "placeholder": "​",
            "_view_module": "@jupyter-widgets/controls",
            "_model_module_version": "1.5.0",
            "value": " 500/500 [07:30&lt;00:00,  1.11it/s, training_loss=0.000]",
            "_view_count": null,
            "_view_module_version": "1.5.0",
            "description_tooltip": null,
            "_model_module": "@jupyter-widgets/controls",
            "layout": "IPY_MODEL_2992ae602ac749ed8b0ff77cab4a698e"
          }
        },
        "f75fcee4e12d4bc4b0a955fdcef81fe9": {
          "model_module": "@jupyter-widgets/controls",
          "model_name": "ProgressStyleModel",
          "state": {
            "_view_name": "StyleView",
            "_model_name": "ProgressStyleModel",
            "description_width": "initial",
            "_view_module": "@jupyter-widgets/base",
            "_model_module_version": "1.5.0",
            "_view_count": null,
            "_view_module_version": "1.2.0",
            "bar_color": null,
            "_model_module": "@jupyter-widgets/controls"
          }
        },
        "e227d49fb8ac482394eb8b6efb09b01e": {
          "model_module": "@jupyter-widgets/base",
          "model_name": "LayoutModel",
          "state": {
            "_view_name": "LayoutView",
            "grid_template_rows": null,
            "right": null,
            "justify_content": null,
            "_view_module": "@jupyter-widgets/base",
            "overflow": null,
            "_model_module_version": "1.2.0",
            "_view_count": null,
            "flex_flow": null,
            "width": null,
            "min_width": null,
            "border": null,
            "align_items": null,
            "bottom": null,
            "_model_module": "@jupyter-widgets/base",
            "top": null,
            "grid_column": null,
            "overflow_y": null,
            "overflow_x": null,
            "grid_auto_flow": null,
            "grid_area": null,
            "grid_template_columns": null,
            "flex": null,
            "_model_name": "LayoutModel",
            "justify_items": null,
            "grid_row": null,
            "max_height": null,
            "align_content": null,
            "visibility": null,
            "align_self": null,
            "height": null,
            "min_height": null,
            "padding": null,
            "grid_auto_rows": null,
            "grid_gap": null,
            "max_width": null,
            "order": null,
            "_view_module_version": "1.2.0",
            "grid_template_areas": null,
            "object_position": null,
            "object_fit": null,
            "grid_auto_columns": null,
            "margin": null,
            "display": null,
            "left": null
          }
        },
        "dbdc70ea24814adcb05410b080061118": {
          "model_module": "@jupyter-widgets/controls",
          "model_name": "DescriptionStyleModel",
          "state": {
            "_view_name": "StyleView",
            "_model_name": "DescriptionStyleModel",
            "description_width": "",
            "_view_module": "@jupyter-widgets/base",
            "_model_module_version": "1.5.0",
            "_view_count": null,
            "_view_module_version": "1.2.0",
            "_model_module": "@jupyter-widgets/controls"
          }
        },
        "2992ae602ac749ed8b0ff77cab4a698e": {
          "model_module": "@jupyter-widgets/base",
          "model_name": "LayoutModel",
          "state": {
            "_view_name": "LayoutView",
            "grid_template_rows": null,
            "right": null,
            "justify_content": null,
            "_view_module": "@jupyter-widgets/base",
            "overflow": null,
            "_model_module_version": "1.2.0",
            "_view_count": null,
            "flex_flow": null,
            "width": null,
            "min_width": null,
            "border": null,
            "align_items": null,
            "bottom": null,
            "_model_module": "@jupyter-widgets/base",
            "top": null,
            "grid_column": null,
            "overflow_y": null,
            "overflow_x": null,
            "grid_auto_flow": null,
            "grid_area": null,
            "grid_template_columns": null,
            "flex": null,
            "_model_name": "LayoutModel",
            "justify_items": null,
            "grid_row": null,
            "max_height": null,
            "align_content": null,
            "visibility": null,
            "align_self": null,
            "height": null,
            "min_height": null,
            "padding": null,
            "grid_auto_rows": null,
            "grid_gap": null,
            "max_width": null,
            "order": null,
            "_view_module_version": "1.2.0",
            "grid_template_areas": null,
            "object_position": null,
            "object_fit": null,
            "grid_auto_columns": null,
            "margin": null,
            "display": null,
            "left": null
          }
        }
      }
    }
  },
  "cells": [
    {
      "cell_type": "markdown",
      "metadata": {
        "id": "h3Tzs9nfNau5"
      },
      "source": [
        "# Project 1 - Sentiment Classification \n",
        "\n",
        "Group 22\n",
        "Group Members:  CAI, Shizhan  CHEN, Zixin  LIANG Haoran ZHANG Weiwen\n",
        "\n",
        "\n",
        "\n",
        "## Instruction Content\n",
        "\n",
        "1. Load & Dump the data\n",
        "    1. Load the data\n",
        "    1. Dump the data\n",
        "1. Preprocessing\n",
        "    1. Text data processing recap\n",
        "    1. Explorative data analysis\n",
        "1. Learning Baselines\n",
        "\n"
      ]
    },
    {
      "cell_type": "markdown",
      "metadata": {
        "id": "Be9kb9iANau_"
      },
      "source": [
        "## 1. Load & Dump the data"
      ]
    },
    {
      "cell_type": "code",
      "metadata": {
        "colab": {
          "base_uri": "https://localhost:8080/"
        },
        "id": "-EsDkbNSOA9q",
        "outputId": "214e69ae-60ad-4d02-bc4f-fe8a8fe9e3fa"
      },
      "source": [
        "from google.colab import drive \n",
        "drive.mount('/content/drive')\n",
        "\n",
        "%cd /content/drive/MyDrive/comp4332-project1-cnn-trial"
      ],
      "execution_count": 2,
      "outputs": [
        {
          "output_type": "stream",
          "text": [
            "Mounted at /content/drive\n",
            "/content/drive/MyDrive/comp4332-project1-cnn-trial\n"
          ],
          "name": "stdout"
        }
      ]
    },
    {
      "cell_type": "code",
      "metadata": {
        "id": "pKWY10JoNau_"
      },
      "source": [
        "# import all libraries required\n",
        "\n",
        "import pandas as pd\n",
        "import numpy as np\n",
        "\n",
        "\n",
        "import nltk\n",
        "from nltk.stem import PorterStemmer\n",
        "from nltk.corpus import stopwords\n",
        "\n",
        "import spacy\n",
        "\n",
        "import matplotlib.pyplot as plt\n",
        "\n",
        "\n"
      ],
      "execution_count": 3,
      "outputs": []
    },
    {
      "cell_type": "code",
      "metadata": {
        "id": "wLa77BhhNavA"
      },
      "source": [
        "from itertools import chain\n",
        "from collections import Counter\n",
        "import keras"
      ],
      "execution_count": 4,
      "outputs": []
    },
    {
      "cell_type": "code",
      "metadata": {
        "id": "zEucYnkNNavA"
      },
      "source": [
        "from sklearn.pipeline import Pipeline\n",
        "from sklearn.feature_extraction.text import TfidfVectorizer\n",
        "from sklearn.metrics import confusion_matrix, classification_report, accuracy_score\n",
        "from sklearn.linear_model import LogisticRegression"
      ],
      "execution_count": 5,
      "outputs": []
    },
    {
      "cell_type": "code",
      "metadata": {
        "id": "chvAzHvlNavA"
      },
      "source": [
        "from tensorflow.python.keras.datasets import mnist\n",
        "from tensorflow.python.keras.layers.core import Dense, Dropout, Activation, Flatten\n",
        "from tensorflow.python.keras.models import Sequential\n",
        "from tensorflow.python.keras.utils import np_utils\n"
      ],
      "execution_count": 6,
      "outputs": []
    },
    {
      "cell_type": "code",
      "metadata": {
        "id": "HHjk09exNavB"
      },
      "source": [
        "from keras.layers import Dense, Activation, Embedding, Dropout, BatchNormalization, Input, Add, Concatenate,\\\n",
        "    Bidirectional, SimpleRNN, LSTM, GRU"
      ],
      "execution_count": 7,
      "outputs": []
    },
    {
      "cell_type": "code",
      "metadata": {
        "id": "CLMJklzaNavB"
      },
      "source": [
        "from gensim.models import Word2Vec, KeyedVectors"
      ],
      "execution_count": 8,
      "outputs": []
    },
    {
      "cell_type": "code",
      "metadata": {
        "id": "8Ae5wxefNavB"
      },
      "source": [
        "import os\n",
        "import tensorflow as tf"
      ],
      "execution_count": 9,
      "outputs": []
    },
    {
      "cell_type": "code",
      "metadata": {
        "colab": {
          "base_uri": "https://localhost:8080/"
        },
        "id": "bT67l6xjOrsw",
        "outputId": "600ec927-e97c-410a-dc5d-614756a9794d"
      },
      "source": [
        "!pip install transformers"
      ],
      "execution_count": 10,
      "outputs": [
        {
          "output_type": "stream",
          "text": [
            "Collecting transformers\n",
            "\u001b[?25l  Downloading https://files.pythonhosted.org/packages/ed/d5/f4157a376b8a79489a76ce6cfe147f4f3be1e029b7144fa7b8432e8acb26/transformers-4.4.2-py3-none-any.whl (2.0MB)\n",
            "\u001b[K     |████████████████████████████████| 2.0MB 8.4MB/s \n",
            "\u001b[?25hRequirement already satisfied: filelock in /usr/local/lib/python3.7/dist-packages (from transformers) (3.0.12)\n",
            "Requirement already satisfied: packaging in /usr/local/lib/python3.7/dist-packages (from transformers) (20.9)\n",
            "Requirement already satisfied: importlib-metadata; python_version < \"3.8\" in /usr/local/lib/python3.7/dist-packages (from transformers) (3.8.1)\n",
            "Collecting sacremoses\n",
            "\u001b[?25l  Downloading https://files.pythonhosted.org/packages/08/cd/342e584ee544d044fb573ae697404ce22ede086c9e87ce5960772084cad0/sacremoses-0.0.44.tar.gz (862kB)\n",
            "\u001b[K     |████████████████████████████████| 870kB 50.5MB/s \n",
            "\u001b[?25hRequirement already satisfied: numpy>=1.17 in /usr/local/lib/python3.7/dist-packages (from transformers) (1.19.5)\n",
            "Collecting tokenizers<0.11,>=0.10.1\n",
            "\u001b[?25l  Downloading https://files.pythonhosted.org/packages/71/23/2ddc317b2121117bf34dd00f5b0de194158f2a44ee2bf5e47c7166878a97/tokenizers-0.10.1-cp37-cp37m-manylinux2010_x86_64.whl (3.2MB)\n",
            "\u001b[K     |████████████████████████████████| 3.2MB 30.2MB/s \n",
            "\u001b[?25hRequirement already satisfied: requests in /usr/local/lib/python3.7/dist-packages (from transformers) (2.23.0)\n",
            "Requirement already satisfied: regex!=2019.12.17 in /usr/local/lib/python3.7/dist-packages (from transformers) (2019.12.20)\n",
            "Requirement already satisfied: tqdm>=4.27 in /usr/local/lib/python3.7/dist-packages (from transformers) (4.41.1)\n",
            "Requirement already satisfied: pyparsing>=2.0.2 in /usr/local/lib/python3.7/dist-packages (from packaging->transformers) (2.4.7)\n",
            "Requirement already satisfied: typing-extensions>=3.6.4; python_version < \"3.8\" in /usr/local/lib/python3.7/dist-packages (from importlib-metadata; python_version < \"3.8\"->transformers) (3.7.4.3)\n",
            "Requirement already satisfied: zipp>=0.5 in /usr/local/lib/python3.7/dist-packages (from importlib-metadata; python_version < \"3.8\"->transformers) (3.4.1)\n",
            "Requirement already satisfied: six in /usr/local/lib/python3.7/dist-packages (from sacremoses->transformers) (1.15.0)\n",
            "Requirement already satisfied: click in /usr/local/lib/python3.7/dist-packages (from sacremoses->transformers) (7.1.2)\n",
            "Requirement already satisfied: joblib in /usr/local/lib/python3.7/dist-packages (from sacremoses->transformers) (1.0.1)\n",
            "Requirement already satisfied: idna<3,>=2.5 in /usr/local/lib/python3.7/dist-packages (from requests->transformers) (2.10)\n",
            "Requirement already satisfied: certifi>=2017.4.17 in /usr/local/lib/python3.7/dist-packages (from requests->transformers) (2020.12.5)\n",
            "Requirement already satisfied: chardet<4,>=3.0.2 in /usr/local/lib/python3.7/dist-packages (from requests->transformers) (3.0.4)\n",
            "Requirement already satisfied: urllib3!=1.25.0,!=1.25.1,<1.26,>=1.21.1 in /usr/local/lib/python3.7/dist-packages (from requests->transformers) (1.24.3)\n",
            "Building wheels for collected packages: sacremoses\n",
            "  Building wheel for sacremoses (setup.py) ... \u001b[?25l\u001b[?25hdone\n",
            "  Created wheel for sacremoses: filename=sacremoses-0.0.44-cp37-none-any.whl size=886084 sha256=5ddb3f85b0c0f82cd9794d2d51b860ba272014762d254a57d42b1608cabedc07\n",
            "  Stored in directory: /root/.cache/pip/wheels/3e/fb/c0/13ab4d63d537658f448366744654323077c4d90069b6512f3c\n",
            "Successfully built sacremoses\n",
            "Installing collected packages: sacremoses, tokenizers, transformers\n",
            "Successfully installed sacremoses-0.0.44 tokenizers-0.10.1 transformers-4.4.2\n"
          ],
          "name": "stdout"
        }
      ]
    },
    {
      "cell_type": "code",
      "metadata": {
        "id": "2BxJzIZsNavB"
      },
      "source": [
        "############ Try Bert\n",
        "\n",
        "import torch\n",
        "from tqdm.notebook import tqdm\n",
        "\n",
        "from transformers import BertTokenizer\n",
        "from torch.utils.data import TensorDataset\n",
        "\n",
        "from transformers import BertForSequenceClassification\n",
        "\n",
        "from torch.utils.data import DataLoader, RandomSampler, SequentialSampler\n",
        "from transformers import AdamW, get_linear_schedule_with_warmup\n",
        "from sklearn.metrics import f1_score\n",
        "\n",
        "import random"
      ],
      "execution_count": 11,
      "outputs": []
    },
    {
      "cell_type": "code",
      "metadata": {
        "id": "gmcMh-bdNavB"
      },
      "source": [
        "def load_data(split_name='train', columns=['text', 'stars']):\n",
        "    try:\n",
        "        print(f\"select [{', '.join(columns)}] columns from the {split_name} split\")\n",
        "        df = pd.read_csv(f'data_2021_spring/{split_name}.csv')\n",
        "        df = df.loc[:,columns]\n",
        "        print(\"succeed!\")\n",
        "        return df\n",
        "    except:\n",
        "        print(\"Failed, then try to \")\n",
        "        print(f\"select all columns from the {split_name} split\")\n",
        "        df = pd.read_csv(f'data_2021_spring/{split_name}.csv')\n",
        "        return df"
      ],
      "execution_count": 12,
      "outputs": []
    },
    {
      "cell_type": "code",
      "metadata": {
        "colab": {
          "base_uri": "https://localhost:8080/"
        },
        "id": "WoN7FZCcNavC",
        "outputId": "d2fd302e-06a1-4684-92b4-78fd0982261d"
      },
      "source": [
        "# Extract all the datum \n",
        "\n",
        "train_df = load_data('train')\n",
        "valid_df = load_data('valid')\n",
        "test_df = load_data('test')\n",
        "\n",
        "train_df_full = load_data('train', columns='full')\n",
        "val_df_full = load_data('valid', columns='full')\n",
        "test_df_full = load_data('test', columns='full')"
      ],
      "execution_count": 13,
      "outputs": [
        {
          "output_type": "stream",
          "text": [
            "select [text, stars] columns from the train split\n",
            "succeed!\n",
            "select [text, stars] columns from the valid split\n",
            "succeed!\n",
            "select [text, stars] columns from the test split\n",
            "Failed, then try to \n",
            "select all columns from the test split\n",
            "select [f, u, l, l] columns from the train split\n",
            "Failed, then try to \n",
            "select all columns from the train split\n",
            "select [f, u, l, l] columns from the valid split\n",
            "Failed, then try to \n",
            "select all columns from the valid split\n",
            "select [f, u, l, l] columns from the test split\n",
            "Failed, then try to \n",
            "select all columns from the test split\n"
          ],
          "name": "stdout"
        }
      ]
    },
    {
      "cell_type": "code",
      "metadata": {
        "id": "awFnf3scNavC",
        "outputId": "4fcdae3a-0cb0-4d46-9431-66b9c63a214e"
      },
      "source": [
        "train_df.head()"
      ],
      "execution_count": null,
      "outputs": [
        {
          "output_type": "execute_result",
          "data": {
            "text/html": [
              "<div>\n",
              "<style scoped>\n",
              "    .dataframe tbody tr th:only-of-type {\n",
              "        vertical-align: middle;\n",
              "    }\n",
              "\n",
              "    .dataframe tbody tr th {\n",
              "        vertical-align: top;\n",
              "    }\n",
              "\n",
              "    .dataframe thead th {\n",
              "        text-align: right;\n",
              "    }\n",
              "</style>\n",
              "<table border=\"1\" class=\"dataframe\">\n",
              "  <thead>\n",
              "    <tr style=\"text-align: right;\">\n",
              "      <th></th>\n",
              "      <th>text</th>\n",
              "      <th>stars</th>\n",
              "    </tr>\n",
              "  </thead>\n",
              "  <tbody>\n",
              "    <tr>\n",
              "      <th>0</th>\n",
              "      <td>Nice to have a diner still around. Food was go...</td>\n",
              "      <td>4</td>\n",
              "    </tr>\n",
              "    <tr>\n",
              "      <th>1</th>\n",
              "      <td>Tried this a while back, got the fried chicken...</td>\n",
              "      <td>2</td>\n",
              "    </tr>\n",
              "    <tr>\n",
              "      <th>2</th>\n",
              "      <td>I expected more pork selections on menu. Food ...</td>\n",
              "      <td>4</td>\n",
              "    </tr>\n",
              "    <tr>\n",
              "      <th>3</th>\n",
              "      <td>YUMMY!!! This place is phenomenal. It is Price...</td>\n",
              "      <td>4</td>\n",
              "    </tr>\n",
              "    <tr>\n",
              "      <th>4</th>\n",
              "      <td>The Truffle Macaroni &amp; Cheese and Potatoes Au ...</td>\n",
              "      <td>5</td>\n",
              "    </tr>\n",
              "  </tbody>\n",
              "</table>\n",
              "</div>"
            ],
            "text/plain": [
              "                                                text  stars\n",
              "0  Nice to have a diner still around. Food was go...      4\n",
              "1  Tried this a while back, got the fried chicken...      2\n",
              "2  I expected more pork selections on menu. Food ...      4\n",
              "3  YUMMY!!! This place is phenomenal. It is Price...      4\n",
              "4  The Truffle Macaroni & Cheese and Potatoes Au ...      5"
            ]
          },
          "metadata": {
            "tags": []
          },
          "execution_count": 4
        }
      ]
    },
    {
      "cell_type": "markdown",
      "metadata": {
        "id": "5h_i23QaNavD"
      },
      "source": [
        "### B. Dump the random answer\n",
        "\n",
        "In this project, your predictions on test data are supposed to be submitted by a csv file of two columns, i.e. (review_id and stars)\n",
        "\n",
        "Here we compose the random answer in a DataFrame and dump the answer into a csv file"
      ]
    },
    {
      "cell_type": "code",
      "metadata": {
        "id": "L8O3vdo0NavD"
      },
      "source": [
        "random_ans = pd.DataFrame(data={\n",
        "    'review_id': test_df['review_id'],\n",
        "    'stars': np.random.randint(0, 6, size=len(test_df))\n",
        "})"
      ],
      "execution_count": null,
      "outputs": []
    },
    {
      "cell_type": "code",
      "metadata": {
        "id": "Ck8GA5ivNavD",
        "outputId": "ebf07779-fd88-44cc-9b32-0b56f1ad1b84"
      },
      "source": [
        "random_ans.head()"
      ],
      "execution_count": null,
      "outputs": [
        {
          "output_type": "execute_result",
          "data": {
            "text/html": [
              "<div>\n",
              "<style scoped>\n",
              "    .dataframe tbody tr th:only-of-type {\n",
              "        vertical-align: middle;\n",
              "    }\n",
              "\n",
              "    .dataframe tbody tr th {\n",
              "        vertical-align: top;\n",
              "    }\n",
              "\n",
              "    .dataframe thead th {\n",
              "        text-align: right;\n",
              "    }\n",
              "</style>\n",
              "<table border=\"1\" class=\"dataframe\">\n",
              "  <thead>\n",
              "    <tr style=\"text-align: right;\">\n",
              "      <th></th>\n",
              "      <th>review_id</th>\n",
              "      <th>stars</th>\n",
              "    </tr>\n",
              "  </thead>\n",
              "  <tbody>\n",
              "    <tr>\n",
              "      <th>0</th>\n",
              "      <td>b8-ELBwhmDKcmcM8icT86g</td>\n",
              "      <td>2</td>\n",
              "    </tr>\n",
              "    <tr>\n",
              "      <th>1</th>\n",
              "      <td>rBpAJhIen_V-zLoXZIcROg</td>\n",
              "      <td>1</td>\n",
              "    </tr>\n",
              "    <tr>\n",
              "      <th>2</th>\n",
              "      <td>_pALaDG6se9OTkGGhyhnNA</td>\n",
              "      <td>3</td>\n",
              "    </tr>\n",
              "    <tr>\n",
              "      <th>3</th>\n",
              "      <td>ru8fpA1Uk0tTFtO5hLM49g</td>\n",
              "      <td>3</td>\n",
              "    </tr>\n",
              "    <tr>\n",
              "      <th>4</th>\n",
              "      <td>fRPgwuFoY6SriToXZyaOQA</td>\n",
              "      <td>2</td>\n",
              "    </tr>\n",
              "  </tbody>\n",
              "</table>\n",
              "</div>"
            ],
            "text/plain": [
              "                review_id  stars\n",
              "0  b8-ELBwhmDKcmcM8icT86g      2\n",
              "1  rBpAJhIen_V-zLoXZIcROg      1\n",
              "2  _pALaDG6se9OTkGGhyhnNA      3\n",
              "3  ru8fpA1Uk0tTFtO5hLM49g      3\n",
              "4  fRPgwuFoY6SriToXZyaOQA      2"
            ]
          },
          "metadata": {
            "tags": []
          },
          "execution_count": 9
        }
      ]
    },
    {
      "cell_type": "code",
      "metadata": {
        "id": "Ouuq85A7NavD"
      },
      "source": [
        "group_number = -1\n",
        "random_ans.to_csv(f'{group_number}-random_ans.csv', index=False)"
      ],
      "execution_count": null,
      "outputs": []
    },
    {
      "cell_type": "markdown",
      "metadata": {
        "id": "Z69bZWrHNavD"
      },
      "source": [
        "## 2. Preprocessing\n",
        "\n",
        "\n",
        "\n",
        "#### A. Text data processing\n"
      ]
    },
    {
      "cell_type": "code",
      "metadata": {
        "id": "ru90Ebe7NavE"
      },
      "source": [
        "\n",
        "stopwords = set(stopwords.words('english'))\n",
        "ps = PorterStemmer()\n",
        "\n",
        "def lower(s):\n",
        "    \"\"\"\n",
        "    :param s: a string.\n",
        "    return a string with lower characters\n",
        "    Note that we allow the input to be nested string of a list.\n",
        "    e.g.\n",
        "    Input: 'Text mining is to identify useful information.'\n",
        "    Output: 'text mining is to identify useful information.'\n",
        "    \"\"\"\n",
        "    if isinstance(s, list):\n",
        "        return [lower(t) for t in s]\n",
        "    if isinstance(s, str):\n",
        "        return s.lower()\n",
        "    else:\n",
        "        raise NotImplementedError(\"unknown datatype\")\n",
        "\n",
        "\n",
        "def tokenize(text):\n",
        "    \"\"\"\n",
        "    :param text: a doc with multiple sentences, type: str\n",
        "    return a word list, type: list\n",
        "    e.g.\n",
        "    Input: 'Text mining is to identify useful information.'\n",
        "    Output: ['Text', 'mining', 'is', 'to', 'identify', 'useful', 'information', '.']\n",
        "    \"\"\"\n",
        "    return nltk.word_tokenize(text)\n",
        "\n",
        "\n",
        "def stem(tokens):\n",
        "    \"\"\"\n",
        "    :param tokens: a list of tokens, type: list\n",
        "    return a list of stemmed words, type: list\n",
        "    e.g.\n",
        "    Input: ['Text', 'mining', 'is', 'to', 'identify', 'useful', 'information', '.']\n",
        "    Output: ['text', 'mine', 'is', 'to', 'identifi', 'use', 'inform', '.']\n",
        "    \"\"\"\n",
        "    ### equivalent code\n",
        "    # results = list()\n",
        "    # for token in tokens:\n",
        "    #     results.append(ps.stem(token))\n",
        "    # return results\n",
        "\n",
        "    return [ps.stem(token) for token in tokens]\n",
        "\n",
        "def n_gram(tokens, n= 3):\n",
        "    \"\"\"\n",
        "    :param tokens: a list of tokens, type: list\n",
        "    :param n: the corresponding n-gram, type: int\n",
        "    return a list of n-gram tokens, type: list\n",
        "    e.g.\n",
        "    Input: ['text', 'mine', 'is', 'to', 'identifi', 'use', 'inform', '.'], 2\n",
        "    Output: ['text mine', 'mine is', 'is to', 'to identifi', 'identifi use', 'use inform', 'inform .']\n",
        "    \"\"\"\n",
        "    if n == 1:\n",
        "        return tokens\n",
        "    else:\n",
        "        results = list()\n",
        "        for i in range(len(tokens)-n+1):\n",
        "            # tokens[i:i+n] will return a sublist from i th to i+n th (i+n th is not included)\n",
        "            results.append(\" \".join(tokens[i:i+n]))\n",
        "        return results\n",
        "\n",
        "def filter_stopwords(tokens):\n",
        "    \"\"\"\n",
        "    :param tokens: a list of tokens, type: list\n",
        "    return a list of filtered tokens, type: list\n",
        "    e.g.\n",
        "    Input: ['text', 'mine', 'is', 'to', 'identifi', 'use', 'inform', '.']\n",
        "    Output: ['text', 'mine', 'identifi', 'use', 'inform', '.']\n",
        "    \"\"\"\n",
        "    ### equivalent code\n",
        "    # results = list()\n",
        "    # for token in tokens:\n",
        "    #     if token not in stopwords and not token.isnumeric():\n",
        "    #         results.append(token)\n",
        "    # return results\n",
        "\n",
        "    return [token for token in tokens if token not in stopwords and not token.isnumeric()]\n",
        "\n",
        "def get_onehot_vector(feats, feats_dict):\n",
        "    \"\"\"\n",
        "    :param data: a list of features, type: list\n",
        "    :param feats_dict: a dict from features to indices, type: dict\n",
        "    return a feature vector,\n",
        "    \"\"\"\n",
        "    # initialize the vector as all zeros\n",
        "    vector = np.zeros(len(feats_dict), dtype=np.float)\n",
        "    for f in feats:\n",
        "        # get the feature index, return -1 if the feature is not existed\n",
        "        f_idx = feats_dict.get(f, -1)\n",
        "        if f_idx != -1:\n",
        "            # set the corresponding element as 1\n",
        "            vector[f_idx] = 1\n",
        "    return vector\n",
        "\n",
        "\n",
        "def get_feats_dict(feats, min_freq=-1, max_freq=-1, max_size=-1):\n",
        "    \"\"\"\n",
        "    :param data: a list of features, type: list(list)\n",
        "    :param min_freq: the lowest fequency that the fequency of a feature smaller than it will be filtered out, type: int\n",
        "    :param max_freq: the highest fequency that the fequency of a feature larger than it will be filtered out, type: int\n",
        "    :param max_size: the max size of feature dict, type: int\n",
        "    return a feature dict that maps features to indices, sorted by frequencies\n",
        "    # Counter document: https://docs.python.org/3.6/library/collections.html#collections.Counter\n",
        "    \"\"\"\n",
        "    # count all features\n",
        "    feat_cnt = Counter(feats) # [\"text\", \"text\", \"mine\"] --> {\"text\": 2, \"mine\": 1}\n",
        "    if max_size > 0 and min_freq == -1 and max_freq == -1:\n",
        "        valid_feats = [f for f, cnt in feat_cnt.most_common(max_size)]\n",
        "    else:\n",
        "        valid_feats = list()\n",
        "        for f, cnt in feat_cnt.most_common():\n",
        "            if (min_freq == -1 or cnt >= min_freq) and \\\n",
        "                (max_freq == -1 or cnt <= max_freq):\n",
        "                valid_feats.append(f)\n",
        "    if max_size > 0 and len(valid_feats) > max_size:\n",
        "        valid_feats = valid_feats[:max_size]        \n",
        "    print(\"Size of features:\", len(valid_feats))\n",
        "    \n",
        "    # build a mapping from features to indices\n",
        "    feats_dict = dict(zip(valid_feats, range(len(valid_feats))))\n",
        "    return feats_dict\n",
        "\n",
        "def get_index_vector(feats, feats_dict, max_len):\n",
        "    \"\"\"\n",
        "    :param feats: a list of features, type: list\n",
        "    :param feats_dict: a dict from features to indices, type: dict\n",
        "    :param feats: a list of features, type: list\n",
        "    return a feature vector,\n",
        "    \"\"\"\n",
        "    # initialize the vector as all zeros\n",
        "    vector = np.zeros(max_len, dtype=np.int64)\n",
        "    for i, f in enumerate(feats):\n",
        "        if i == max_len:\n",
        "            break\n",
        "        # get the feature index, return 1 (<unk>) if the feature is not existed\n",
        "        f_idx = feats_dict.get(f, 1)\n",
        "        vector[i] = f_idx\n",
        "    return vector"
      ],
      "execution_count": null,
      "outputs": []
    },
    {
      "cell_type": "markdown",
      "metadata": {
        "id": "kSrKghw0NavH"
      },
      "source": [
        "#### B. Explorative data analysis\n",
        "\n"
      ]
    },
    {
      "cell_type": "code",
      "metadata": {
        "id": "ssggHj0DNavJ"
      },
      "source": [
        "from scipy.stats import f_oneway, wasserstein_distance, describe, spearmanr, pearsonr\n",
        "from numpy import cov, corrcoef"
      ],
      "execution_count": null,
      "outputs": []
    },
    {
      "cell_type": "code",
      "metadata": {
        "id": "4vou8P_1NavJ",
        "outputId": "3dc441ec-0c74-4fa8-d754-62adc37bb46c"
      },
      "source": [
        "f_oneway(train_df_full['cool'], train_df_full['funny'])"
      ],
      "execution_count": null,
      "outputs": [
        {
          "output_type": "execute_result",
          "data": {
            "text/plain": [
              "F_onewayResult(statistic=0.6586907307424174, pvalue=0.41703220506531435)"
            ]
          },
          "metadata": {
            "tags": []
          },
          "execution_count": 106
        }
      ]
    },
    {
      "cell_type": "code",
      "metadata": {
        "id": "8dnJtNw8NavJ",
        "outputId": "adc6516e-7bbf-4ecf-c60a-48e0fc3ce5f6"
      },
      "source": [
        "train_df_full.head()"
      ],
      "execution_count": null,
      "outputs": [
        {
          "output_type": "execute_result",
          "data": {
            "text/html": [
              "<div>\n",
              "<style scoped>\n",
              "    .dataframe tbody tr th:only-of-type {\n",
              "        vertical-align: middle;\n",
              "    }\n",
              "\n",
              "    .dataframe tbody tr th {\n",
              "        vertical-align: top;\n",
              "    }\n",
              "\n",
              "    .dataframe thead th {\n",
              "        text-align: right;\n",
              "    }\n",
              "</style>\n",
              "<table border=\"1\" class=\"dataframe\">\n",
              "  <thead>\n",
              "    <tr style=\"text-align: right;\">\n",
              "      <th></th>\n",
              "      <th>business_id</th>\n",
              "      <th>cool</th>\n",
              "      <th>date</th>\n",
              "      <th>funny</th>\n",
              "      <th>review_id</th>\n",
              "      <th>stars</th>\n",
              "      <th>text</th>\n",
              "      <th>useful</th>\n",
              "      <th>user_id</th>\n",
              "    </tr>\n",
              "  </thead>\n",
              "  <tbody>\n",
              "    <tr>\n",
              "      <th>0</th>\n",
              "      <td>39rLHYJOy2774ZIUouuWLw</td>\n",
              "      <td>0</td>\n",
              "      <td>2017-06-28 21:44:02</td>\n",
              "      <td>0</td>\n",
              "      <td>ynzOFepQYSCDGdfWDWxiZw</td>\n",
              "      <td>4</td>\n",
              "      <td>Nice to have a diner still around. Food was go...</td>\n",
              "      <td>0</td>\n",
              "      <td>Sl6VgFOB-XXfFIAYp7TFkw</td>\n",
              "    </tr>\n",
              "    <tr>\n",
              "      <th>1</th>\n",
              "      <td>E-Kq1Yu1d6N3TL2qX0aqjA</td>\n",
              "      <td>0</td>\n",
              "      <td>2018-04-09 03:45:19</td>\n",
              "      <td>0</td>\n",
              "      <td>sQX9ncJBEdBf16AWsvO6Vg</td>\n",
              "      <td>2</td>\n",
              "      <td>Tried this a while back, got the fried chicken...</td>\n",
              "      <td>0</td>\n",
              "      <td>gcx01pMqWzkni2UC-zoZrA</td>\n",
              "    </tr>\n",
              "    <tr>\n",
              "      <th>2</th>\n",
              "      <td>nWW6fBfBljiRFa4sG7TyxA</td>\n",
              "      <td>0</td>\n",
              "      <td>2014-07-19 02:00:04</td>\n",
              "      <td>0</td>\n",
              "      <td>bVIf2kqbzvif3miNe3ARNw</td>\n",
              "      <td>4</td>\n",
              "      <td>I expected more pork selections on menu. Food ...</td>\n",
              "      <td>0</td>\n",
              "      <td>Mn9VzPbrCYU4EcP_C1oBOg</td>\n",
              "    </tr>\n",
              "    <tr>\n",
              "      <th>3</th>\n",
              "      <td>qmIHO-6T_KEfPC9jyGDamQ</td>\n",
              "      <td>0</td>\n",
              "      <td>2011-11-11 08:10:24</td>\n",
              "      <td>0</td>\n",
              "      <td>LNj1OFxy2ool3PZANGchPA</td>\n",
              "      <td>4</td>\n",
              "      <td>YUMMY!!! This place is phenomenal. It is Price...</td>\n",
              "      <td>0</td>\n",
              "      <td>SKV1heo00fdciCbCN9Z33A</td>\n",
              "    </tr>\n",
              "    <tr>\n",
              "      <th>4</th>\n",
              "      <td>pKk7jCFIm96qDdk0laVT2w</td>\n",
              "      <td>1</td>\n",
              "      <td>2010-01-16 20:04:00</td>\n",
              "      <td>1</td>\n",
              "      <td>bZXxa0hO6wQlHD-MkMf4iw</td>\n",
              "      <td>5</td>\n",
              "      <td>The Truffle Macaroni &amp; Cheese and Potatoes Au ...</td>\n",
              "      <td>1</td>\n",
              "      <td>p1r7rZYruZR92x1A649PTQ</td>\n",
              "    </tr>\n",
              "  </tbody>\n",
              "</table>\n",
              "</div>"
            ],
            "text/plain": [
              "              business_id  cool                 date  funny  \\\n",
              "0  39rLHYJOy2774ZIUouuWLw     0  2017-06-28 21:44:02      0   \n",
              "1  E-Kq1Yu1d6N3TL2qX0aqjA     0  2018-04-09 03:45:19      0   \n",
              "2  nWW6fBfBljiRFa4sG7TyxA     0  2014-07-19 02:00:04      0   \n",
              "3  qmIHO-6T_KEfPC9jyGDamQ     0  2011-11-11 08:10:24      0   \n",
              "4  pKk7jCFIm96qDdk0laVT2w     1  2010-01-16 20:04:00      1   \n",
              "\n",
              "                review_id  stars  \\\n",
              "0  ynzOFepQYSCDGdfWDWxiZw      4   \n",
              "1  sQX9ncJBEdBf16AWsvO6Vg      2   \n",
              "2  bVIf2kqbzvif3miNe3ARNw      4   \n",
              "3  LNj1OFxy2ool3PZANGchPA      4   \n",
              "4  bZXxa0hO6wQlHD-MkMf4iw      5   \n",
              "\n",
              "                                                text  useful  \\\n",
              "0  Nice to have a diner still around. Food was go...       0   \n",
              "1  Tried this a while back, got the fried chicken...       0   \n",
              "2  I expected more pork selections on menu. Food ...       0   \n",
              "3  YUMMY!!! This place is phenomenal. It is Price...       0   \n",
              "4  The Truffle Macaroni & Cheese and Potatoes Au ...       1   \n",
              "\n",
              "                  user_id  \n",
              "0  Sl6VgFOB-XXfFIAYp7TFkw  \n",
              "1  gcx01pMqWzkni2UC-zoZrA  \n",
              "2  Mn9VzPbrCYU4EcP_C1oBOg  \n",
              "3  SKV1heo00fdciCbCN9Z33A  \n",
              "4  p1r7rZYruZR92x1A649PTQ  "
            ]
          },
          "metadata": {
            "tags": []
          },
          "execution_count": 18
        }
      ]
    },
    {
      "cell_type": "markdown",
      "metadata": {
        "id": "kYtpVU5qNavJ"
      },
      "source": [
        "Explore the relationship between different features"
      ]
    },
    {
      "cell_type": "code",
      "metadata": {
        "id": "iMCPxLnjNavK",
        "outputId": "1721d070-bccc-460a-cf5a-7e53d31d2688"
      },
      "source": [
        "# check the relationship between cool & funny\n",
        "plt.scatter(train_df_full['cool'], train_df_full['funny'])"
      ],
      "execution_count": null,
      "outputs": [
        {
          "output_type": "execute_result",
          "data": {
            "text/plain": [
              "<matplotlib.collections.PathCollection at 0x7fcfe9971df0>"
            ]
          },
          "metadata": {
            "tags": []
          },
          "execution_count": 23
        },
        {
          "output_type": "display_data",
          "data": {
            "image/png": "[encoded data removed]",
            "text/plain": [
              "<Figure size 432x288 with 1 Axes>"
            ]
          },
          "metadata": {
            "tags": [],
            "needs_background": "light"
          }
        }
      ]
    },
    {
      "cell_type": "code",
      "metadata": {
        "id": "fMRfSdffNavK",
        "outputId": "5f23409b-fe43-4219-8e8c-f93c21569131"
      },
      "source": [
        "# check the relationship between useful and stars\n",
        "plt.scatter(train_df_full['cool'], train_df_full['stars'])"
      ],
      "execution_count": null,
      "outputs": [
        {
          "output_type": "execute_result",
          "data": {
            "text/plain": [
              "<matplotlib.collections.PathCollection at 0x7fcfe99a0280>"
            ]
          },
          "metadata": {
            "tags": []
          },
          "execution_count": 24
        },
        {
          "output_type": "display_data",
          "data": {
            "image/png": "[encoded data removed]",
            "text/plain": [
              "<Figure size 432x288 with 1 Axes>"
            ]
          },
          "metadata": {
            "tags": [],
            "needs_background": "light"
          }
        }
      ]
    },
    {
      "cell_type": "code",
      "metadata": {
        "id": "kBTbC6dINavK",
        "outputId": "bc295501-307d-4308-d7b9-dac6cd8262e8"
      },
      "source": [
        "# check the relationship between useful and stars\n",
        "plt.scatter(train_df_full['useful'], train_df_full['stars'])"
      ],
      "execution_count": null,
      "outputs": [
        {
          "output_type": "execute_result",
          "data": {
            "text/plain": [
              "<matplotlib.collections.PathCollection at 0x7fcfc96ea4c0>"
            ]
          },
          "metadata": {
            "tags": []
          },
          "execution_count": 25
        },
        {
          "output_type": "display_data",
          "data": {
            "image/png": "[encoded data removed]",
            "text/plain": [
              "<Figure size 432x288 with 1 Axes>"
            ]
          },
          "metadata": {
            "tags": [],
            "needs_background": "light"
          }
        }
      ]
    },
    {
      "cell_type": "code",
      "metadata": {
        "id": "Hna33u95NavK",
        "outputId": "85ac19b8-3c45-407a-fd21-ef7b2ade6502"
      },
      "source": [
        "plt.hist(train_df_full['stars'], bins=5)"
      ],
      "execution_count": null,
      "outputs": [
        {
          "output_type": "execute_result",
          "data": {
            "text/plain": [
              "(array([2534., 1354., 1888., 2110., 2114.]),\n",
              " array([1. , 1.8, 2.6, 3.4, 4.2, 5. ]),\n",
              " <BarContainer object of 5 artists>)"
            ]
          },
          "metadata": {
            "tags": []
          },
          "execution_count": 26
        },
        {
          "output_type": "display_data",
          "data": {
            "image/png": "[encoded data removed]",
            "text/plain": [
              "<Figure size 432x288 with 1 Axes>"
            ]
          },
          "metadata": {
            "tags": [],
            "needs_background": "light"
          }
        }
      ]
    },
    {
      "cell_type": "markdown",
      "metadata": {
        "id": "yvIvZuDwNavL"
      },
      "source": [
        "Moreover, you may use the id feature to aggregate data samples\n",
        "\n",
        "For example"
      ]
    },
    {
      "cell_type": "code",
      "metadata": {
        "id": "TOTwaAbRNavL",
        "outputId": "d5e95b73-fe55-43f3-ad17-b8266baa7cd6"
      },
      "source": [
        "for bid, sub_df in train_df_full.groupby('business_id'):\n",
        "    if len(sub_df) > 1:\n",
        "        print(sub_df[['business_id', 'funny', 'cool', 'stars']].head())\n",
        "        plt.hist(sub_df['stars'], bins=5)\n",
        "        break"
      ],
      "execution_count": null,
      "outputs": [
        {
          "output_type": "stream",
          "text": [
            "                 business_id  funny  cool  stars\n",
            "7043  -0qht1roIqleKiQkBLDkbw      1     0      3\n",
            "7363  -0qht1roIqleKiQkBLDkbw      0     0      5\n"
          ],
          "name": "stdout"
        },
        {
          "output_type": "display_data",
          "data": {
            "image/png": "[encoded data removed]",
            "text/plain": [
              "<Figure size 432x288 with 1 Axes>"
            ]
          },
          "metadata": {
            "tags": [],
            "needs_background": "light"
          }
        }
      ]
    },
    {
      "cell_type": "code",
      "metadata": {
        "id": "xAj5Nk5hNavL",
        "outputId": "f51270fd-3446-4b19-d72f-1252cdceeef7"
      },
      "source": [
        "for bid, sub_df in train_df_full.groupby('user_id'):\n",
        "    if len(sub_df) > 1:\n",
        "        print(sub_df[['user_id', 'funny', 'cool', 'stars']].head())\n",
        "        break"
      ],
      "execution_count": null,
      "outputs": [
        {
          "output_type": "stream",
          "text": [
            "                     user_id  funny  cool  stars\n",
            "1173  -SjQXQd-IRfOdUdYYwWGOQ      0     1      4\n",
            "4503  -SjQXQd-IRfOdUdYYwWGOQ      0     0      1\n"
          ],
          "name": "stdout"
        }
      ]
    },
    {
      "cell_type": "markdown",
      "metadata": {
        "id": "2lrYKdYsNavL"
      },
      "source": [
        "## 3. Models\n"
      ]
    },
    {
      "cell_type": "markdown",
      "metadata": {
        "id": "sbJrR0zvNavL"
      },
      "source": [
        "The split above is what we have done for you. You can use the data as you like."
      ]
    },
    {
      "cell_type": "code",
      "metadata": {
        "id": "kGRq95WcNavL"
      },
      "source": [
        "x_train_text = train_df_full['text']\n",
        "x_valid_text = valid_df['text']\n",
        "\n",
        "# x_train_useful = train_df_full['useful']\n",
        "# x_valid_useful = valid_df_full['useful']\n",
        "\n",
        "y_train = train_df['stars']\n",
        "y_valid = valid_df['stars']"
      ],
      "execution_count": null,
      "outputs": []
    },
    {
      "cell_type": "code",
      "metadata": {
        "id": "sQVpGU-QNavL",
        "outputId": "4fe5f1ae-ca1b-42f8-bd00-1e94e6de1143"
      },
      "source": [
        "x_train_text"
      ],
      "execution_count": null,
      "outputs": [
        {
          "output_type": "execute_result",
          "data": {
            "text/plain": [
              "0       Nice to have a diner still around. Food was go...\n",
              "1       Tried this a while back, got the fried chicken...\n",
              "2       I expected more pork selections on menu. Food ...\n",
              "3       YUMMY!!! This place is phenomenal. It is Price...\n",
              "4       The Truffle Macaroni & Cheese and Potatoes Au ...\n",
              "                              ...                        \n",
              "9995    I think most people like this place because of...\n",
              "9996    Thought I'd give this location a try from the ...\n",
              "9997    I first tried this place a while ago, and ever...\n",
              "9998    Yummy yummy yummy I got the chicken fried stea...\n",
              "9999    4 stars for the beer selection. 1 star for the...\n",
              "Name: text, Length: 10000, dtype: object"
            ]
          },
          "metadata": {
            "tags": []
          },
          "execution_count": 34
        }
      ]
    },
    {
      "cell_type": "code",
      "metadata": {
        "id": "27YZoBuKNavL"
      },
      "source": [
        "# pre-processing the data for better feature selection"
      ],
      "execution_count": null,
      "outputs": []
    },
    {
      "cell_type": "code",
      "metadata": {
        "id": "HURCeDLrNavM"
      },
      "source": [
        "# extract features\n",
        "train_tokens = [tokenize(text) for text in x_train_text]\n",
        "valid_tokens = [tokenize(text) for text in x_valid_text]\n",
        "\n",
        "train_stemmed = [stem(tokens) for tokens in train_tokens]\n",
        "valid_stemmed = [stem(tokens) for tokens in valid_tokens]\n",
        "\n",
        "train_stemmed = [filter_stopwords(tokens) for tokens in train_stemmed]\n",
        "valid_stemmed = [filter_stopwords(tokens) for tokens in valid_stemmed]\n",
        "\n",
        "train_2_gram = [n_gram(tokens, 2) for tokens in train_stemmed]\n",
        "train_3_gram = [n_gram(tokens, 3) for tokens in train_stemmed]\n",
        "valid_2_gram = [n_gram(tokens, 2) for tokens in valid_stemmed]\n",
        "valid_3_gram = [n_gram(tokens, 3) for tokens in valid_stemmed]"
      ],
      "execution_count": null,
      "outputs": []
    },
    {
      "cell_type": "code",
      "metadata": {
        "id": "k1gUFRscNavM",
        "outputId": "725eb3a1-9b46-44a0-9738-455cac5aa7e1"
      },
      "source": [
        "# build the feature list\n",
        "# Multinomial Logistic Regression with tokenize & stopwords & stemmed & min_freq=8\n",
        "\n",
        "max_len = 150\n",
        "train_feats = list()\n",
        "for i in range(len(x_train_text)):\n",
        "    train_feats.append(\n",
        "#         train_stemmed[i] + train_2_gram[i] + train_3_gram[i])\n",
        "        train_stemmed[i])\n",
        "valid_feats = list()\n",
        "for i in range(len(x_valid_text)):\n",
        "    valid_feats.append(\n",
        "#         valid_stemmed[i] + valid_2_gram[i] + valid_3_gram[i])\n",
        "        valid_stemmed[i])\n",
        "\n",
        "# build a mapping from features to indices\n",
        "feats_dict = get_feats_dict(\n",
        "    chain.from_iterable(train_feats),\n",
        "    min_freq=8)\n",
        "\n",
        "# build the feats_matrix\n",
        "# convert each example to a ont-hot vector, and then stack vectors as a matrix\n",
        "train_feats_matrix = np.vstack(\n",
        "    [get_onehot_vector(f, feats_dict) for f in train_feats])\n",
        "valid_feats_matrix = np.vstack(\n",
        "    [get_onehot_vector(f, feats_dict) for f in valid_feats])\n",
        "\n",
        "# convert labels to label_matrix\n",
        "num_classes = max(y_train)\n",
        "# convert each label to a ont-hot vector, and then stack vectors as a matrix\n",
        "train_label_matrix = keras.utils.to_categorical(y_train-1, num_classes=num_classes)\n",
        "valid_label_matrix = keras.utils.to_categorical(y_valid-1, num_classes=num_classes)"
      ],
      "execution_count": null,
      "outputs": [
        {
          "output_type": "stream",
          "text": [
            "Size of features: 5033\n"
          ],
          "name": "stdout"
        }
      ]
    },
    {
      "cell_type": "code",
      "metadata": {
        "id": "HuTAs8emNavM",
        "outputId": "c6f3dbbd-2ce0-4849-adc0-0f61e712ec10"
      },
      "source": [
        "# first, build a Counter for stemmed features, e.g., {\"text\": 2, \"mine\": 1}\n",
        "stemmed_feat_cnt = Counter()\n",
        "for feats in train_stemmed:\n",
        "    stemmed_feat_cnt.update(feats)\n",
        "print(\"stemmed feature size:\", len(stemmed_feat_cnt))\n",
        "\n",
        "# then, get the sorted features by the frequency\n",
        "stemmed_feat_keys = [f for f, cnt in stemmed_feat_cnt.most_common()]\n",
        "\n",
        "# draw linear lines and log lines for sorted features\n",
        "# set the figure size\n",
        "plt.figure(figsize=(10,4))\n",
        "# generate two subfigures and set current as the first one\n",
        "plt.subplot(1,2,1)\n",
        "# draw linear lines\n",
        "plt.plot(range(1, len(stemmed_feat_cnt)+1),\n",
        "         [stemmed_feat_cnt[f] for f in stemmed_feat_keys])\n",
        "# set labels\n",
        "plt.xlabel(\"Feature Index\")\n",
        "plt.ylabel(\"Feature Frequency\")\n",
        "# set current as the second one\n",
        "plt.subplot(1,2,2)\n",
        "# draw log lines\n",
        "plt.loglog(range(1, len(stemmed_feat_cnt)+1),\n",
        "           [stemmed_feat_cnt[f] for f in stemmed_feat_keys],\n",
        "           basex=10, basey=10)\n",
        "# set labels\n",
        "plt.xlabel(\"Feature Index\")\n",
        "plt.ylabel(\"Feature Frequency\")\n",
        "plt.show()"
      ],
      "execution_count": null,
      "outputs": [
        {
          "output_type": "stream",
          "text": [
            "stemmed feature size: 24119\n"
          ],
          "name": "stdout"
        },
        {
          "output_type": "stream",
          "text": [
            "<ipython-input-44-c1708e8294f5>:24: MatplotlibDeprecationWarning: The 'basex' parameter of __init__() has been renamed 'base' since Matplotlib 3.3; support for the old name will be dropped two minor releases later.\n",
            "  plt.loglog(range(1, len(stemmed_feat_cnt)+1),\n",
            "<ipython-input-44-c1708e8294f5>:24: MatplotlibDeprecationWarning: The 'basey' parameter of __init__() has been renamed 'base' since Matplotlib 3.3; support for the old name will be dropped two minor releases later.\n",
            "  plt.loglog(range(1, len(stemmed_feat_cnt)+1),\n"
          ],
          "name": "stderr"
        },
        {
          "output_type": "display_data",
          "data": {
            "image/png": "[encoded data removed]",
            "text/plain": [
              "<Figure size 720x288 with 2 Axes>"
            ]
          },
          "metadata": {
            "tags": [],
            "needs_background": "light"
          }
        }
      ]
    },
    {
      "cell_type": "code",
      "metadata": {
        "id": "AfuGs9ooNavM",
        "outputId": "f10124c2-d6e7-495f-e1cf-f08216e720b0"
      },
      "source": [
        "# build Counters for 2-gram features and 3-gram features\n",
        "bi_gram_feat_cnt = Counter()\n",
        "for feats in train_2_gram:\n",
        "    bi_gram_feat_cnt.update(feats)\n",
        "    \n",
        "tri_gram_feat_cnt = Counter()\n",
        "for feats in train_3_gram:\n",
        "    tri_gram_feat_cnt.update(feats)\n",
        "\n",
        "# then, get the sorted features by the frequency\n",
        "bi_gram_feat_keys = [f for f, cnt in bi_gram_feat_cnt.most_common()]\n",
        "tri_gram_feat_keys = [f for f,cnt in tri_gram_feat_cnt.most_common()]\n",
        "\n",
        "# draw linear lines and log lines for sorted features\n",
        "plt.figure(figsize=(15,5))\n",
        "plt.subplot(1,2,1)\n",
        "# put the four linear lines together\n",
        "plt.plot(range(1, len(stemmed_feat_cnt)+1),\n",
        "         [stemmed_feat_cnt[f] for f in stemmed_feat_keys],\n",
        "         label=\"stemmed\")\n",
        "plt.plot(range(1, len(bi_gram_feat_cnt)+1),\n",
        "         [bi_gram_feat_cnt[f] for f in bi_gram_feat_keys],\n",
        "         label=\"2-gram\")\n",
        "plt.plot(range(1, len(tri_gram_feat_cnt)+1),\n",
        "         [tri_gram_feat_cnt[f] for f in tri_gram_feat_keys],\n",
        "         label=\"3-gram\")\n",
        "plt.xlabel(\"Feature Index\")\n",
        "plt.ylabel(\"Feature Frequency\")\n",
        "# show the legend\n",
        "plt.legend()\n",
        "plt.subplot(1,2,2)\n",
        "# put the four log lines together\n",
        "plt.loglog(range(1, len(stemmed_feat_cnt)+1),\n",
        "         [stemmed_feat_cnt[f] for f in stemmed_feat_keys],\n",
        "           basex=10, basey=10, label=\"stemmed\")\n",
        "plt.loglog(range(1, len(bi_gram_feat_cnt)+1),\n",
        "         [bi_gram_feat_cnt[f] for f in bi_gram_feat_keys],\n",
        "           basex=10, basey=10, label=\"2-gram\")\n",
        "plt.loglog(range(1, len(tri_gram_feat_cnt)+1),\n",
        "         [tri_gram_feat_cnt[f] for f in tri_gram_feat_keys],\n",
        "           basex=10, basey=10, label=\"3-gram\")\n",
        "plt.xlabel(\"Feature Index\")\n",
        "plt.ylabel(\"Feature Frequency\")\n",
        "# show the legend\n",
        "plt.legend()\n",
        "plt.show()\n",
        "\n",
        "print(\"stemmed feature size:\", len(stemmed_feat_cnt))\n",
        "print(\"2-gram feature size:\", len(bi_gram_feat_cnt))\n",
        "print(\"3-gram feature size:\", len(tri_gram_feat_cnt))"
      ],
      "execution_count": null,
      "outputs": [
        {
          "output_type": "stream",
          "text": [
            "<ipython-input-45-c5e144309663>:33: MatplotlibDeprecationWarning: The 'basex' parameter of __init__() has been renamed 'base' since Matplotlib 3.3; support for the old name will be dropped two minor releases later.\n",
            "  plt.loglog(range(1, len(stemmed_feat_cnt)+1),\n",
            "<ipython-input-45-c5e144309663>:33: MatplotlibDeprecationWarning: The 'basey' parameter of __init__() has been renamed 'base' since Matplotlib 3.3; support for the old name will be dropped two minor releases later.\n",
            "  plt.loglog(range(1, len(stemmed_feat_cnt)+1),\n",
            "<ipython-input-45-c5e144309663>:36: MatplotlibDeprecationWarning: The 'basex' parameter of __init__() has been renamed 'base' since Matplotlib 3.3; support for the old name will be dropped two minor releases later.\n",
            "  plt.loglog(range(1, len(bi_gram_feat_cnt)+1),\n",
            "<ipython-input-45-c5e144309663>:36: MatplotlibDeprecationWarning: The 'basey' parameter of __init__() has been renamed 'base' since Matplotlib 3.3; support for the old name will be dropped two minor releases later.\n",
            "  plt.loglog(range(1, len(bi_gram_feat_cnt)+1),\n",
            "<ipython-input-45-c5e144309663>:39: MatplotlibDeprecationWarning: The 'basex' parameter of __init__() has been renamed 'base' since Matplotlib 3.3; support for the old name will be dropped two minor releases later.\n",
            "  plt.loglog(range(1, len(tri_gram_feat_cnt)+1),\n",
            "<ipython-input-45-c5e144309663>:39: MatplotlibDeprecationWarning: The 'basey' parameter of __init__() has been renamed 'base' since Matplotlib 3.3; support for the old name will be dropped two minor releases later.\n",
            "  plt.loglog(range(1, len(tri_gram_feat_cnt)+1),\n"
          ],
          "name": "stderr"
        },
        {
          "output_type": "display_data",
          "data": {
            "image/png": "[encoded data removed]",
            "text/plain": [
              "<Figure size 1080x360 with 2 Axes>"
            ]
          },
          "metadata": {
            "tags": [],
            "needs_background": "light"
          }
        },
        {
          "output_type": "stream",
          "text": [
            "stemmed feature size: 24119\n",
            "2-gram feature size: 331339\n",
            "3-gram feature size: 688795\n"
          ],
          "name": "stdout"
        }
      ]
    },
    {
      "cell_type": "code",
      "metadata": {
        "id": "2NaAROfPNavM",
        "outputId": "dec40133-13a7-4fb7-db4b-35668b575ab3"
      },
      "source": [
        "print(\"stemmed features > 10:\",\n",
        "      len([f for f, cnt in stemmed_feat_cnt.items() if cnt > 10]))\n",
        "print(\"2-gram features > 10:\",\n",
        "      len([f for f, cnt in bi_gram_feat_cnt.items() if cnt > 10]))\n",
        "print(\"3-gram features > 10:\",\n",
        "      len([f for f, cnt in tri_gram_feat_cnt.items() if cnt > 10]))"
      ],
      "execution_count": null,
      "outputs": [
        {
          "output_type": "stream",
          "text": [
            "stemmed features > 10: 4217\n",
            "2-gram features > 10: 9173\n",
            "3-gram features > 10: 2870\n"
          ],
          "name": "stdout"
        }
      ]
    },
    {
      "cell_type": "code",
      "metadata": {
        "scrolled": false,
        "id": "x_0cmK-zNavM",
        "outputId": "baa80b50-fbcf-4876-e1ed-aaf9be535496"
      },
      "source": [
        "print(\"stemmed features top 10:\",\n",
        "      stemmed_feat_keys[:10])\n",
        "print(\"2-gram features top 10:\",\n",
        "      bi_gram_feat_keys[:10])\n",
        "print(\"3-gram features top 10:\",\n",
        "      tri_gram_feat_keys[:10])"
      ],
      "execution_count": null,
      "outputs": [
        {
          "output_type": "stream",
          "text": [
            "stemmed features top 10: ['.', ',', 'I', 'wa', '!', 'thi', \"n't\", \"'s\", 'food', 'place']\n",
            "2-gram features top 10: ['. I', ', I', '! !', '. We', '. It', 'I wa', 'thi place', \"I 'm\", 'I would', \"I n't\"]\n",
            "3-gram features top 10: ['! ! !', '. It wa', \". It 's\", '. I wa', \". I 'm\", '. I would', \". I n't\", 'thi place .', ', I wa', \". I 've\"]\n"
          ],
          "name": "stdout"
        }
      ]
    },
    {
      "cell_type": "code",
      "metadata": {
        "scrolled": true,
        "id": "pUu_egpWNavN",
        "outputId": "3b8c2308-97a5-401c-d907-2c664e6e291c"
      },
      "source": [
        "len(feats_dict)"
      ],
      "execution_count": null,
      "outputs": [
        {
          "output_type": "execute_result",
          "data": {
            "text/plain": [
              "5033"
            ]
          },
          "metadata": {
            "tags": []
          },
          "execution_count": 52
        }
      ]
    },
    {
      "cell_type": "code",
      "metadata": {
        "id": "k_1vbooUNavN"
      },
      "source": [
        "# Model Selection"
      ],
      "execution_count": null,
      "outputs": []
    },
    {
      "cell_type": "code",
      "metadata": {
        "scrolled": true,
        "id": "wpxXkq0FNavN",
        "outputId": "d1fd9e17-cdf6-424b-9f48-a5b3a4c33feb"
      },
      "source": [
        "model_test = LogisticRegression(C=1.0, tol=1e-6, multi_class='multinomial', solver='newton-cg')\n",
        "model_test.fit(train_feats_matrix, y_train)"
      ],
      "execution_count": null,
      "outputs": [
        {
          "output_type": "execute_result",
          "data": {
            "text/plain": [
              "LogisticRegression(multi_class='multinomial', solver='newton-cg', tol=1e-06)"
            ]
          },
          "metadata": {
            "tags": []
          },
          "execution_count": 54
        }
      ]
    },
    {
      "cell_type": "code",
      "metadata": {
        "scrolled": true,
        "id": "SF0JqaDYNavN",
        "outputId": "39353306-835e-494d-a3c3-52b1caa30622"
      },
      "source": [
        "#Multinomial Logistic Regression with tokenize & stopwords & stemmed & min_freq=8\n",
        "y_valid = valid_df['stars']\n",
        "y_pred = model_test.predict(valid_feats_matrix)\n",
        "print(classification_report(y_valid, y_pred))\n",
        "print(\"\\n\\n\")\n",
        "print(confusion_matrix(y_valid, y_pred))\n",
        "print('accuracy', np.mean(y_valid == y_pred))"
      ],
      "execution_count": null,
      "outputs": [
        {
          "output_type": "stream",
          "text": [
            "              precision    recall  f1-score   support\n",
            "\n",
            "           1       0.72      0.75      0.74       517\n",
            "           2       0.35      0.26      0.30       278\n",
            "           3       0.42      0.43      0.43       344\n",
            "           4       0.45      0.49      0.47       427\n",
            "           5       0.65      0.64      0.65       434\n",
            "\n",
            "    accuracy                           0.55      2000\n",
            "   macro avg       0.52      0.52      0.52      2000\n",
            "weighted avg       0.54      0.55      0.55      2000\n",
            "\n",
            "\n",
            "\n",
            "\n",
            "[[389  64  36  15  13]\n",
            " [ 94  73  72  30   9]\n",
            " [ 30  55 149  92  18]\n",
            " [ 17  12  79 210 109]\n",
            " [ 11   6  19 119 279]]\n",
            "accuracy 0.55\n"
          ],
          "name": "stdout"
        }
      ]
    },
    {
      "cell_type": "markdown",
      "metadata": {
        "id": "5NErckS4NavN"
      },
      "source": [
        "### Try Word2Vec with LSTM"
      ]
    },
    {
      "cell_type": "code",
      "metadata": {
        "id": "-3VplKICNavN"
      },
      "source": [
        "\n",
        "# first save the reviews to txt\n",
        "x_w2v_train = train_df['text']\n",
        "x_w2v_train.to_csv('x_w2v_train.txt', header=True, index=False, sep='\\t', mode='a')"
      ],
      "execution_count": null,
      "outputs": []
    },
    {
      "cell_type": "code",
      "metadata": {
        "id": "8z6SlCnnNavN"
      },
      "source": [
        "def build_RNN(input_length, vocab_size, embedding_size,\n",
        "              hidden_size, output_size,\n",
        "              num_rnn_layers, num_mlp_layers,\n",
        "              rnn_type=\"lstm\",\n",
        "              bidirectional=False,\n",
        "              embedding_matrix=None,\n",
        "              activation=\"tanh\",\n",
        "              dropout_rate=0.0,\n",
        "              batch_norm=False,\n",
        "              l2_reg=0.0,\n",
        "              loss=\"categorical_crossentropy\",\n",
        "              optimizer=\"Adam\",\n",
        "              learning_rate=0.001,\n",
        "              metric=\"accuracy\"):\n",
        "    \"\"\"\n",
        "    :param input_length: the maximum length of sentences, type: int\n",
        "    :param vocab_size: the vacabulary size, type: int\n",
        "    :param embedding_size: the dimension of word representations, type: int\n",
        "    :param hidden_size: the dimension of the hidden states, type: int\n",
        "    :param output_size: the dimension of the prediction, type: int\n",
        "    :param num_rnn_layers: the number of layers of the RNN, type: int\n",
        "    :param num_mlp_layers: the number of layers of the MLP, type: int\n",
        "    :param rnn_type: the type of RNN, type: str\n",
        "    :param bidirectional: whether to use bidirectional rnn, type: bool\n",
        "    :param activation: the activation type, type: str\n",
        "    :param dropout_rate: the probability of dropout, type: float\n",
        "    :param batch_norm: whether to enable batch normalization, type: bool\n",
        "    :param l2_reg: the weight for the L2 regularizer, type: str\n",
        "    :param loss: the training loss, type: str\n",
        "    :param optimizer: the optimizer, type: str\n",
        "    :param learning_rate: the learning rate for the optimizer, type: float\n",
        "    :param metric: the metric, type: str\n",
        "    return a RNN for text classification,\n",
        "    # activation document: https://keras.io/activations/\n",
        "    # dropout document: https://keras.io/layers/core/#dropout\n",
        "    # embedding document: https://keras.io/layers/embeddings/#embedding\n",
        "    # recurrent layers document: https://keras.io/layers/recurrent\n",
        "    # batch normalization document: https://keras.io/layers/normalization/\n",
        "    # losses document: https://keras.io/losses/\n",
        "    # optimizers document: https://keras.io/optimizers/\n",
        "    # metrics document: https://keras.io/metrics/\n",
        "    \"\"\"\n",
        "    x = Input(shape=(input_length,))\n",
        "    \n",
        "    ################################\n",
        "    ###### Word Representation #####\n",
        "    ################################\n",
        "    # word representation layer\n",
        "    if embedding_matrix is not None:\n",
        "        emb = Embedding(input_dim=vocab_size,\n",
        "                        output_dim=embedding_size,\n",
        "                        input_length=input_length,\n",
        "                        embeddings_initializer=keras.initializers.Constant(embedding_matrix),\n",
        "                        trainable=False)(x)\n",
        "    else:\n",
        "        emb = Embedding(input_dim=vocab_size,\n",
        "                        output_dim=embedding_size,\n",
        "                        input_length=input_length,\n",
        "                        embeddings_initializer=keras.initializers.TruncatedNormal(mean=0.0, stddev=0.1, seed=0))(x)\n",
        "    \n",
        "    ################################\n",
        "    ####### Recurrent Layers #######\n",
        "    ################################\n",
        "    # recurrent layers\n",
        "    if rnn_type == \"rnn\":\n",
        "        fn = SimpleRNN\n",
        "    elif rnn_type == \"lstm\":\n",
        "        fn = LSTM\n",
        "    elif rnn_type == \"gru\":\n",
        "        fn = GRU\n",
        "    else:\n",
        "        raise NotImplementedError\n",
        "    h = emb\n",
        "    for i in range(num_rnn_layers):\n",
        "        is_last = (i == num_rnn_layers-1)\n",
        "        if bidirectional:\n",
        "            h = Bidirectional(fn(hidden_size,\n",
        "                                 kernel_initializer=keras.initializers.glorot_uniform(seed=0),\n",
        "                                 recurrent_initializer=keras.initializers.Orthogonal(gain=1.0, seed=0),\n",
        "                                 return_sequences=not is_last))(h)\n",
        "        else:\n",
        "            h = fn(hidden_size,\n",
        "                   kernel_initializer=keras.initializers.glorot_uniform(seed=0),\n",
        "                   recurrent_initializer=keras.initializers.Orthogonal(gain=1.0, seed=0),\n",
        "                   return_sequences=not is_last)(h)\n",
        "        h = Dropout(dropout_rate, seed=0)(h)\n",
        "    \n",
        "    ################################\n",
        "    #### Fully Connected Layers ####\n",
        "    ################################\n",
        "    # multi-layer perceptron\n",
        "    for i in range(num_mlp_layers-1):\n",
        "        new_h = Dense(hidden_size,\n",
        "                      kernel_initializer=keras.initializers.he_normal(seed=0),\n",
        "                      bias_initializer=\"zeros\",\n",
        "                      kernel_regularizer=keras.regularizers.l2(l2_reg))(h)\n",
        "        # add batch normalization layer\n",
        "        if batch_norm:\n",
        "            new_h = BatchNormalization()(new_h)\n",
        "        # add residual connection\n",
        "        if i == 0:\n",
        "            h = new_h\n",
        "        else:\n",
        "            h = Add()([h, new_h])\n",
        "        # add activation\n",
        "        h = Activation(activation)(h)\n",
        "    y = Dense(output_size,\n",
        "              activation=\"softmax\",\n",
        "              kernel_initializer=keras.initializers.he_normal(seed=0),\n",
        "              bias_initializer=\"zeros\")(h)\n",
        "    \n",
        "    # set the loss, the optimizer, and the metric\n",
        "    if optimizer == \"SGD\":\n",
        "        optimizer = keras.optimizers.SGD(lr=learning_rate)\n",
        "    elif optimizer == \"RMSprop\":\n",
        "        optmizer = keras.optimizers.RMSprop(learning_rate=learning_rate)\n",
        "    elif optimizer == \"Adam\":\n",
        "        optmizer = keras.optimizers.Adam(learning_rate=learning_rate)\n",
        "    else:\n",
        "        raise NotImplementedError\n",
        "    model = Model(x, y)\n",
        "    model.compile(loss=loss, optimizer=optimizer, metrics=[metric])\n",
        "    \n",
        "    return model"
      ],
      "execution_count": null,
      "outputs": []
    },
    {
      "cell_type": "code",
      "metadata": {
        "id": "W5WTM-QYNavN",
        "outputId": "ddf89bfb-bbde-41c4-bcaf-10f1928ca7b2"
      },
      "source": [
        "filepath = '/Users/cinder/Desktop/COMP4332_project_1/comp4332-project1-cnn-trial/x_w2v_train.txt'\n",
        "savepath = '/Users/cinder/Desktop/COMP4332_project_1/comp4332-project1-cnn-trial/word2vec.model'"
      ],
      "execution_count": null,
      "outputs": [
        {
          "output_type": "stream",
          "text": [
            "/opt/anaconda3/lib/python3.8/site-packages/gensim/similarities/__init__.py:15: UserWarning: The gensim.similarities.levenshtein submodule is disabled, because the optional Levenshtein package <https://pypi.org/project/python-Levenshtein/> is unavailable. Install Levenhstein (e.g. `pip install python-Levenshtein`) to suppress this warning.\n",
            "  warnings.warn(msg)\n"
          ],
          "name": "stderr"
        }
      ]
    },
    {
      "cell_type": "code",
      "metadata": {
        "id": "3j6oawZ3NavO"
      },
      "source": [
        "word_vectors = Word2Vec(corpus_file=filepath, vector_size=100, epochs=10, sg=1).wv\n",
        "word_vectors.save(savepath)"
      ],
      "execution_count": null,
      "outputs": []
    },
    {
      "cell_type": "code",
      "metadata": {
        "id": "p38rYhmHNavO",
        "outputId": "fc4c4fcd-e763-4045-ca31-10c2d4c7ae9e"
      },
      "source": [
        "embedding_matrix_ex = np.zeros((len(feats_dict), 100), dtype=np.float32)\n",
        "wv = KeyedVectors.load(savepath, mmap='r')\n",
        "print(\"number of words:\", len(wv), \"word dimension:\", wv.vector_size)\n",
        "for i in range(len(wv)):\n",
        "    word = wv.index_to_key[i]\n",
        "    word_idx = feats_dict.get(word, -1)\n",
        "    if word_idx != -1:\n",
        "        embedding_matrix_ex[word_idx] = wv[word]\n",
        "print(embedding_matrix_ex[:5])"
      ],
      "execution_count": null,
      "outputs": [
        {
          "output_type": "stream",
          "text": [
            "number of words: 29824 word dimension: 100\n",
            "[[-3.25290233e-01  3.92701060e-01 -2.69986868e-01  3.16164881e-01\n",
            "  -7.13994324e-01 -9.60341871e-01 -2.36831959e-02 -9.52675268e-02\n",
            "  -1.80247977e-01 -1.95862874e-01 -3.21728826e-01 -5.03894746e-01\n",
            "  -9.36819315e-02 -8.81114542e-01  5.43669105e-01 -1.30297646e-01\n",
            "   5.54483473e-01 -7.07324669e-02 -5.03927648e-01 -3.26483905e-01\n",
            "  -8.56881496e-03  3.65180969e-02 -2.93729842e-01  4.01948811e-03\n",
            "  -1.07995486e-02 -1.88596606e-01 -6.27012014e-01  4.92968291e-01\n",
            "  -5.54608822e-01  2.34811395e-01  5.24150014e-01 -1.78299829e-01\n",
            "   5.89855313e-01 -9.11453515e-02  3.09500396e-01 -2.25572735e-01\n",
            "   6.30509436e-01  3.29057634e-01 -2.73922533e-01 -8.97676349e-01\n",
            "   1.48662657e-01 -7.81213999e-01 -4.16494519e-01  2.32790392e-02\n",
            "   6.49805427e-01  6.22834079e-02 -6.29635751e-02 -6.22230589e-01\n",
            "   1.66624770e-01 -1.50451407e-01  3.48041445e-01 -4.69456822e-01\n",
            "  -1.01598382e-01  2.74266243e-01  1.28946707e-01  1.14109114e-01\n",
            "   8.04716572e-02 -3.00969303e-01 -7.95419216e-02  2.54807293e-01\n",
            "   6.36332691e-01 -8.89377818e-02  2.48189718e-01 -1.30133212e-01\n",
            "  -5.29764175e-01  6.25489056e-01  8.92381594e-02  6.42961025e-01\n",
            "   2.32249320e-01 -7.94053227e-02 -3.03870350e-01  4.57414031e-01\n",
            "  -8.17272127e-01 -6.04090452e-01 -3.15423578e-01 -7.41676614e-02\n",
            "  -1.21379388e-03  2.12917328e-01  5.56817293e-01  1.60341337e-02\n",
            "   3.93537521e-01 -4.52146292e-01 -7.26500392e-01  1.07382804e-01\n",
            "  -5.80910981e-01 -1.97178368e-02 -9.70523506e-02  1.22403598e+00\n",
            "  -1.27769843e-01 -1.40010506e-01  6.60570860e-01  1.79613039e-01\n",
            "   3.17911059e-02  1.24742016e-01  7.74345100e-01 -3.78959954e-01\n",
            "  -2.65877038e-01 -5.32536566e-01 -3.99163254e-02  1.93396375e-01]\n",
            " [-6.95627272e-01 -5.94720133e-02  1.24484837e-01 -1.10533334e-01\n",
            "   1.22610651e-01 -7.38626361e-01 -4.49711412e-01  1.32127643e-01\n",
            "   5.07841945e-01 -5.06372154e-01 -5.77856839e-01 -5.57232738e-01\n",
            "   2.80933492e-02 -4.08150494e-01 -3.34692150e-02 -3.23404342e-01\n",
            "   3.58061641e-01 -2.78866678e-01  3.69347408e-02 -8.46372008e-01\n",
            "   1.36083201e-01  1.64667025e-01 -3.03532213e-01 -2.16213018e-01\n",
            "   4.91681725e-01 -1.56226680e-01 -8.06261241e-01  3.34940910e-01\n",
            "  -4.66335893e-01 -1.87441185e-01  3.49830598e-01 -1.92138240e-01\n",
            "   3.97448540e-01 -4.36725289e-01  7.13594913e-01 -1.00187398e-01\n",
            "  -5.59352478e-03 -1.80174232e-01  3.14781964e-02 -3.27426344e-01\n",
            "   1.18705504e-01 -8.12277198e-01 -4.77684349e-01 -5.83139360e-01\n",
            "   3.71912062e-01  5.90815842e-01  2.29113787e-01 -2.64421284e-01\n",
            "  -2.53693275e-02 -4.07918133e-02  2.43275166e-02 -4.04210955e-01\n",
            "  -2.47808352e-01  4.66774851e-01  1.66831926e-01  4.18378353e-01\n",
            "  -2.32955262e-01 -3.51938933e-01  1.44886926e-01  4.14052606e-01\n",
            "   4.70595360e-01 -6.74576208e-04  7.22481847e-01 -1.53598562e-01\n",
            "  -1.24212094e-01  4.91411150e-01  4.71487306e-02  2.38118529e-01\n",
            "   1.72594771e-01  1.23993099e-01 -3.65371168e-01  1.65478036e-01\n",
            "  -5.49818039e-01 -4.66048360e-01 -6.28999574e-03  6.89771995e-02\n",
            "  -1.56439096e-01 -1.92259196e-02  8.88322651e-01  1.87097564e-01\n",
            "   3.55744809e-01 -5.98184586e-01 -7.67092347e-01  4.12881047e-01\n",
            "  -5.37431180e-01 -3.98477852e-01 -2.19977632e-01  8.86705577e-01\n",
            "  -3.24894220e-01  2.82357130e-02  5.32940924e-01 -1.56029209e-01\n",
            "  -1.01467460e-01 -8.03480223e-02  5.16072869e-01  2.46949881e-01\n",
            "  -2.00083375e-01  4.13327962e-02 -1.19754449e-01  7.32657194e-01]\n",
            " [-3.17747891e-01  1.00048691e-01 -1.71271414e-01  1.75713688e-01\n",
            "  -3.31183802e-03 -1.02082513e-01 -1.40613034e-01  3.44674319e-01\n",
            "  -1.45179853e-01 -7.27671757e-02  1.18448369e-01 -1.12618014e-01\n",
            "  -1.49508446e-01  1.23975798e-01 -7.01221004e-02 -4.52245399e-02\n",
            "  -6.70204759e-02  1.42614976e-01 -2.58583605e-01 -3.27081889e-01\n",
            "   7.50396075e-03 -3.08271021e-01  6.30785376e-02 -3.88671160e-01\n",
            "   1.64935157e-01 -1.02916889e-01  3.49181332e-02  3.69282290e-02\n",
            "   7.37608448e-02  8.16482604e-02  3.07727188e-01 -2.61720777e-01\n",
            "  -6.52024895e-02 -2.73566604e-01 -6.99984701e-03  2.89209802e-02\n",
            "   2.03436017e-01  1.27873763e-01  1.75112665e-01 -2.62710929e-01\n",
            "  -3.40309888e-01 -2.36428693e-01 -1.74190700e-01  1.09152503e-01\n",
            "   1.95364416e-01 -1.85427710e-01  1.27209842e-01 -2.83778310e-01\n",
            "   1.01207435e-01 -2.55107861e-02  9.16846022e-02 -9.87620354e-02\n",
            "   1.39421999e-01 -2.28570357e-01 -1.42115191e-01 -5.09761572e-02\n",
            "   3.30968127e-02 -6.32361695e-02  1.87463120e-01  1.54818013e-01\n",
            "  -3.23995650e-02 -2.67177939e-01  4.70277667e-01  2.64821023e-01\n",
            "  -4.04808342e-01  3.43943015e-02  1.04320034e-01  1.69726878e-01\n",
            "  -1.80935130e-01  1.27532482e-01 -4.16603312e-02  1.54142410e-01\n",
            "   2.04683557e-01  3.30965847e-01  2.75846452e-01  2.45262548e-01\n",
            "   3.52489114e-01  1.57563448e-01 -7.83908814e-02 -8.21500421e-02\n",
            "  -1.99711606e-01 -8.15559104e-02 -3.02896678e-01  1.80268571e-01\n",
            "   1.87041014e-02 -1.49931133e-01 -1.31439820e-01 -2.64054239e-02\n",
            "   3.58819187e-01  6.39924407e-02  1.37955174e-01  1.99395314e-01\n",
            "   1.62937924e-01  2.89950613e-02  3.45304936e-01  4.76357669e-01\n",
            "   2.45657742e-01 -4.07758504e-01 -1.05662763e-01 -3.11407931e-02]\n",
            " [ 0.00000000e+00  0.00000000e+00  0.00000000e+00  0.00000000e+00\n",
            "   0.00000000e+00  0.00000000e+00  0.00000000e+00  0.00000000e+00\n",
            "   0.00000000e+00  0.00000000e+00  0.00000000e+00  0.00000000e+00\n",
            "   0.00000000e+00  0.00000000e+00  0.00000000e+00  0.00000000e+00\n",
            "   0.00000000e+00  0.00000000e+00  0.00000000e+00  0.00000000e+00\n",
            "   0.00000000e+00  0.00000000e+00  0.00000000e+00  0.00000000e+00\n",
            "   0.00000000e+00  0.00000000e+00  0.00000000e+00  0.00000000e+00\n",
            "   0.00000000e+00  0.00000000e+00  0.00000000e+00  0.00000000e+00\n",
            "   0.00000000e+00  0.00000000e+00  0.00000000e+00  0.00000000e+00\n",
            "   0.00000000e+00  0.00000000e+00  0.00000000e+00  0.00000000e+00\n",
            "   0.00000000e+00  0.00000000e+00  0.00000000e+00  0.00000000e+00\n",
            "   0.00000000e+00  0.00000000e+00  0.00000000e+00  0.00000000e+00\n",
            "   0.00000000e+00  0.00000000e+00  0.00000000e+00  0.00000000e+00\n",
            "   0.00000000e+00  0.00000000e+00  0.00000000e+00  0.00000000e+00\n",
            "   0.00000000e+00  0.00000000e+00  0.00000000e+00  0.00000000e+00\n",
            "   0.00000000e+00  0.00000000e+00  0.00000000e+00  0.00000000e+00\n",
            "   0.00000000e+00  0.00000000e+00  0.00000000e+00  0.00000000e+00\n",
            "   0.00000000e+00  0.00000000e+00  0.00000000e+00  0.00000000e+00\n",
            "   0.00000000e+00  0.00000000e+00  0.00000000e+00  0.00000000e+00\n",
            "   0.00000000e+00  0.00000000e+00  0.00000000e+00  0.00000000e+00\n",
            "   0.00000000e+00  0.00000000e+00  0.00000000e+00  0.00000000e+00\n",
            "   0.00000000e+00  0.00000000e+00  0.00000000e+00  0.00000000e+00\n",
            "   0.00000000e+00  0.00000000e+00  0.00000000e+00  0.00000000e+00\n",
            "   0.00000000e+00  0.00000000e+00  0.00000000e+00  0.00000000e+00\n",
            "   0.00000000e+00  0.00000000e+00  0.00000000e+00  0.00000000e+00]\n",
            " [-3.79067123e-01 -3.48572671e-01 -5.58519661e-01 -1.14162095e-01\n",
            "  -1.82759553e-01 -7.49091387e-01  4.58877087e-01 -1.65622830e-01\n",
            "   1.88124955e-01 -4.45538670e-01 -2.45663881e-01  1.33604914e-01\n",
            "  -8.20921838e-01 -8.17057267e-02  6.19637549e-01 -1.83564529e-01\n",
            "  -7.17263147e-02 -4.79615003e-01  3.12084466e-01 -1.12771237e+00\n",
            "  -8.78654793e-02  1.71075746e-01 -8.12858939e-01  4.83823359e-01\n",
            "   5.68628669e-01  9.69671607e-02 -6.82241499e-01 -2.62961209e-01\n",
            "  -6.83079958e-01  1.91511051e-03  1.23298061e+00 -4.91662532e-01\n",
            "   1.27902076e-01 -3.34312022e-01  3.79046321e-01  1.64034799e-01\n",
            "   5.12343764e-01 -3.90254781e-02  1.45954490e-01 -1.51632279e-01\n",
            "   2.06113815e-01 -3.35359573e-01 -4.21750069e-01  2.18520373e-01\n",
            "   1.30112123e+00 -6.27391279e-01 -1.25893299e-02  1.18089803e-01\n",
            "   3.61379702e-03 -4.39109981e-01 -3.18539917e-01  2.29940489e-01\n",
            "  -4.16185856e-01  2.69081211e-03  4.57030088e-01  1.74595401e-01\n",
            "  -3.99242252e-01 -2.07106218e-01  4.81882133e-02  5.67450166e-01\n",
            "   2.56331116e-01  5.66436231e-01  3.33847821e-01 -4.08887595e-01\n",
            "   1.45936310e-01  1.87461138e-01 -2.45976493e-01 -9.58588272e-02\n",
            "  -3.47596377e-01  1.15865067e-01 -4.86574352e-01  5.44519186e-01\n",
            "  -4.21676904e-01  1.29250959e-01 -5.96416071e-02 -5.42802691e-01\n",
            "  -2.20131829e-01 -2.35847026e-01  1.36398196e-01  5.79056680e-01\n",
            "   8.46172590e-03 -7.33817875e-01 -5.45755208e-01  1.60582066e-02\n",
            "   1.13057457e-01 -2.83225086e-02  3.00446004e-01  1.36206055e+00\n",
            "  -5.25973830e-03  1.50809512e-01  7.33539283e-01  1.26981735e-01\n",
            "   6.83171332e-01 -2.08513901e-01  3.25614959e-01  1.70141965e-01\n",
            "  -1.92090541e-01 -4.76571172e-01 -7.96533406e-01  5.46869576e-01]]\n"
          ],
          "name": "stdout"
        }
      ]
    },
    {
      "cell_type": "code",
      "metadata": {
        "id": "mE2XgSl6NavO",
        "outputId": "cba92e6d-e281-41fc-9a7d-01cf6f3854bf"
      },
      "source": [
        "# build the feature list\n",
        "# W2V RNN\n",
        "\n",
        "maximum_len = 100\n",
        "train_w2v_feats = list()\n",
        "for i in range(len(x_train_text)):\n",
        "    train_w2v_feats.append(\n",
        "#         train_stemmed[i] + train_2_gram[i] + train_3_gram[i])\n",
        "        train_stemmed[i])\n",
        "valid_w2v_feats = list()\n",
        "for i in range(len(x_valid_text)):\n",
        "    valid_w2v_feats.append(\n",
        "#         valid_stemmed[i] + valid_2_gram[i] + valid_3_gram[i])\n",
        "        valid_stemmed[i])\n",
        "\n",
        "# build a mapping from features to indices\n",
        "feats_w2v_dict = get_feats_dict(\n",
        "    chain.from_iterable(train_w2v_feats),\n",
        "    min_freq=8)\n",
        "\n",
        "# build the feats_matrix\n",
        "# convert each example to a ont-hot vector, and then stack vectors as a matrix\n",
        "train_w2v_feats_matrix = np.vstack(\n",
        "    [get_index_vector(f, feats_w2v_dict, maximum_len) for f in train_w2v_feats])\n",
        "valid_w2v_feats_matrix = np.vstack(\n",
        "    [get_index_vector(f, feats_w2v_dict, maximum_len) for f in valid_w2v_feats])\n",
        "\n",
        "# convert labels to label_matrix\n",
        "num_classes = max(y_train)\n",
        "# convert each label to a ont-hot vector, and then stack vectors as a matrix\n",
        "train_w2v_label_matrix = keras.utils.to_categorical(y_train-1, num_classes=num_classes)\n",
        "valid_w2v_label_matrix = keras.utils.to_categorical(y_valid-1, num_classes=num_classes)"
      ],
      "execution_count": null,
      "outputs": [
        {
          "output_type": "stream",
          "text": [
            "Size of features: 5033\n"
          ],
          "name": "stdout"
        }
      ]
    },
    {
      "cell_type": "code",
      "metadata": {
        "id": "_KiahqRDNavO"
      },
      "source": [
        "# Code for LSTM + W2V"
      ],
      "execution_count": null,
      "outputs": []
    },
    {
      "cell_type": "markdown",
      "metadata": {
        "id": "gu4HBEFVNavO"
      },
      "source": [
        "### Try Logistical (multinomial)\n"
      ]
    },
    {
      "cell_type": "code",
      "metadata": {
        "id": "wUoLBt0BNavO",
        "outputId": "f991770e-4a75-480e-c3b3-674d3b8ab1e3"
      },
      "source": [
        "\n",
        "# The result shows that multinomial is better!\n",
        "x_demo_train = train_df['text']\n",
        "y_demo_train = train_df['stars']\n",
        "\n",
        "tfidf = TfidfVectorizer(tokenizer=tokenize)\n",
        "lr = LogisticRegression(C=1.0, tol=1e-6, multi_class='multinomial', solver='newton-cg')\n",
        "steps = [('tfidf', tfidf),('lr', lr)]\n",
        "pipe_demo = Pipeline(steps)\n",
        "print(pipe_demo)\n"
      ],
      "execution_count": null,
      "outputs": [
        {
          "output_type": "stream",
          "text": [
            "Pipeline(steps=[('tfidf',\n",
            "                 TfidfVectorizer(tokenizer=<function tokenize at 0x7fcf98cd5ee0>)),\n",
            "                ('lr',\n",
            "                 LogisticRegression(multi_class='multinomial',\n",
            "                                    solver='newton-cg', tol=1e-06))])\n"
          ],
          "name": "stdout"
        }
      ]
    },
    {
      "cell_type": "code",
      "metadata": {
        "id": "R0zBs1LkNavO",
        "outputId": "02fbb527-75c1-4338-93bb-43f37f729327"
      },
      "source": [
        "pipe_demo.fit(x_demo_train, y_demo_train)"
      ],
      "execution_count": null,
      "outputs": [
        {
          "output_type": "stream",
          "text": [
            "/opt/anaconda3/lib/python3.8/site-packages/scipy/optimize/linesearch.py:314: LineSearchWarning: The line search algorithm did not converge\n",
            "  warn('The line search algorithm did not converge', LineSearchWarning)\n",
            "/opt/anaconda3/lib/python3.8/site-packages/sklearn/utils/optimize.py:204: UserWarning: Line Search failed\n",
            "  warnings.warn('Line Search failed')\n"
          ],
          "name": "stderr"
        },
        {
          "output_type": "execute_result",
          "data": {
            "text/plain": [
              "Pipeline(steps=[('tfidf',\n",
              "                 TfidfVectorizer(tokenizer=<function tokenize at 0x7fcf98cd5ee0>)),\n",
              "                ('lr',\n",
              "                 LogisticRegression(multi_class='multinomial',\n",
              "                                    solver='newton-cg', tol=1e-06))])"
            ]
          },
          "metadata": {
            "tags": []
          },
          "execution_count": 70
        }
      ]
    },
    {
      "cell_type": "code",
      "metadata": {
        "id": "pAj65YA1NavO",
        "outputId": "e67eb04a-e3fa-4fec-906e-3f284dace151"
      },
      "source": [
        "x_demo_valid = valid_df['text']\n",
        "y_demo_valid = valid_df['stars']\n",
        "y_demo_pred = pipe_demo.predict(x_demo_valid)\n",
        "print(classification_report(y_demo_valid, y_demo_pred))\n",
        "print(\"\\n\\n\")\n",
        "print(confusion_matrix(y_demo_valid, y_demo_pred))\n",
        "print('accuracy', np.mean(y_demo_valid == y_demo_pred))"
      ],
      "execution_count": null,
      "outputs": [
        {
          "output_type": "stream",
          "text": [
            "              precision    recall  f1-score   support\n",
            "\n",
            "           1       0.69      0.87      0.77       517\n",
            "           2       0.44      0.21      0.28       278\n",
            "           3       0.48      0.47      0.47       344\n",
            "           4       0.51      0.54      0.53       427\n",
            "           5       0.71      0.71      0.71       434\n",
            "\n",
            "    accuracy                           0.60      2000\n",
            "   macro avg       0.57      0.56      0.55      2000\n",
            "weighted avg       0.59      0.60      0.59      2000\n",
            "\n",
            "\n",
            "\n",
            "\n",
            "[[448  31  23   8   7]\n",
            " [111  58  78  22   9]\n",
            " [ 49  33 160  93   9]\n",
            " [ 16   8  69 231 103]\n",
            " [ 22   2   5  97 308]]\n",
            "accuracy 0.6025\n"
          ],
          "name": "stdout"
        }
      ]
    },
    {
      "cell_type": "markdown",
      "metadata": {
        "id": "zQty2UZFNavP"
      },
      "source": [
        "### Try Logistic R with stop_words"
      ]
    },
    {
      "cell_type": "code",
      "metadata": {
        "id": "0SqEK2T_NavP",
        "outputId": "3c7e6bde-6551-4c03-dcc5-402547139607"
      },
      "source": [
        "# Demo + hyperparameter training\n",
        "# The result showing that without stop_words the performance is better!\n",
        "x_demo_h_train = train_df['text']\n",
        "y_demo_h_train = train_df['stars']\n",
        "\n",
        "tfidf_h = TfidfVectorizer(tokenizer=tokenize, stop_words = 'english')\n",
        "lr = LogisticRegression(C=1.0, tol=1e-6, multi_class='multinomial', solver='newton-cg')\n",
        "steps_h = [('tfidf_h', tfidf_h),('lr', lr)]\n",
        "pipe_demo_h = Pipeline(steps_h)\n",
        "print(pipe_demo_h)\n"
      ],
      "execution_count": null,
      "outputs": [
        {
          "output_type": "stream",
          "text": [
            "Pipeline(steps=[('tfidf_h',\n",
            "                 TfidfVectorizer(stop_words='english',\n",
            "                                 tokenizer=<function tokenize at 0x7fcf98cd5ee0>)),\n",
            "                ('lr',\n",
            "                 LogisticRegression(multi_class='multinomial',\n",
            "                                    solver='newton-cg', tol=1e-06))])\n"
          ],
          "name": "stdout"
        }
      ]
    },
    {
      "cell_type": "code",
      "metadata": {
        "id": "qkzW6FwwNavP",
        "outputId": "009c2a6a-26fd-458d-ffe6-de44f6f7e7a1"
      },
      "source": [
        "pipe_demo_h.fit(x_demo_h_train, y_demo_h_train)"
      ],
      "execution_count": null,
      "outputs": [
        {
          "output_type": "execute_result",
          "data": {
            "text/plain": [
              "Pipeline(steps=[('tfidf_h',\n",
              "                 TfidfVectorizer(stop_words='english',\n",
              "                                 tokenizer=<function tokenize at 0x7fcf98cd5ee0>)),\n",
              "                ('lr',\n",
              "                 LogisticRegression(multi_class='multinomial',\n",
              "                                    solver='newton-cg', tol=1e-06))])"
            ]
          },
          "metadata": {
            "tags": []
          },
          "execution_count": 73
        }
      ]
    },
    {
      "cell_type": "code",
      "metadata": {
        "id": "H0s4ggR7NavP",
        "outputId": "a2695e00-0912-4142-899d-37c790326c85"
      },
      "source": [
        "x_demo_h_valid = valid_df['text']\n",
        "y_demo_h_valid = valid_df['stars']\n",
        "y_demo_h_pred = pipe_demo_h.predict(x_demo_h_valid)\n",
        "print(classification_report(y_demo_h_valid, y_demo_h_pred))\n",
        "print(\"\\n\\n\")\n",
        "print(confusion_matrix(y_demo_h_valid, y_demo_h_pred))\n",
        "print('accuracy', np.mean(y_demo_h_valid == y_demo_h_pred))"
      ],
      "execution_count": null,
      "outputs": [
        {
          "output_type": "stream",
          "text": [
            "              precision    recall  f1-score   support\n",
            "\n",
            "           1       0.68      0.86      0.76       517\n",
            "           2       0.44      0.22      0.30       278\n",
            "           3       0.44      0.42      0.43       344\n",
            "           4       0.51      0.52      0.51       427\n",
            "           5       0.69      0.69      0.69       434\n",
            "\n",
            "    accuracy                           0.59      2000\n",
            "   macro avg       0.55      0.54      0.54      2000\n",
            "weighted avg       0.57      0.59      0.57      2000\n",
            "\n",
            "\n",
            "\n",
            "\n",
            "[[447  27  26   6  11]\n",
            " [113  62  71  26   6]\n",
            " [ 51  40 145  94  14]\n",
            " [ 21   9  69 222 106]\n",
            " [ 23   4  15  91 301]]\n",
            "accuracy 0.5885\n"
          ],
          "name": "stdout"
        }
      ]
    },
    {
      "cell_type": "markdown",
      "metadata": {
        "id": "1pcHA0p2NavP"
      },
      "source": [
        "### TRY BERT (Best model)"
      ]
    },
    {
      "cell_type": "code",
      "metadata": {
        "id": "JNlarh1LNavR"
      },
      "source": [
        "train_bert_df = train_df\n",
        "valid_bert_df = valid_df\n",
        "test_bert_df = test_df"
      ],
      "execution_count": 14,
      "outputs": []
    },
    {
      "cell_type": "code",
      "metadata": {
        "colab": {
          "base_uri": "https://localhost:8080/"
        },
        "id": "5xVePw-1NavR",
        "outputId": "44e7df9f-787f-4bb3-9d8c-206e1528965f"
      },
      "source": [
        "for i in range(len(train_bert_df)):\n",
        "    train_bert_df['stars'][i] = train_bert_df['stars'][i] -1"
      ],
      "execution_count": 15,
      "outputs": [
        {
          "output_type": "stream",
          "text": [
            "/usr/local/lib/python3.7/dist-packages/ipykernel_launcher.py:2: SettingWithCopyWarning: \n",
            "A value is trying to be set on a copy of a slice from a DataFrame\n",
            "\n",
            "See the caveats in the documentation: https://pandas.pydata.org/pandas-docs/stable/user_guide/indexing.html#returning-a-view-versus-a-copy\n",
            "  \n"
          ],
          "name": "stderr"
        }
      ]
    },
    {
      "cell_type": "code",
      "metadata": {
        "colab": {
          "base_uri": "https://localhost:8080/"
        },
        "id": "czR1yLtQNavS",
        "outputId": "ec423572-d83c-4623-d093-a6cbb2b38331"
      },
      "source": [
        "for i in range(len(valid_bert_df)):\n",
        "    valid_bert_df['stars'][i] = valid_bert_df['stars'][i] -1"
      ],
      "execution_count": 16,
      "outputs": [
        {
          "output_type": "stream",
          "text": [
            "/usr/local/lib/python3.7/dist-packages/ipykernel_launcher.py:2: SettingWithCopyWarning: \n",
            "A value is trying to be set on a copy of a slice from a DataFrame\n",
            "\n",
            "See the caveats in the documentation: https://pandas.pydata.org/pandas-docs/stable/user_guide/indexing.html#returning-a-view-versus-a-copy\n",
            "  \n"
          ],
          "name": "stderr"
        }
      ]
    },
    {
      "cell_type": "code",
      "metadata": {
        "colab": {
          "base_uri": "https://localhost:8080/",
          "height": 235,
          "referenced_widgets": [
            "bca1caf5adee4e798e03fd539b2978b8",
            "1b70710b2b784318adee221c2a848dd6",
            "bc29b317f1d440d8849e9579fc267ad4",
            "43171e979f314ae385027a7ccc03025b",
            "2be19d5f0f034b8580f5bb162d821796",
            "b48453cfe9144b75a703bd621d9ca574",
            "87f18769fc8d45a397454da085812c25",
            "0f3f223023a8489784e2a9481e54fb15",
            "eaf2e85e11834830b3fa57f2bb2c1915",
            "81d5fc68ec56480d92b4d643cf3663e5",
            "be2d2d7c17294177bbb76506cbf6b1fc",
            "6419bcfa5c2b4d2396fd7a55ecb18765",
            "aa805d016a074ce9add91f77a3a2b2e1",
            "0c272c723f20498b90bef09b3edab6a5",
            "25a089669d7f4d9d932e10ca5e70b799",
            "11a5e9b7f8c24ed5b574ed6072061f61",
            "f2c61ac4932249d49df4bd6a11129c7e",
            "96b91de876f34f098ca51065592eb0de",
            "190e59e8eaae4a7d8327bb198285330f",
            "a43c9518f6d547bb9012fe7a3d1400fb",
            "c783343f25f04066aaa071dba1abeee8",
            "08b30435ec5b4e61947211de97ba6700",
            "539d096d971042e98c1da28fd7ba5add",
            "bd0252cf36424f3e8cd4110e04dd471e"
          ]
        },
        "id": "JSdrsewLNavS",
        "outputId": "afc5ada4-c5bb-4cdf-9a58-a236efcebf85"
      },
      "source": [
        "tokenizer = BertTokenizer.from_pretrained('bert-base-uncased', \n",
        "                                          do_lower_case=True)\n",
        "                                          \n",
        "encoded_data_train = tokenizer.batch_encode_plus(\n",
        "    train_bert_df['text'], \n",
        "    add_special_tokens=True, \n",
        "    return_attention_mask=True, \n",
        "    pad_to_max_length=True, \n",
        "    max_length=256, \n",
        "    return_tensors='pt'\n",
        ")\n",
        "\n",
        "encoded_data_val = tokenizer.batch_encode_plus(\n",
        "    valid_bert_df['text'], \n",
        "    add_special_tokens=True, \n",
        "    return_attention_mask=True, \n",
        "    pad_to_max_length=True, \n",
        "    max_length=256, \n",
        "    return_tensors='pt'\n",
        ")\n",
        "\n",
        "encoded_data_test = tokenizer.batch_encode_plus(\n",
        "    test_bert_df['text'], \n",
        "    add_special_tokens=True, \n",
        "    return_attention_mask=True, \n",
        "    pad_to_max_length=True, \n",
        "    max_length=256, \n",
        "    return_tensors='pt'\n",
        ")\n",
        "\n",
        "\n",
        "\n",
        "\n",
        "input_ids_train = encoded_data_train['input_ids']\n",
        "attention_masks_train = encoded_data_train['attention_mask']\n",
        "labels_train = torch.tensor(train_bert_df['stars'])\n",
        "\n",
        "input_ids_val = encoded_data_val['input_ids']\n",
        "attention_masks_val = encoded_data_val['attention_mask']\n",
        "labels_val = torch.tensor(valid_bert_df['stars'])\n",
        "\n",
        "input_ids_test = encoded_data_test['input_ids']\n",
        "attention_masks_test = encoded_data_test['attention_mask']\n",
        "\n",
        "\n",
        "dataset_train = TensorDataset(input_ids_train, attention_masks_train, labels_train)\n",
        "dataset_val = TensorDataset(input_ids_val, attention_masks_val, labels_val)\n",
        "dataset_test = TensorDataset(input_ids_test, attention_masks_test)"
      ],
      "execution_count": 17,
      "outputs": [
        {
          "output_type": "display_data",
          "data": {
            "application/vnd.jupyter.widget-view+json": {
              "model_id": "bca1caf5adee4e798e03fd539b2978b8",
              "version_minor": 0,
              "version_major": 2
            },
            "text/plain": [
              "HBox(children=(FloatProgress(value=0.0, description='Downloading', max=231508.0, style=ProgressStyle(descripti…"
            ]
          },
          "metadata": {
            "tags": []
          }
        },
        {
          "output_type": "stream",
          "text": [
            "\n"
          ],
          "name": "stdout"
        },
        {
          "output_type": "display_data",
          "data": {
            "application/vnd.jupyter.widget-view+json": {
              "model_id": "eaf2e85e11834830b3fa57f2bb2c1915",
              "version_minor": 0,
              "version_major": 2
            },
            "text/plain": [
              "HBox(children=(FloatProgress(value=0.0, description='Downloading', max=28.0, style=ProgressStyle(description_w…"
            ]
          },
          "metadata": {
            "tags": []
          }
        },
        {
          "output_type": "stream",
          "text": [
            "\n"
          ],
          "name": "stdout"
        },
        {
          "output_type": "display_data",
          "data": {
            "application/vnd.jupyter.widget-view+json": {
              "model_id": "f2c61ac4932249d49df4bd6a11129c7e",
              "version_minor": 0,
              "version_major": 2
            },
            "text/plain": [
              "HBox(children=(FloatProgress(value=0.0, description='Downloading', max=466062.0, style=ProgressStyle(descripti…"
            ]
          },
          "metadata": {
            "tags": []
          }
        },
        {
          "output_type": "stream",
          "text": [
            "Truncation was not explicitly activated but `max_length` is provided a specific value, please use `truncation=True` to explicitly truncate examples to max length. Defaulting to 'longest_first' truncation strategy. If you encode pairs of sequences (GLUE-style) with the tokenizer you can select this strategy more precisely by providing a specific strategy to `truncation`.\n"
          ],
          "name": "stderr"
        },
        {
          "output_type": "stream",
          "text": [
            "\n"
          ],
          "name": "stdout"
        },
        {
          "output_type": "stream",
          "text": [
            "/usr/local/lib/python3.7/dist-packages/transformers/tokenization_utils_base.py:2074: FutureWarning: The `pad_to_max_length` argument is deprecated and will be removed in a future version, use `padding=True` or `padding='longest'` to pad to the longest sequence in the batch, or use `padding='max_length'` to pad to a max length. In this case, you can give a specific length with `max_length` (e.g. `max_length=45`) or leave max_length to None to pad to the maximal input size of the model (e.g. 512 for Bert).\n",
            "  FutureWarning,\n"
          ],
          "name": "stderr"
        }
      ]
    },
    {
      "cell_type": "code",
      "metadata": {
        "colab": {
          "base_uri": "https://localhost:8080/",
          "height": 220,
          "referenced_widgets": [
            "d5aa8f1cd07f4007b623c36df799379d",
            "dceff397b10f47a4a0e890c31927da5d",
            "cf3db48c4cb3463bb60ad2bd60bbfcdc",
            "9949f7adb8744cd58ecccbd683dba637",
            "aacd342744ee4410b4fd50f777842929",
            "266efb55cd6c47999eb167092e419137",
            "79e9c9841c204a4abb90b2bea6db5732",
            "9964768191b740a38343c77e27688e50",
            "b9ebae55546c470ca71b617f912f54fd",
            "990899f604634f67804b3aee7f7a6e7a",
            "2a570faec16c412f82bdacfc3bf96452",
            "330f5d572b57449ab3fea8bbbc96ae32",
            "365b9b0652df4ea791b06a7414f3aab6",
            "294c8af658d24cc78ee13b6d5fdab3eb",
            "4feded04031449d1bae3ad36e15d43c8",
            "0f3bcc7574ee4da98dc539217e744de9"
          ]
        },
        "id": "9WEaWPzFNavS",
        "outputId": "1f865417-7ae5-454e-df97-c58f1f201afa"
      },
      "source": [
        "bert_model = BertForSequenceClassification.from_pretrained(\"bert-base-uncased\",\n",
        "                                                      num_labels=5,\n",
        "                                                      output_attentions=False,\n",
        "                                                      output_hidden_states=False)"
      ],
      "execution_count": 18,
      "outputs": [
        {
          "output_type": "display_data",
          "data": {
            "application/vnd.jupyter.widget-view+json": {
              "model_id": "d5aa8f1cd07f4007b623c36df799379d",
              "version_minor": 0,
              "version_major": 2
            },
            "text/plain": [
              "HBox(children=(FloatProgress(value=0.0, description='Downloading', max=433.0, style=ProgressStyle(description_…"
            ]
          },
          "metadata": {
            "tags": []
          }
        },
        {
          "output_type": "stream",
          "text": [
            "\n"
          ],
          "name": "stdout"
        },
        {
          "output_type": "display_data",
          "data": {
            "application/vnd.jupyter.widget-view+json": {
              "model_id": "b9ebae55546c470ca71b617f912f54fd",
              "version_minor": 0,
              "version_major": 2
            },
            "text/plain": [
              "HBox(children=(FloatProgress(value=0.0, description='Downloading', max=440473133.0, style=ProgressStyle(descri…"
            ]
          },
          "metadata": {
            "tags": []
          }
        },
        {
          "output_type": "stream",
          "text": [
            "\n"
          ],
          "name": "stdout"
        },
        {
          "output_type": "stream",
          "text": [
            "Some weights of the model checkpoint at bert-base-uncased were not used when initializing BertForSequenceClassification: ['cls.predictions.bias', 'cls.predictions.transform.dense.weight', 'cls.predictions.transform.dense.bias', 'cls.predictions.decoder.weight', 'cls.seq_relationship.weight', 'cls.seq_relationship.bias', 'cls.predictions.transform.LayerNorm.weight', 'cls.predictions.transform.LayerNorm.bias']\n",
            "- This IS expected if you are initializing BertForSequenceClassification from the checkpoint of a model trained on another task or with another architecture (e.g. initializing a BertForSequenceClassification model from a BertForPreTraining model).\n",
            "- This IS NOT expected if you are initializing BertForSequenceClassification from the checkpoint of a model that you expect to be exactly identical (initializing a BertForSequenceClassification model from a BertForSequenceClassification model).\n",
            "Some weights of BertForSequenceClassification were not initialized from the model checkpoint at bert-base-uncased and are newly initialized: ['classifier.weight', 'classifier.bias']\n",
            "You should probably TRAIN this model on a down-stream task to be able to use it for predictions and inference.\n"
          ],
          "name": "stderr"
        }
      ]
    },
    {
      "cell_type": "code",
      "metadata": {
        "id": "3lPTUFlCNavS"
      },
      "source": [
        "batch_size = 20\n",
        "\n",
        "dataloader_train = DataLoader(dataset_train, \n",
        "                              sampler=RandomSampler(dataset_train), \n",
        "                              batch_size=batch_size)\n",
        "\n",
        "dataloader_validation = DataLoader(dataset_val, \n",
        "                                   sampler=SequentialSampler(dataset_val), \n",
        "                                   batch_size=batch_size)\n",
        "dataloader_test = DataLoader(dataset_test, \n",
        "                                   sampler=SequentialSampler(dataset_test), \n",
        "                                   batch_size=batch_size)"
      ],
      "execution_count": 152,
      "outputs": []
    },
    {
      "cell_type": "code",
      "metadata": {
        "id": "RVQ-w0bQNavS"
      },
      "source": [
        "optimizer = AdamW(bert_model.parameters(),\n",
        "                  lr=1e-5, \n",
        "                  eps=1e-8)\n",
        "                  \n",
        "epochs = 2\n",
        "\n",
        "scheduler = get_linear_schedule_with_warmup(optimizer, \n",
        "                                            num_warmup_steps=0,\n",
        "                                            num_training_steps=len(dataloader_train)*epochs)"
      ],
      "execution_count": 153,
      "outputs": []
    },
    {
      "cell_type": "code",
      "metadata": {
        "id": "uRIFsS5nNavS"
      },
      "source": [
        "def f1_score_func(preds, labels):\n",
        "    preds_flat = np.argmax(preds, axis=1).flatten()\n",
        "    labels_flat = labels.flatten()\n",
        "    return f1_score(labels_flat, preds_flat, average='weighted')\n",
        "\n",
        "def accuracy_per_class(preds, labels):\n",
        "    label_dict_inverse = {v: k for k, v in label_dict.items()}\n",
        "    \n",
        "    preds_flat = np.argmax(preds, axis=1).flatten()\n",
        "    labels_flat = labels.flatten()\n",
        "\n",
        "    for label in np.unique(labels_flat):\n",
        "        y_preds = preds_flat[labels_flat==label]\n",
        "        y_true = labels_flat[labels_flat==label]\n",
        "        print(f'Class: {label_dict_inverse[label]}')\n",
        "        print(f'Accuracy: {len(y_preds[y_preds==label])}/{len(y_true)}\\n')"
      ],
      "execution_count": 21,
      "outputs": []
    },
    {
      "cell_type": "code",
      "metadata": {
        "id": "GUrw4Te_NavS"
      },
      "source": [
        "device = torch.device('cuda') if torch.cuda.is_available() else torch.device('cpu')"
      ],
      "execution_count": 22,
      "outputs": []
    },
    {
      "cell_type": "code",
      "metadata": {
        "id": "PJtISrv_NavS"
      },
      "source": [
        ""
      ],
      "execution_count": null,
      "outputs": []
    },
    {
      "cell_type": "code",
      "metadata": {
        "colab": {
          "base_uri": "https://localhost:8080/",
          "height": 236,
          "referenced_widgets": [
            "4e0ec2b274a8437ba2a5413f6d2470f4",
            "bef09493ddd54729aafcd9e0662d0047",
            "50d0a53288d9466d81ed0ab92208e36b",
            "3b5f909883f14b11b7e5669e7f431456",
            "18ec9672c2674d6b8379182261638d06",
            "82486cf0b3a2405d970c762fca2cc4ec",
            "e6f749c2debf4fe9be9f5f79ffced30a",
            "93e3870f466c425ab8902b5230757d56",
            "3fd1708914ae4f52987e20dac4903e78",
            "9e6c08d8d4474c62bc11944ced88fe4e",
            "156f21216b4c433e912c0ca1ee2f8aa1",
            "d79f0019064d4060976ba0b87eb8c369",
            "a91563088a3d481f9ac5bf8820d7d314",
            "37564fdb59c748879ee208bbffebd065",
            "dac0b7421f40400597f4701afa69a1da",
            "da0c8ed1769242e58b619287d9509782",
            "a7cb819c5fd64bbca823b18bc84bca02",
            "82219ffc91f644a9914879f977f79abd",
            "ed27ad3be13a428a84ec2fd91bfcfcd4",
            "24863fd9b297475c9a51e63a17543163",
            "f75fcee4e12d4bc4b0a955fdcef81fe9",
            "e227d49fb8ac482394eb8b6efb09b01e",
            "dbdc70ea24814adcb05410b080061118",
            "2992ae602ac749ed8b0ff77cab4a698e"
          ]
        },
        "id": "6IbKepZnNavS",
        "outputId": "41a835d2-5cbc-48e3-f62d-0c97db8004d8"
      },
      "source": [
        "seed_val = 20\n",
        "random.seed(seed_val)\n",
        "np.random.seed(seed_val)\n",
        "torch.manual_seed(seed_val)\n",
        "torch.cuda.manual_seed_all(seed_val)\n",
        "\n",
        "def evaluate(dataloader_val):\n",
        "\n",
        "    bert_model.eval()\n",
        "    \n",
        "    loss_val_total = 0\n",
        "    predictions, true_vals = [], []\n",
        "    \n",
        "    for batch in dataloader_val:\n",
        "        \n",
        "        batch = tuple(b.to(device) for b in batch)\n",
        "        \n",
        "        inputs = {'input_ids':      batch[0],\n",
        "                  'attention_mask': batch[1],\n",
        "                  'labels':         batch[2],\n",
        "                 }\n",
        "\n",
        "        with torch.no_grad():        \n",
        "            outputs = bert_model(**inputs)\n",
        "            \n",
        "        loss = outputs[0]\n",
        "        logits = outputs[1]\n",
        "        loss_val_total += loss.item()\n",
        "\n",
        "        logits = logits.detach().cpu().numpy()\n",
        "        label_ids = inputs['labels'].cpu().numpy()\n",
        "        predictions.append(logits)\n",
        "        true_vals.append(label_ids)\n",
        "    \n",
        "    loss_val_avg = loss_val_total/len(dataloader_val) \n",
        "    \n",
        "    predictions = np.concatenate(predictions, axis=0)\n",
        "    true_vals = np.concatenate(true_vals, axis=0)\n",
        "            \n",
        "    return loss_val_avg, predictions, true_vals\n",
        "    \n",
        "for epoch in tqdm(range(1, epochs+1)):\n",
        "    bert_model = bert_model.to(device)\n",
        "    bert_model.train()\n",
        "    \n",
        "    loss_train_total = 0\n",
        "\n",
        "    progress_bar = tqdm(dataloader_train, desc='Epoch {:1d}'.format(epoch), leave=False, disable=False)\n",
        "    for batch in progress_bar:\n",
        "\n",
        "        bert_model.zero_grad()\n",
        "        \n",
        "        batch = tuple(b.to(device) for b in batch)\n",
        "        \n",
        "        inputs = {'input_ids':      batch[0],\n",
        "                  'attention_mask': batch[1],\n",
        "                  'labels':         batch[2],\n",
        "                 }       \n",
        "\n",
        "        # bert_model = bert_model.to(device)\n",
        "        outputs = bert_model(**inputs)\n",
        "        \n",
        "        loss = outputs[0]\n",
        "        loss_train_total += loss.item()\n",
        "        loss.backward()\n",
        "\n",
        "        torch.nn.utils.clip_grad_norm_(bert_model.parameters(), 1.0)\n",
        "\n",
        "        optimizer.step()\n",
        "        scheduler.step()\n",
        "        \n",
        "        progress_bar.set_postfix({'training_loss': '{:.3f}'.format(loss.item()/len(batch))})\n",
        "         \n",
        "        \n",
        "    torch.save(bert_model.state_dict(), f'./finetuned_BERT_epoch_{epoch}.bert_model')\n",
        "        \n",
        "    tqdm.write(f'\\nEpoch {epoch}')\n",
        "    \n",
        "    loss_train_avg = loss_train_total/len(dataloader_train)            \n",
        "    tqdm.write(f'Training loss: {loss_train_avg}')\n",
        "    \n",
        "    val_loss, predictions, true_vals = evaluate(dataloader_validation)\n",
        "    val_f1 = f1_score_func(predictions, true_vals)\n",
        "    tqdm.write(f'Validation loss: {val_loss}')\n",
        "    tqdm.write(f'F1 Score (Weighted): {val_f1}')\n"
      ],
      "execution_count": 154,
      "outputs": [
        {
          "output_type": "display_data",
          "data": {
            "application/vnd.jupyter.widget-view+json": {
              "model_id": "4e0ec2b274a8437ba2a5413f6d2470f4",
              "version_minor": 0,
              "version_major": 2
            },
            "text/plain": [
              "HBox(children=(FloatProgress(value=0.0, max=2.0), HTML(value='')))"
            ]
          },
          "metadata": {
            "tags": []
          }
        },
        {
          "output_type": "display_data",
          "data": {
            "application/vnd.jupyter.widget-view+json": {
              "model_id": "3fd1708914ae4f52987e20dac4903e78",
              "version_minor": 0,
              "version_major": 2
            },
            "text/plain": [
              "HBox(children=(FloatProgress(value=0.0, description='Epoch 1', max=500.0, style=ProgressStyle(description_widt…"
            ]
          },
          "metadata": {
            "tags": []
          }
        },
        {
          "output_type": "stream",
          "text": [
            "\r\n",
            "Epoch 1\n",
            "Training loss: 0.012704895866267179\n",
            "Validation loss: 4.050705887079239\n",
            "F1 Score (Weighted): 0.6252101760139549\n"
          ],
          "name": "stdout"
        },
        {
          "output_type": "display_data",
          "data": {
            "application/vnd.jupyter.widget-view+json": {
              "model_id": "a7cb819c5fd64bbca823b18bc84bca02",
              "version_minor": 0,
              "version_major": 2
            },
            "text/plain": [
              "HBox(children=(FloatProgress(value=0.0, description='Epoch 2', max=500.0, style=ProgressStyle(description_widt…"
            ]
          },
          "metadata": {
            "tags": []
          }
        },
        {
          "output_type": "stream",
          "text": [
            "\r\n",
            "Epoch 2\n",
            "Training loss: 0.007840853588450046\n",
            "Validation loss: 3.8791826474666595\n",
            "F1 Score (Weighted): 0.6430743174920999\n",
            "\n"
          ],
          "name": "stdout"
        }
      ]
    },
    {
      "cell_type": "code",
      "metadata": {
        "id": "sEncAKXMNavT"
      },
      "source": [
        "def evaluate_test(dataloader_val):\n",
        "\n",
        "    bert_model.eval()\n",
        "    \n",
        "    loss_val_total = 0\n",
        "    predictions, true_vals = [], []\n",
        "    \n",
        "    for batch in dataloader_val:\n",
        "        \n",
        "        batch = tuple(b.to(device) for b in batch)\n",
        "        \n",
        "        inputs = {'input_ids':      batch[0],\n",
        "                  'attention_mask': batch[1],\n",
        "                  'labels':         batch[2],\n",
        "                 }\n",
        "\n",
        "        with torch.no_grad():        \n",
        "            outputs = bert_model(**inputs)\n",
        "            print(outputs)\n",
        "            \n",
        "        loss = outputs[0]\n",
        "        logits = outputs[1]\n",
        "        loss_val_total += loss.item()\n",
        "\n",
        "        logits = logits.detach().cpu().numpy()\n",
        "        label_ids = inputs['labels'].cpu().numpy()\n",
        "        predictions.append(logits)\n",
        "        true_vals.append(label_ids)\n",
        "    \n",
        "    loss_val_avg = loss_val_total/len(dataloader_val) \n",
        "    \n",
        "    predictions = np.concatenate(predictions, axis=0)\n",
        "    true_vals = np.concatenate(true_vals, axis=0)\n",
        "            \n",
        "    return loss_val_avg, predictions, true_vals"
      ],
      "execution_count": 24,
      "outputs": []
    },
    {
      "cell_type": "code",
      "metadata": {
        "id": "I9KJmlxCNavT"
      },
      "source": [
        ""
      ],
      "execution_count": null,
      "outputs": []
    },
    {
      "cell_type": "code",
      "metadata": {
        "id": "J1RR3jWJNavT"
      },
      "source": [
        "def predict(dataloader_test):\n",
        "\n",
        "    bert_model.eval()\n",
        "    \n",
        "    loss_test_total = 0\n",
        "    predictions = []\n",
        "    \n",
        "    for batch in dataloader_test:\n",
        "        \n",
        "        batch = tuple(b.to(device) for b in batch)\n",
        "        \n",
        "        inputs = {'input_ids':      batch[0],\n",
        "                  'attention_mask': batch[1],\n",
        "                 }\n",
        "\n",
        "        with torch.no_grad():        \n",
        "            outputs = bert_model(**inputs)\n",
        "            # print(outputs)\n",
        "            \n",
        "        \n",
        "        logits = outputs[0]\n",
        "        \n",
        "\n",
        "        logits = logits.detach().cpu().numpy()\n",
        "        predictions.append(logits)\n",
        "    \n",
        "    \n",
        "    \n",
        "    predictions = np.concatenate(predictions, axis=0)\n",
        "            \n",
        "    return predictions"
      ],
      "execution_count": 56,
      "outputs": []
    },
    {
      "cell_type": "code",
      "metadata": {
        "id": "iTpsg8E0NavT"
      },
      "source": [
        "test_predictions= predict(dataloader_test)"
      ],
      "execution_count": 139,
      "outputs": []
    },
    {
      "cell_type": "code",
      "metadata": {
        "colab": {
          "base_uri": "https://localhost:8080/"
        },
        "id": "cLgaH6WpNavT",
        "outputId": "6edef447-e93b-4a56-d106-5f32edaa6b5e"
      },
      "source": [
        "test_predictions"
      ],
      "execution_count": 114,
      "outputs": [
        {
          "output_type": "execute_result",
          "data": {
            "text/plain": [
              "array([[-2.5605865, -0.7711997,  8.77281  , -2.1461902, -5.10825  ],\n",
              "       [-2.4168868, -2.6607456, -2.8782825, -1.4297142, 10.412367 ],\n",
              "       [-2.64769  , -2.8689756,  9.800759 , -3.0284176, -3.1300013],\n",
              "       ...,\n",
              "       [-2.6052732, -2.885942 , -3.1639674, -0.6934181, 10.4231825],\n",
              "       [-2.4272456, -3.5028832, -2.127954 , 10.198812 , -1.0336753],\n",
              "       [-2.3218057, -3.035021 , -2.2275927, 10.275491 , -1.6301703]],\n",
              "      dtype=float32)"
            ]
          },
          "metadata": {
            "tags": []
          },
          "execution_count": 114
        }
      ]
    },
    {
      "cell_type": "code",
      "metadata": {
        "colab": {
          "base_uri": "https://localhost:8080/"
        },
        "id": "slPK7rdKxOd_",
        "outputId": "9d6b9117-a9c7-471b-aeaf-887d3a251110"
      },
      "source": [
        "true_vals"
      ],
      "execution_count": 59,
      "outputs": [
        {
          "output_type": "execute_result",
          "data": {
            "text/plain": [
              "array([4, 2, 1, ..., 4, 2, 3])"
            ]
          },
          "metadata": {
            "tags": []
          },
          "execution_count": 59
        }
      ]
    },
    {
      "cell_type": "code",
      "metadata": {
        "id": "2pqas2AUNavU"
      },
      "source": [
        "list_pre = predictions.tolist()\n",
        "pre_vals = []\n",
        "\n",
        "for i in range(len(list_pre)):\n",
        "    pre_vals.append(list_pre[i].index(max(list_pre[i])))\n"
      ],
      "execution_count": 140,
      "outputs": []
    },
    {
      "cell_type": "code",
      "metadata": {
        "id": "0qIKp8IqNavU"
      },
      "source": [
        "true_list = true_vals.tolist()"
      ],
      "execution_count": 116,
      "outputs": []
    },
    {
      "cell_type": "code",
      "metadata": {
        "id": "R5lajMiKNavU"
      },
      "source": [
        "k = 0\n",
        "for i in range(len(true_list)):\n",
        "    if (pre_vals[i] == true_list[i]):\n",
        "        k +=1"
      ],
      "execution_count": 141,
      "outputs": []
    },
    {
      "cell_type": "code",
      "metadata": {
        "colab": {
          "base_uri": "https://localhost:8080/"
        },
        "id": "1F0f1ii3NavU",
        "outputId": "ad11fda5-4f76-4b2b-bb7c-86d341636ade"
      },
      "source": [
        "k/2000"
      ],
      "execution_count": 142,
      "outputs": [
        {
          "output_type": "execute_result",
          "data": {
            "text/plain": [
              "0.644"
            ]
          },
          "metadata": {
            "tags": []
          },
          "execution_count": 142
        }
      ]
    },
    {
      "cell_type": "code",
      "metadata": {
        "id": "7U62x_s99Rst"
      },
      "source": [
        "true_val_ans = []\n",
        "for i in range(len(true_list)):\n",
        "  true_val_ans.append(true_list[i]+1)"
      ],
      "execution_count": 88,
      "outputs": []
    },
    {
      "cell_type": "code",
      "metadata": {
        "id": "sIC9Knz69phW"
      },
      "source": [
        "true_val = pd.DataFrame(data={\n",
        "    'review_id': val_df_full['review_id'],\n",
        "    'stars': true_val_ans\n",
        "})"
      ],
      "execution_count": 89,
      "outputs": []
    },
    {
      "cell_type": "code",
      "metadata": {
        "id": "QCIgkiU29po3"
      },
      "source": [
        "true_val.to_csv(f'group22-true_ans.csv', index=False)"
      ],
      "execution_count": 90,
      "outputs": []
    },
    {
      "cell_type": "code",
      "metadata": {
        "id": "SAF_E9NX7OHu"
      },
      "source": [
        "final_valid_ans = []\n",
        "for i in range(len(pre_vals)):\n",
        "  final_valid_ans.append(pre_vals[i]+1)"
      ],
      "execution_count": 82,
      "outputs": []
    },
    {
      "cell_type": "code",
      "metadata": {
        "id": "MtVAKev_62Oe"
      },
      "source": [
        "val_ans = pd.DataFrame(data={\n",
        "    'review_id': val_df_full['review_id'],\n",
        "    'stars': final_valid_ans\n",
        "})"
      ],
      "execution_count": 84,
      "outputs": []
    },
    {
      "cell_type": "code",
      "metadata": {
        "id": "fyHGP9jZ62f7"
      },
      "source": [
        "val_ans.to_csv(f'group22-val_ans.csv', index=False)"
      ],
      "execution_count": 86,
      "outputs": []
    },
    {
      "cell_type": "code",
      "metadata": {
        "id": "rCbQMsCHNavU"
      },
      "source": [
        "# start the testing labels\n",
        "list_test_pre = test_predictions.tolist()\n",
        "test_pre_vals = []\n",
        "\n",
        "for i in range(len(list_test_pre)):\n",
        "    test_pre_vals.append(list_test_pre[i].index(max(list_test_pre[i])))"
      ],
      "execution_count": 143,
      "outputs": []
    },
    {
      "cell_type": "code",
      "metadata": {
        "id": "J_hB69xk57ND"
      },
      "source": [
        "final_test_ans = []\n",
        "\n",
        "for i in range(len(test_pre_vals)):\n",
        "  final_test_ans.append(test_pre_vals[i]+1)"
      ],
      "execution_count": 144,
      "outputs": []
    },
    {
      "cell_type": "code",
      "metadata": {
        "colab": {
          "base_uri": "https://localhost:8080/"
        },
        "id": "tU5gjxZy6GVm",
        "outputId": "fd6d0698-7138-4f61-cfe1-379537be1435"
      },
      "source": [
        "final_test_ans[-5:]"
      ],
      "execution_count": 145,
      "outputs": [
        {
          "output_type": "execute_result",
          "data": {
            "text/plain": [
              "[3, 4, 5, 4, 4]"
            ]
          },
          "metadata": {
            "tags": []
          },
          "execution_count": 145
        }
      ]
    },
    {
      "cell_type": "code",
      "metadata": {
        "id": "3o5X15VA5lTB"
      },
      "source": [
        "test_ans = pd.DataFrame(data={\n",
        "    'review_id': test_df['review_id'],\n",
        "    'stars': final_test_ans\n",
        "})"
      ],
      "execution_count": 146,
      "outputs": []
    },
    {
      "cell_type": "code",
      "metadata": {
        "colab": {
          "base_uri": "https://localhost:8080/",
          "height": 419
        },
        "id": "6Ib2-J2_52g7",
        "outputId": "fc8c09e6-d056-47f3-a9ed-fad73a2be6ec"
      },
      "source": [
        "test_ans"
      ],
      "execution_count": 124,
      "outputs": [
        {
          "output_type": "execute_result",
          "data": {
            "text/html": [
              "<div>\n",
              "<style scoped>\n",
              "    .dataframe tbody tr th:only-of-type {\n",
              "        vertical-align: middle;\n",
              "    }\n",
              "\n",
              "    .dataframe tbody tr th {\n",
              "        vertical-align: top;\n",
              "    }\n",
              "\n",
              "    .dataframe thead th {\n",
              "        text-align: right;\n",
              "    }\n",
              "</style>\n",
              "<table border=\"1\" class=\"dataframe\">\n",
              "  <thead>\n",
              "    <tr style=\"text-align: right;\">\n",
              "      <th></th>\n",
              "      <th>review_id</th>\n",
              "      <th>stars</th>\n",
              "    </tr>\n",
              "  </thead>\n",
              "  <tbody>\n",
              "    <tr>\n",
              "      <th>0</th>\n",
              "      <td>b8-ELBwhmDKcmcM8icT86g</td>\n",
              "      <td>3</td>\n",
              "    </tr>\n",
              "    <tr>\n",
              "      <th>1</th>\n",
              "      <td>rBpAJhIen_V-zLoXZIcROg</td>\n",
              "      <td>5</td>\n",
              "    </tr>\n",
              "    <tr>\n",
              "      <th>2</th>\n",
              "      <td>_pALaDG6se9OTkGGhyhnNA</td>\n",
              "      <td>3</td>\n",
              "    </tr>\n",
              "    <tr>\n",
              "      <th>3</th>\n",
              "      <td>ru8fpA1Uk0tTFtO5hLM49g</td>\n",
              "      <td>1</td>\n",
              "    </tr>\n",
              "    <tr>\n",
              "      <th>4</th>\n",
              "      <td>fRPgwuFoY6SriToXZyaOQA</td>\n",
              "      <td>1</td>\n",
              "    </tr>\n",
              "    <tr>\n",
              "      <th>...</th>\n",
              "      <td>...</td>\n",
              "      <td>...</td>\n",
              "    </tr>\n",
              "    <tr>\n",
              "      <th>1995</th>\n",
              "      <td>oZxqo6rspUimmoqKl0_qdA</td>\n",
              "      <td>3</td>\n",
              "    </tr>\n",
              "    <tr>\n",
              "      <th>1996</th>\n",
              "      <td>C_oCpNq91uTtOYUs2cChdg</td>\n",
              "      <td>4</td>\n",
              "    </tr>\n",
              "    <tr>\n",
              "      <th>1997</th>\n",
              "      <td>qMrxDB5fm8wIzexUp643xQ</td>\n",
              "      <td>5</td>\n",
              "    </tr>\n",
              "    <tr>\n",
              "      <th>1998</th>\n",
              "      <td>HrejfPp6Xduy5Pv7i-is1A</td>\n",
              "      <td>4</td>\n",
              "    </tr>\n",
              "    <tr>\n",
              "      <th>1999</th>\n",
              "      <td>cXo09g5VbXvLHtg52wqhdg</td>\n",
              "      <td>4</td>\n",
              "    </tr>\n",
              "  </tbody>\n",
              "</table>\n",
              "<p>2000 rows × 2 columns</p>\n",
              "</div>"
            ],
            "text/plain": [
              "                   review_id  stars\n",
              "0     b8-ELBwhmDKcmcM8icT86g      3\n",
              "1     rBpAJhIen_V-zLoXZIcROg      5\n",
              "2     _pALaDG6se9OTkGGhyhnNA      3\n",
              "3     ru8fpA1Uk0tTFtO5hLM49g      1\n",
              "4     fRPgwuFoY6SriToXZyaOQA      1\n",
              "...                      ...    ...\n",
              "1995  oZxqo6rspUimmoqKl0_qdA      3\n",
              "1996  C_oCpNq91uTtOYUs2cChdg      4\n",
              "1997  qMrxDB5fm8wIzexUp643xQ      5\n",
              "1998  HrejfPp6Xduy5Pv7i-is1A      4\n",
              "1999  cXo09g5VbXvLHtg52wqhdg      4\n",
              "\n",
              "[2000 rows x 2 columns]"
            ]
          },
          "metadata": {
            "tags": []
          },
          "execution_count": 124
        }
      ]
    },
    {
      "cell_type": "code",
      "metadata": {
        "id": "bSrqYBMlNavU"
      },
      "source": [
        "# test_pre_vals\n",
        "test_ans.to_csv(f'group22-test0.648_ans.csv', index=False)"
      ],
      "execution_count": 147,
      "outputs": []
    }
  ]
}