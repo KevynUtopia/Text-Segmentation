{
 "cells": [
  {
   "cell_type": "markdown",
   "metadata": {},
   "source": [
    "# Instructions for Project 1 - Sentiment Classification\n",
    "\n",
    "Hello everyone, this is Zihao. I am very happy to host the first project\n",
    "\n",
    "In this project, you will conduct a sentiment analysis task.\n",
    "You will build a model to predict the scores (a.k.a. stars, from 1-5) of each review.\n",
    "For each review, you are given a piece of text as well as some other features (Explore yourself!).\n",
    "You can consider the predicted variables to be categorical, ordinal or numerical.\n",
    "\n",
    "DDL: *April 6, 2021*\n",
    "- *March 23, 2021* release the validation score of weak baseline\n",
    "- *March 30, 2021* release the validation score of strong baseline\n",
    "\n",
    "Submission: Each team leader is required to submit the groupNo.zip file in the canvas. It shoud contain \n",
    "- `pre.csv` Predictions on test data (please make sure you can successfully evaluate your validation predictions on the validation data with the help of evaluate.py)\n",
    "- report (1-2 pages of pdf)\n",
    "- code (Frameworks and programming languages are not restricted.)\n",
    "\n",
    "We will check your report with your code and the accuracy.\n",
    "\n",
    "| Grade | Classifier (80%)                                                   | Report (20%)                      |\n",
    "|-------|--------------------------------------------------------------------|-----------------------------------|\n",
    "| 50%   | example code in tutorials or in Project 1 without any modification | submission                        |\n",
    "| 60%   | an easy baseline that most students can outperform                 | algorithm you used                |\n",
    "| 80%   | a competitive baseline that about half students can surpass        | detailed explanation              |\n",
    "| 90%   | a very competitive baseline without any special mechanism          | detailed explanation and analysis, such as explorative data analysis and ablation study |\n",
    "| 100%  | a very competitive baseline with at least one mechanism            | excellent ideas, detailed explanation and solid analysis |\n",
    "\n",
    "\n",
    "\n",
    "In this notebook, you are provided with the code snippets for you to start.\n",
    "\n",
    "The content follows previous lectures and tutorials. But I may mention some useful python packages.\n",
    "\n",
    "## Instruction Content\n",
    "\n",
    "1. Load & Dump the data\n",
    "    1. Load the data\n",
    "    1. Dump the data\n",
    "1. Preprocessing\n",
    "    1. Text data processing recap\n",
    "    1. Explorative data analysis\n",
    "1. Learning Baselines\n",
    "\n",
    "## 1. Load & Dump the data\n",
    "\n",
    "The same as previous tutorials, we use `pandas` as the basic tool to load & dump the data.\n",
    "The key ingredient of our operation is the `DataFrame` in pandas."
   ]
  },
  {
   "cell_type": "code",
   "execution_count": 1,
   "metadata": {},
   "outputs": [],
   "source": [
    "import pandas as pd"
   ]
  },
  {
   "cell_type": "markdown",
   "metadata": {},
   "source": [
    "### A. Load the data\n",
    "\n",
    "Here is a function to load your data, remember put the dataset in the `data_2021_spring` folder.\n",
    "\n",
    "Each year we release different data, so old models are not guaranteed to solve the new data."
   ]
  },
  {
   "cell_type": "code",
   "execution_count": 2,
   "metadata": {},
   "outputs": [],
   "source": [
    "def load_data(split_name='train', columns=['text', 'stars']):\n",
    "    try:\n",
    "        print(f\"select [{', '.join(columns)}] columns from the {split_name} split\")\n",
    "        df = pd.read_csv(f'data_2021_spring/{split_name}.csv')\n",
    "        df = df.loc[:,columns]\n",
    "        print(\"succeed!\")\n",
    "        return df\n",
    "    except:\n",
    "        print(\"Failed, then try to \")\n",
    "        print(f\"select all columns from the {split_name} split\")\n",
    "        df = pd.read_csv(f'data_2021_spring/{split_name}.csv')\n",
    "        return df"
   ]
  },
  {
   "cell_type": "markdown",
   "metadata": {},
   "source": [
    "Then you can extract the data by specifying the desired split and columns"
   ]
  },
  {
   "cell_type": "code",
   "execution_count": 3,
   "metadata": {},
   "outputs": [
    {
     "name": "stdout",
     "output_type": "stream",
     "text": [
      "select [text, stars] columns from the train split\n",
      "succeed!\n"
     ]
    }
   ],
   "source": [
    "train_df = load_data('train', columns=['text','stars'])"
   ]
  },
  {
   "cell_type": "code",
   "execution_count": 4,
   "metadata": {},
   "outputs": [
    {
     "data": {
      "text/html": [
       "<div>\n",
       "<style scoped>\n",
       "    .dataframe tbody tr th:only-of-type {\n",
       "        vertical-align: middle;\n",
       "    }\n",
       "\n",
       "    .dataframe tbody tr th {\n",
       "        vertical-align: top;\n",
       "    }\n",
       "\n",
       "    .dataframe thead th {\n",
       "        text-align: right;\n",
       "    }\n",
       "</style>\n",
       "<table border=\"1\" class=\"dataframe\">\n",
       "  <thead>\n",
       "    <tr style=\"text-align: right;\">\n",
       "      <th></th>\n",
       "      <th>text</th>\n",
       "      <th>stars</th>\n",
       "    </tr>\n",
       "  </thead>\n",
       "  <tbody>\n",
       "    <tr>\n",
       "      <th>0</th>\n",
       "      <td>Nice to have a diner still around. Food was go...</td>\n",
       "      <td>4</td>\n",
       "    </tr>\n",
       "    <tr>\n",
       "      <th>1</th>\n",
       "      <td>Tried this a while back, got the fried chicken...</td>\n",
       "      <td>2</td>\n",
       "    </tr>\n",
       "    <tr>\n",
       "      <th>2</th>\n",
       "      <td>I expected more pork selections on menu. Food ...</td>\n",
       "      <td>4</td>\n",
       "    </tr>\n",
       "    <tr>\n",
       "      <th>3</th>\n",
       "      <td>YUMMY!!! This place is phenomenal. It is Price...</td>\n",
       "      <td>4</td>\n",
       "    </tr>\n",
       "    <tr>\n",
       "      <th>4</th>\n",
       "      <td>The Truffle Macaroni &amp; Cheese and Potatoes Au ...</td>\n",
       "      <td>5</td>\n",
       "    </tr>\n",
       "  </tbody>\n",
       "</table>\n",
       "</div>"
      ],
      "text/plain": [
       "                                                text  stars\n",
       "0  Nice to have a diner still around. Food was go...      4\n",
       "1  Tried this a while back, got the fried chicken...      2\n",
       "2  I expected more pork selections on menu. Food ...      4\n",
       "3  YUMMY!!! This place is phenomenal. It is Price...      4\n",
       "4  The Truffle Macaroni & Cheese and Potatoes Au ...      5"
      ]
     },
     "execution_count": 4,
     "metadata": {},
     "output_type": "execute_result"
    }
   ],
   "source": [
    "train_df.head()"
   ]
  },
  {
   "cell_type": "code",
   "execution_count": 5,
   "metadata": {},
   "outputs": [
    {
     "name": "stdout",
     "output_type": "stream",
     "text": [
      "select [text, stars] columns from the test split\n",
      "Failed, then try to \n",
      "select all columns from the test split\n"
     ]
    }
   ],
   "source": [
    "test_df = load_data('test')"
   ]
  },
  {
   "cell_type": "code",
   "execution_count": 6,
   "metadata": {},
   "outputs": [
    {
     "data": {
      "text/plain": [
       "2000"
      ]
     },
     "execution_count": 6,
     "metadata": {},
     "output_type": "execute_result"
    }
   ],
   "source": [
    "len(test_df)"
   ]
  },
  {
   "cell_type": "markdown",
   "metadata": {},
   "source": [
    "### B. Dump the random answer\n",
    "\n",
    "In this project, your predictions on test data are supposed to be submitted by a csv file of two columns, i.e. (review_id and stars)\n",
    "\n",
    "Here we compose the random answer in a DataFrame and dump the answer into a csv file"
   ]
  },
  {
   "cell_type": "code",
   "execution_count": 7,
   "metadata": {},
   "outputs": [],
   "source": [
    "import numpy as np"
   ]
  },
  {
   "cell_type": "code",
   "execution_count": 8,
   "metadata": {},
   "outputs": [],
   "source": [
    "random_ans = pd.DataFrame(data={\n",
    "    'review_id': test_df['review_id'],\n",
    "    'stars': np.random.randint(0, 6, size=len(test_df))\n",
    "})"
   ]
  },
  {
   "cell_type": "code",
   "execution_count": 9,
   "metadata": {},
   "outputs": [
    {
     "data": {
      "text/html": [
       "<div>\n",
       "<style scoped>\n",
       "    .dataframe tbody tr th:only-of-type {\n",
       "        vertical-align: middle;\n",
       "    }\n",
       "\n",
       "    .dataframe tbody tr th {\n",
       "        vertical-align: top;\n",
       "    }\n",
       "\n",
       "    .dataframe thead th {\n",
       "        text-align: right;\n",
       "    }\n",
       "</style>\n",
       "<table border=\"1\" class=\"dataframe\">\n",
       "  <thead>\n",
       "    <tr style=\"text-align: right;\">\n",
       "      <th></th>\n",
       "      <th>review_id</th>\n",
       "      <th>stars</th>\n",
       "    </tr>\n",
       "  </thead>\n",
       "  <tbody>\n",
       "    <tr>\n",
       "      <th>0</th>\n",
       "      <td>b8-ELBwhmDKcmcM8icT86g</td>\n",
       "      <td>1</td>\n",
       "    </tr>\n",
       "    <tr>\n",
       "      <th>1</th>\n",
       "      <td>rBpAJhIen_V-zLoXZIcROg</td>\n",
       "      <td>2</td>\n",
       "    </tr>\n",
       "    <tr>\n",
       "      <th>2</th>\n",
       "      <td>_pALaDG6se9OTkGGhyhnNA</td>\n",
       "      <td>5</td>\n",
       "    </tr>\n",
       "    <tr>\n",
       "      <th>3</th>\n",
       "      <td>ru8fpA1Uk0tTFtO5hLM49g</td>\n",
       "      <td>2</td>\n",
       "    </tr>\n",
       "    <tr>\n",
       "      <th>4</th>\n",
       "      <td>fRPgwuFoY6SriToXZyaOQA</td>\n",
       "      <td>1</td>\n",
       "    </tr>\n",
       "  </tbody>\n",
       "</table>\n",
       "</div>"
      ],
      "text/plain": [
       "                review_id  stars\n",
       "0  b8-ELBwhmDKcmcM8icT86g      1\n",
       "1  rBpAJhIen_V-zLoXZIcROg      2\n",
       "2  _pALaDG6se9OTkGGhyhnNA      5\n",
       "3  ru8fpA1Uk0tTFtO5hLM49g      2\n",
       "4  fRPgwuFoY6SriToXZyaOQA      1"
      ]
     },
     "execution_count": 9,
     "metadata": {},
     "output_type": "execute_result"
    }
   ],
   "source": [
    "random_ans.head()"
   ]
  },
  {
   "cell_type": "code",
   "execution_count": 10,
   "metadata": {},
   "outputs": [],
   "source": [
    "group_number = -1\n",
    "random_ans.to_csv(f'{group_number}-random_ans.csv', index=False)"
   ]
  },
  {
   "cell_type": "markdown",
   "metadata": {},
   "source": [
    "## 2. Preprocessing\n",
    "\n",
    "Preprocessing and feature engineering is important in machine learning\n",
    "\n",
    "### A. Text data processing recap\n",
    "In our tutorials, Haoran have showed you how to extract textual features by the `nltk` package\n",
    "\n",
    "Remember to use the NLTK Downloader to obtain the resource:\n",
    "```\n",
    "  >>> import nltk\n",
    "  >>> nltk.download('stopwords')\n",
    "  >>> nltk.download('punkt')\n",
    "```"
   ]
  },
  {
   "cell_type": "code",
   "execution_count": 11,
   "metadata": {},
   "outputs": [],
   "source": [
    "import nltk\n",
    "from nltk.stem import PorterStemmer\n",
    "from nltk.corpus import stopwords\n",
    "stopwords = set(stopwords.words('english'))\n",
    "ps = PorterStemmer()\n",
    "\n",
    "def lower(s):\n",
    "    \"\"\"\n",
    "    :param s: a string.\n",
    "    return a string with lower characters\n",
    "    Note that we allow the input to be nested string of a list.\n",
    "    e.g.\n",
    "    Input: 'Text mining is to identify useful information.'\n",
    "    Output: 'text mining is to identify useful information.'\n",
    "    \"\"\"\n",
    "    if isinstance(s, list):\n",
    "        return [lower(t) for t in s]\n",
    "    if isinstance(s, str):\n",
    "        return s.lower()\n",
    "    else:\n",
    "        raise NotImplementedError(\"unknown datatype\")\n",
    "\n",
    "\n",
    "def tokenize(text):\n",
    "    \"\"\"\n",
    "    :param text: a doc with multiple sentences, type: str\n",
    "    return a word list, type: list\n",
    "    e.g.\n",
    "    Input: 'Text mining is to identify useful information.'\n",
    "    Output: ['Text', 'mining', 'is', 'to', 'identify', 'useful', 'information', '.']\n",
    "    \"\"\"\n",
    "    return nltk.word_tokenize(text)\n",
    "\n",
    "\n",
    "def stem(tokens):\n",
    "    \"\"\"\n",
    "    :param tokens: a list of tokens, type: list\n",
    "    return a list of stemmed words, type: list\n",
    "    e.g.\n",
    "    Input: ['Text', 'mining', 'is', 'to', 'identify', 'useful', 'information', '.']\n",
    "    Output: ['text', 'mine', 'is', 'to', 'identifi', 'use', 'inform', '.']\n",
    "    \"\"\"\n",
    "    ### equivalent code\n",
    "    # results = list()\n",
    "    # for token in tokens:\n",
    "    #     results.append(ps.stem(token))\n",
    "    # return results\n",
    "\n",
    "    return [ps.stem(token) for token in tokens]\n",
    "\n",
    "def n_gram(tokens, n= 3):\n",
    "    \"\"\"\n",
    "    :param tokens: a list of tokens, type: list\n",
    "    :param n: the corresponding n-gram, type: int\n",
    "    return a list of n-gram tokens, type: list\n",
    "    e.g.\n",
    "    Input: ['text', 'mine', 'is', 'to', 'identifi', 'use', 'inform', '.'], 2\n",
    "    Output: ['text mine', 'mine is', 'is to', 'to identifi', 'identifi use', 'use inform', 'inform .']\n",
    "    \"\"\"\n",
    "    if n == 1:\n",
    "        return tokens\n",
    "    else:\n",
    "        results = list()\n",
    "        for i in range(len(tokens)-n+1):\n",
    "            # tokens[i:i+n] will return a sublist from i th to i+n th (i+n th is not included)\n",
    "            results.append(\" \".join(tokens[i:i+n]))\n",
    "        return results\n",
    "\n",
    "def filter_stopwords(tokens):\n",
    "    \"\"\"\n",
    "    :param tokens: a list of tokens, type: list\n",
    "    return a list of filtered tokens, type: list\n",
    "    e.g.\n",
    "    Input: ['text', 'mine', 'is', 'to', 'identifi', 'use', 'inform', '.']\n",
    "    Output: ['text', 'mine', 'identifi', 'use', 'inform', '.']\n",
    "    \"\"\"\n",
    "    ### equivalent code\n",
    "    # results = list()\n",
    "    # for token in tokens:\n",
    "    #     if token not in stopwords and not token.isnumeric():\n",
    "    #         results.append(token)\n",
    "    # return results\n",
    "\n",
    "    return [token for token in tokens if token not in stopwords and not token.isnumeric()]\n",
    "\n",
    "def get_onehot_vector(feats, feats_dict):\n",
    "    \"\"\"\n",
    "    :param data: a list of features, type: list\n",
    "    :param feats_dict: a dict from features to indices, type: dict\n",
    "    return a feature vector,\n",
    "    \"\"\"\n",
    "    # initialize the vector as all zeros\n",
    "    vector = np.zeros(len(feats_dict), dtype=np.float)\n",
    "    for f in feats:\n",
    "        # get the feature index, return -1 if the feature is not existed\n",
    "        f_idx = feats_dict.get(f, -1)\n",
    "        if f_idx != -1:\n",
    "            # set the corresponding element as 1\n",
    "            vector[f_idx] = 1\n",
    "    return vector\n",
    "\n",
    "\n",
    "def get_feats_dict(feats, min_freq=-1, max_freq=-1, max_size=-1):\n",
    "    \"\"\"\n",
    "    :param data: a list of features, type: list(list)\n",
    "    :param min_freq: the lowest fequency that the fequency of a feature smaller than it will be filtered out, type: int\n",
    "    :param max_freq: the highest fequency that the fequency of a feature larger than it will be filtered out, type: int\n",
    "    :param max_size: the max size of feature dict, type: int\n",
    "    return a feature dict that maps features to indices, sorted by frequencies\n",
    "    # Counter document: https://docs.python.org/3.6/library/collections.html#collections.Counter\n",
    "    \"\"\"\n",
    "    # count all features\n",
    "    feat_cnt = Counter(feats) # [\"text\", \"text\", \"mine\"] --> {\"text\": 2, \"mine\": 1}\n",
    "    if max_size > 0 and min_freq == -1 and max_freq == -1:\n",
    "        valid_feats = [f for f, cnt in feat_cnt.most_common(max_size)]\n",
    "    else:\n",
    "        valid_feats = list()\n",
    "        for f, cnt in feat_cnt.most_common():\n",
    "            if (min_freq == -1 or cnt >= min_freq) and \\\n",
    "                (max_freq == -1 or cnt <= max_freq):\n",
    "                valid_feats.append(f)\n",
    "    if max_size > 0 and len(valid_feats) > max_size:\n",
    "        valid_feats = valid_feats[:max_size]        \n",
    "    print(\"Size of features:\", len(valid_feats))\n",
    "    \n",
    "    # build a mapping from features to indices\n",
    "    feats_dict = dict(zip(valid_feats, range(len(valid_feats))))\n",
    "    return feats_dict"
   ]
  },
  {
   "cell_type": "code",
   "execution_count": 12,
   "metadata": {},
   "outputs": [],
   "source": [
    "def get_index_vector(feats, feats_dict, max_len):\n",
    "    \"\"\"\n",
    "    :param feats: a list of features, type: list\n",
    "    :param feats_dict: a dict from features to indices, type: dict\n",
    "    :param feats: a list of features, type: list\n",
    "    return a feature vector,\n",
    "    \"\"\"\n",
    "    # initialize the vector as all zeros\n",
    "    vector = np.zeros(max_len, dtype=np.int64)\n",
    "    for i, f in enumerate(feats):\n",
    "        if i == max_len:\n",
    "            break\n",
    "        # get the feature index, return 1 (<unk>) if the feature is not existed\n",
    "        f_idx = feats_dict.get(f, 1)\n",
    "        vector[i] = f_idx\n",
    "    return vector"
   ]
  },
  {
   "cell_type": "markdown",
   "metadata": {},
   "source": [
    "Note that you can use the `map` function to apply your preprocessing functions into the dataframe."
   ]
  },
  {
   "cell_type": "code",
   "execution_count": 13,
   "metadata": {},
   "outputs": [
    {
     "name": "stdout",
     "output_type": "stream",
     "text": [
      "0    [i, took, up, train, union, station, catch, ai...\n",
      "1    [we, worked, fitness, twist, part, best, frien...\n",
      "2    [it, 's, typical, ,, average, ,, run-of-the-mi...\n",
      "3    [we, went, outback, today, celebrate, daughter...\n",
      "4    [we, went, see, nashville, unplugged, country,...\n"
     ]
    }
   ],
   "source": [
    "test_df['tokens'] = test_df['text'].map(tokenize).map(filter_stopwords).map(lower)\n",
    "print(test_df['tokens'].head().to_string())"
   ]
  },
  {
   "cell_type": "markdown",
   "metadata": {},
   "source": [
    "Besides `nltk`, I would like to introduce `SpaCy`, a newer text processing toolkit of industrial strength.\n",
    "\n",
    "You can explore it at https://spacy.io/\n",
    "\n",
    "Let's install it"
   ]
  },
  {
   "cell_type": "markdown",
   "metadata": {},
   "source": [
    "```bash\n",
    "python -m pip install spacy\n",
    "python -m spacy download en_core_web_sm\n",
    "```"
   ]
  },
  {
   "cell_type": "code",
   "execution_count": 14,
   "metadata": {},
   "outputs": [],
   "source": [
    "import spacy\n",
    "nlp = spacy.load('en_core_web_sm')"
   ]
  },
  {
   "cell_type": "markdown",
   "metadata": {},
   "source": [
    "SpaCy enables you use linguistic features of texts\n",
    "\n",
    "Example:"
   ]
  },
  {
   "cell_type": "code",
   "execution_count": 15,
   "metadata": {},
   "outputs": [
    {
     "name": "stdout",
     "output_type": "stream",
     "text": [
      "raw       ,\t stem      ,\t PartOfSpeech,\t dependency,\t shape     ,\t is alpha  ,\t is stop   ,\t its childrens in the parsing tree,\t \n",
      "--------------------------------------------------------------------------------------------------------------------------------------------\n",
      "Apple     ,\t Apple     ,\t PROPN     ,\t nsubj     ,\t Xxxxx     ,\t True      ,\t False     ,\t []        ,\t \n",
      "is        ,\t be        ,\t AUX       ,\t aux       ,\t xx        ,\t True      ,\t True      ,\t []        ,\t \n",
      "looking   ,\t look      ,\t VERB      ,\t ROOT      ,\t xxxx      ,\t True      ,\t False     ,\t [Apple, is, at, startup],\t \n",
      "at        ,\t at        ,\t ADP       ,\t prep      ,\t xx        ,\t True      ,\t True      ,\t [buying]  ,\t \n",
      "buying    ,\t buy       ,\t VERB      ,\t pcomp     ,\t xxxx      ,\t True      ,\t False     ,\t [U.K.]    ,\t \n",
      "U.K.      ,\t U.K.      ,\t PROPN     ,\t dobj      ,\t X.X.      ,\t False     ,\t False     ,\t []        ,\t \n",
      "startup   ,\t startup   ,\t NOUN      ,\t advcl     ,\t xxxx      ,\t True      ,\t False     ,\t [for]     ,\t \n",
      "for       ,\t for       ,\t ADP       ,\t prep      ,\t xxx       ,\t True      ,\t True      ,\t [billion] ,\t \n",
      "$         ,\t $         ,\t SYM       ,\t quantmod  ,\t $         ,\t False     ,\t False     ,\t []        ,\t \n",
      "1         ,\t 1         ,\t NUM       ,\t compound  ,\t d         ,\t False     ,\t False     ,\t []        ,\t \n",
      "billion   ,\t billion   ,\t NUM       ,\t pobj      ,\t xxxx      ,\t True      ,\t False     ,\t [$, 1]    ,\t \n"
     ]
    }
   ],
   "source": [
    "doc = nlp(\"Apple is looking at buying U.K. startup for $1 billion\")\n",
    "\n",
    "fmt = \"{:10s},\\t \" * 8\n",
    "print(fmt.format('raw', 'stem', 'PartOfSpeech', 'dependency', 'shape', 'is alpha', 'is stop', 'its childrens in the parsing tree'))\n",
    "print('-'*140)\n",
    "for token in doc:\n",
    "    print(fmt.format(token.text, token.lemma_, token.pos_, token.dep_,\n",
    "            token.shape_, str(token.is_alpha), str(token.is_stop), str(list(token.children))))"
   ]
  },
  {
   "cell_type": "markdown",
   "metadata": {},
   "source": [
    "SpaCy also allows you use the embeddings for both sentence and words\n",
    "\n",
    "Example:"
   ]
  },
  {
   "cell_type": "code",
   "execution_count": 16,
   "metadata": {},
   "outputs": [
    {
     "name": "stdout",
     "output_type": "stream",
     "text": [
      "Apple is looking at buying U.K. startup for $1 billion [ 0.4847193   0.34561655  0.23650904 -0.27294627  0.30828613] ...\n",
      "Apple [ 0.9396687   0.46727175 -0.3862503  -0.23296848  0.25683203] ...\n",
      "is [-0.21470308 -0.36800703  1.8618155  -0.43874717 -0.6448474 ] ...\n",
      "looking [ 1.5960355  -0.01218066 -0.1948367   0.7979922   0.36900565] ...\n",
      "at [-1.2617028  -0.8116296  -0.55736023  0.08604071 -0.43663728] ...\n",
      "buying [ 0.3020423  -0.9611639   1.2695026   0.10633498  2.8583994 ] ...\n",
      "U.K. [ 2.2959712   0.78135234 -1.0174923  -0.5566485   0.69199914] ...\n",
      "startup [0.6782811  0.03798376 0.07798427 0.1210558  0.5636424 ] ...\n",
      "for [-0.07904667 -0.21996386 -1.3529027  -0.24131706  0.43687835] ...\n",
      "$ [ 0.44878927  0.75564337  0.5757578  -1.1713823   0.7438692 ] ...\n",
      "1 [-0.3846085  2.7049747  2.7081459 -1.4393395 -0.5412608] ...\n",
      "billion [ 1.011186    1.4275012  -0.38276425 -0.03342953 -0.9067332 ] ...\n"
     ]
    }
   ],
   "source": [
    "print(doc, doc.vector[:5], '...')\n",
    "for t in doc:\n",
    "    print(t, t.vector[:5], '...')"
   ]
  },
  {
   "cell_type": "markdown",
   "metadata": {},
   "source": [
    "For more usage of SpaCy, you can refer to the documentation of spacy https://spacy.io/usage"
   ]
  },
  {
   "cell_type": "markdown",
   "metadata": {},
   "source": [
    "### B. Explorative data analysis\n",
    "\n",
    "For our dataset, we have features more than text"
   ]
  },
  {
   "cell_type": "code",
   "execution_count": 17,
   "metadata": {},
   "outputs": [
    {
     "name": "stdout",
     "output_type": "stream",
     "text": [
      "select [f, u, l, l] columns from the train split\n",
      "Failed, then try to \n",
      "select all columns from the train split\n"
     ]
    }
   ],
   "source": [
    "train_df_full = load_data('train', columns='full')"
   ]
  },
  {
   "cell_type": "code",
   "execution_count": 18,
   "metadata": {},
   "outputs": [
    {
     "data": {
      "text/html": [
       "<div>\n",
       "<style scoped>\n",
       "    .dataframe tbody tr th:only-of-type {\n",
       "        vertical-align: middle;\n",
       "    }\n",
       "\n",
       "    .dataframe tbody tr th {\n",
       "        vertical-align: top;\n",
       "    }\n",
       "\n",
       "    .dataframe thead th {\n",
       "        text-align: right;\n",
       "    }\n",
       "</style>\n",
       "<table border=\"1\" class=\"dataframe\">\n",
       "  <thead>\n",
       "    <tr style=\"text-align: right;\">\n",
       "      <th></th>\n",
       "      <th>business_id</th>\n",
       "      <th>cool</th>\n",
       "      <th>date</th>\n",
       "      <th>funny</th>\n",
       "      <th>review_id</th>\n",
       "      <th>stars</th>\n",
       "      <th>text</th>\n",
       "      <th>useful</th>\n",
       "      <th>user_id</th>\n",
       "    </tr>\n",
       "  </thead>\n",
       "  <tbody>\n",
       "    <tr>\n",
       "      <th>0</th>\n",
       "      <td>39rLHYJOy2774ZIUouuWLw</td>\n",
       "      <td>0</td>\n",
       "      <td>2017-06-28 21:44:02</td>\n",
       "      <td>0</td>\n",
       "      <td>ynzOFepQYSCDGdfWDWxiZw</td>\n",
       "      <td>4</td>\n",
       "      <td>Nice to have a diner still around. Food was go...</td>\n",
       "      <td>0</td>\n",
       "      <td>Sl6VgFOB-XXfFIAYp7TFkw</td>\n",
       "    </tr>\n",
       "    <tr>\n",
       "      <th>1</th>\n",
       "      <td>E-Kq1Yu1d6N3TL2qX0aqjA</td>\n",
       "      <td>0</td>\n",
       "      <td>2018-04-09 03:45:19</td>\n",
       "      <td>0</td>\n",
       "      <td>sQX9ncJBEdBf16AWsvO6Vg</td>\n",
       "      <td>2</td>\n",
       "      <td>Tried this a while back, got the fried chicken...</td>\n",
       "      <td>0</td>\n",
       "      <td>gcx01pMqWzkni2UC-zoZrA</td>\n",
       "    </tr>\n",
       "    <tr>\n",
       "      <th>2</th>\n",
       "      <td>nWW6fBfBljiRFa4sG7TyxA</td>\n",
       "      <td>0</td>\n",
       "      <td>2014-07-19 02:00:04</td>\n",
       "      <td>0</td>\n",
       "      <td>bVIf2kqbzvif3miNe3ARNw</td>\n",
       "      <td>4</td>\n",
       "      <td>I expected more pork selections on menu. Food ...</td>\n",
       "      <td>0</td>\n",
       "      <td>Mn9VzPbrCYU4EcP_C1oBOg</td>\n",
       "    </tr>\n",
       "    <tr>\n",
       "      <th>3</th>\n",
       "      <td>qmIHO-6T_KEfPC9jyGDamQ</td>\n",
       "      <td>0</td>\n",
       "      <td>2011-11-11 08:10:24</td>\n",
       "      <td>0</td>\n",
       "      <td>LNj1OFxy2ool3PZANGchPA</td>\n",
       "      <td>4</td>\n",
       "      <td>YUMMY!!! This place is phenomenal. It is Price...</td>\n",
       "      <td>0</td>\n",
       "      <td>SKV1heo00fdciCbCN9Z33A</td>\n",
       "    </tr>\n",
       "    <tr>\n",
       "      <th>4</th>\n",
       "      <td>pKk7jCFIm96qDdk0laVT2w</td>\n",
       "      <td>1</td>\n",
       "      <td>2010-01-16 20:04:00</td>\n",
       "      <td>1</td>\n",
       "      <td>bZXxa0hO6wQlHD-MkMf4iw</td>\n",
       "      <td>5</td>\n",
       "      <td>The Truffle Macaroni &amp; Cheese and Potatoes Au ...</td>\n",
       "      <td>1</td>\n",
       "      <td>p1r7rZYruZR92x1A649PTQ</td>\n",
       "    </tr>\n",
       "  </tbody>\n",
       "</table>\n",
       "</div>"
      ],
      "text/plain": [
       "              business_id  cool                 date  funny  \\\n",
       "0  39rLHYJOy2774ZIUouuWLw     0  2017-06-28 21:44:02      0   \n",
       "1  E-Kq1Yu1d6N3TL2qX0aqjA     0  2018-04-09 03:45:19      0   \n",
       "2  nWW6fBfBljiRFa4sG7TyxA     0  2014-07-19 02:00:04      0   \n",
       "3  qmIHO-6T_KEfPC9jyGDamQ     0  2011-11-11 08:10:24      0   \n",
       "4  pKk7jCFIm96qDdk0laVT2w     1  2010-01-16 20:04:00      1   \n",
       "\n",
       "                review_id  stars  \\\n",
       "0  ynzOFepQYSCDGdfWDWxiZw      4   \n",
       "1  sQX9ncJBEdBf16AWsvO6Vg      2   \n",
       "2  bVIf2kqbzvif3miNe3ARNw      4   \n",
       "3  LNj1OFxy2ool3PZANGchPA      4   \n",
       "4  bZXxa0hO6wQlHD-MkMf4iw      5   \n",
       "\n",
       "                                                text  useful  \\\n",
       "0  Nice to have a diner still around. Food was go...       0   \n",
       "1  Tried this a while back, got the fried chicken...       0   \n",
       "2  I expected more pork selections on menu. Food ...       0   \n",
       "3  YUMMY!!! This place is phenomenal. It is Price...       0   \n",
       "4  The Truffle Macaroni & Cheese and Potatoes Au ...       1   \n",
       "\n",
       "                  user_id  \n",
       "0  Sl6VgFOB-XXfFIAYp7TFkw  \n",
       "1  gcx01pMqWzkni2UC-zoZrA  \n",
       "2  Mn9VzPbrCYU4EcP_C1oBOg  \n",
       "3  SKV1heo00fdciCbCN9Z33A  \n",
       "4  p1r7rZYruZR92x1A649PTQ  "
      ]
     },
     "execution_count": 18,
     "metadata": {},
     "output_type": "execute_result"
    }
   ],
   "source": [
    "train_df_full.head()"
   ]
  },
  {
   "cell_type": "code",
   "execution_count": 19,
   "metadata": {},
   "outputs": [
    {
     "name": "stdout",
     "output_type": "stream",
     "text": [
      "select [f, u, l, l] columns from the valid split\n",
      "Failed, then try to \n",
      "select all columns from the valid split\n"
     ]
    }
   ],
   "source": [
    "val_df_full = load_data('valid', columns='full')"
   ]
  },
  {
   "cell_type": "code",
   "execution_count": 20,
   "metadata": {},
   "outputs": [
    {
     "name": "stdout",
     "output_type": "stream",
     "text": [
      "select [f, u, l, l] columns from the test split\n",
      "Failed, then try to \n",
      "select all columns from the test split\n"
     ]
    }
   ],
   "source": [
    "test_df_full = load_data('test', columns='full')"
   ]
  },
  {
   "cell_type": "code",
   "execution_count": 21,
   "metadata": {},
   "outputs": [
    {
     "data": {
      "text/html": [
       "<div>\n",
       "<style scoped>\n",
       "    .dataframe tbody tr th:only-of-type {\n",
       "        vertical-align: middle;\n",
       "    }\n",
       "\n",
       "    .dataframe tbody tr th {\n",
       "        vertical-align: top;\n",
       "    }\n",
       "\n",
       "    .dataframe thead th {\n",
       "        text-align: right;\n",
       "    }\n",
       "</style>\n",
       "<table border=\"1\" class=\"dataframe\">\n",
       "  <thead>\n",
       "    <tr style=\"text-align: right;\">\n",
       "      <th></th>\n",
       "      <th>business_id</th>\n",
       "      <th>cool</th>\n",
       "      <th>date</th>\n",
       "      <th>funny</th>\n",
       "      <th>review_id</th>\n",
       "      <th>text</th>\n",
       "      <th>useful</th>\n",
       "      <th>user_id</th>\n",
       "    </tr>\n",
       "  </thead>\n",
       "  <tbody>\n",
       "    <tr>\n",
       "      <th>0</th>\n",
       "      <td>7YYrZ9LgjpKLTtF-huhJug</td>\n",
       "      <td>0</td>\n",
       "      <td>2018-04-04 21:21:45</td>\n",
       "      <td>0</td>\n",
       "      <td>b8-ELBwhmDKcmcM8icT86g</td>\n",
       "      <td>I took the UP Train to Union Station to catch ...</td>\n",
       "      <td>0</td>\n",
       "      <td>9Lglv-v8SRo_S-IyvFBmbw</td>\n",
       "    </tr>\n",
       "    <tr>\n",
       "      <th>1</th>\n",
       "      <td>gyNixTgp1yFX97soBZpZ7Q</td>\n",
       "      <td>1</td>\n",
       "      <td>2013-07-10 00:04:01</td>\n",
       "      <td>0</td>\n",
       "      <td>rBpAJhIen_V-zLoXZIcROg</td>\n",
       "      <td>We worked with Fitness with a Twist for part o...</td>\n",
       "      <td>1</td>\n",
       "      <td>zIl62G84XT2BwSIAjjjvYw</td>\n",
       "    </tr>\n",
       "    <tr>\n",
       "      <th>2</th>\n",
       "      <td>vNWfQrQCa_XijstJbylcDQ</td>\n",
       "      <td>1</td>\n",
       "      <td>2015-10-28 01:23:21</td>\n",
       "      <td>2</td>\n",
       "      <td>_pALaDG6se9OTkGGhyhnNA</td>\n",
       "      <td>It's your typical, average, run-of-the-mill co...</td>\n",
       "      <td>1</td>\n",
       "      <td>WP7FsUsgNW24s7HH5xi7pg</td>\n",
       "    </tr>\n",
       "    <tr>\n",
       "      <th>3</th>\n",
       "      <td>wfxmuA7LbKZKVLV58EiWBw</td>\n",
       "      <td>0</td>\n",
       "      <td>2015-11-19 03:48:40</td>\n",
       "      <td>0</td>\n",
       "      <td>ru8fpA1Uk0tTFtO5hLM49g</td>\n",
       "      <td>We went to Outback today to celebrate my daugh...</td>\n",
       "      <td>0</td>\n",
       "      <td>yLSj54f2YgGQu-lhPIhMTQ</td>\n",
       "    </tr>\n",
       "    <tr>\n",
       "      <th>4</th>\n",
       "      <td>5jTmjxb1X34EfcY1gos4tw</td>\n",
       "      <td>0</td>\n",
       "      <td>2016-06-04 23:29:46</td>\n",
       "      <td>0</td>\n",
       "      <td>fRPgwuFoY6SriToXZyaOQA</td>\n",
       "      <td>We Went to see Nashville unplugged a country c...</td>\n",
       "      <td>1</td>\n",
       "      <td>73-u0a3G9Le4GWG7zLYWtg</td>\n",
       "    </tr>\n",
       "  </tbody>\n",
       "</table>\n",
       "</div>"
      ],
      "text/plain": [
       "              business_id  cool                 date  funny  \\\n",
       "0  7YYrZ9LgjpKLTtF-huhJug     0  2018-04-04 21:21:45      0   \n",
       "1  gyNixTgp1yFX97soBZpZ7Q     1  2013-07-10 00:04:01      0   \n",
       "2  vNWfQrQCa_XijstJbylcDQ     1  2015-10-28 01:23:21      2   \n",
       "3  wfxmuA7LbKZKVLV58EiWBw     0  2015-11-19 03:48:40      0   \n",
       "4  5jTmjxb1X34EfcY1gos4tw     0  2016-06-04 23:29:46      0   \n",
       "\n",
       "                review_id                                               text  \\\n",
       "0  b8-ELBwhmDKcmcM8icT86g  I took the UP Train to Union Station to catch ...   \n",
       "1  rBpAJhIen_V-zLoXZIcROg  We worked with Fitness with a Twist for part o...   \n",
       "2  _pALaDG6se9OTkGGhyhnNA  It's your typical, average, run-of-the-mill co...   \n",
       "3  ru8fpA1Uk0tTFtO5hLM49g  We went to Outback today to celebrate my daugh...   \n",
       "4  fRPgwuFoY6SriToXZyaOQA  We Went to see Nashville unplugged a country c...   \n",
       "\n",
       "   useful                 user_id  \n",
       "0       0  9Lglv-v8SRo_S-IyvFBmbw  \n",
       "1       1  zIl62G84XT2BwSIAjjjvYw  \n",
       "2       1  WP7FsUsgNW24s7HH5xi7pg  \n",
       "3       0  yLSj54f2YgGQu-lhPIhMTQ  \n",
       "4       1  73-u0a3G9Le4GWG7zLYWtg  "
      ]
     },
     "execution_count": 21,
     "metadata": {},
     "output_type": "execute_result"
    }
   ],
   "source": [
    "test_df_full.head()"
   ]
  },
  {
   "cell_type": "markdown",
   "metadata": {},
   "source": [
    "You can explore the relationship between different features"
   ]
  },
  {
   "cell_type": "code",
   "execution_count": 22,
   "metadata": {},
   "outputs": [],
   "source": [
    "import matplotlib.pyplot as plt"
   ]
  },
  {
   "cell_type": "code",
   "execution_count": 23,
   "metadata": {},
   "outputs": [
    {
     "data": {
      "text/plain": [
       "<matplotlib.collections.PathCollection at 0x7f98431eca90>"
      ]
     },
     "execution_count": 23,
     "metadata": {},
     "output_type": "execute_result"
    },
    {
     "data": {
      "image/png": "[encoded data removed]",
      "text/plain": [
       "<Figure size 432x288 with 1 Axes>"
      ]
     },
     "metadata": {
      "needs_background": "light"
     },
     "output_type": "display_data"
    }
   ],
   "source": [
    "# check the relationship between cool & funny\n",
    "plt.scatter(train_df_full['cool'], train_df_full['funny'])"
   ]
  },
  {
   "cell_type": "code",
   "execution_count": 24,
   "metadata": {},
   "outputs": [
    {
     "data": {
      "text/plain": [
       "<matplotlib.collections.PathCollection at 0x7f984323b910>"
      ]
     },
     "execution_count": 24,
     "metadata": {},
     "output_type": "execute_result"
    },
    {
     "data": {
      "image/png": "[encoded data removed]",
      "text/plain": [
       "<Figure size 432x288 with 1 Axes>"
      ]
     },
     "metadata": {
      "needs_background": "light"
     },
     "output_type": "display_data"
    }
   ],
   "source": [
    "# check the relationship between useful and stars\n",
    "plt.scatter(train_df_full['cool'], train_df_full['stars'])"
   ]
  },
  {
   "cell_type": "code",
   "execution_count": 25,
   "metadata": {},
   "outputs": [
    {
     "data": {
      "text/plain": [
       "<matplotlib.collections.PathCollection at 0x7f9811b37bb0>"
      ]
     },
     "execution_count": 25,
     "metadata": {},
     "output_type": "execute_result"
    },
    {
     "data": {
      "image/png": "[encoded data removed]",
      "text/plain": [
       "<Figure size 432x288 with 1 Axes>"
      ]
     },
     "metadata": {
      "needs_background": "light"
     },
     "output_type": "display_data"
    }
   ],
   "source": [
    "# check the relationship between useful and stars\n",
    "plt.scatter(train_df_full['useful'], train_df_full['stars'])"
   ]
  },
  {
   "cell_type": "code",
   "execution_count": 26,
   "metadata": {},
   "outputs": [
    {
     "data": {
      "text/plain": [
       "(array([2534., 1354., 1888., 2110., 2114.]),\n",
       " array([1. , 1.8, 2.6, 3.4, 4.2, 5. ]),\n",
       " <BarContainer object of 5 artists>)"
      ]
     },
     "execution_count": 26,
     "metadata": {},
     "output_type": "execute_result"
    },
    {
     "data": {
      "image/png": "[encoded data removed]",
      "text/plain": [
       "<Figure size 432x288 with 1 Axes>"
      ]
     },
     "metadata": {
      "needs_background": "light"
     },
     "output_type": "display_data"
    }
   ],
   "source": [
    "plt.hist(train_df_full['stars'], bins=5)"
   ]
  },
  {
   "cell_type": "markdown",
   "metadata": {},
   "source": [
    "Moreover, you may use the id feature to aggregate data samples\n",
    "\n",
    "For example"
   ]
  },
  {
   "cell_type": "code",
   "execution_count": 27,
   "metadata": {},
   "outputs": [
    {
     "name": "stdout",
     "output_type": "stream",
     "text": [
      "                 business_id  funny  cool  stars\n",
      "7043  -0qht1roIqleKiQkBLDkbw      1     0      3\n",
      "7363  -0qht1roIqleKiQkBLDkbw      0     0      5\n"
     ]
    },
    {
     "data": {
      "image/png": "[encoded data removed]",
      "text/plain": [
       "<Figure size 432x288 with 1 Axes>"
      ]
     },
     "metadata": {
      "needs_background": "light"
     },
     "output_type": "display_data"
    }
   ],
   "source": [
    "for bid, sub_df in train_df_full.groupby('business_id'):\n",
    "    if len(sub_df) > 1:\n",
    "        print(sub_df[['business_id', 'funny', 'cool', 'stars']].head())\n",
    "        plt.hist(sub_df['stars'], bins=5)\n",
    "        break"
   ]
  },
  {
   "cell_type": "code",
   "execution_count": 28,
   "metadata": {},
   "outputs": [
    {
     "name": "stdout",
     "output_type": "stream",
     "text": [
      "                     user_id  funny  cool  stars\n",
      "1173  -SjQXQd-IRfOdUdYYwWGOQ      0     1      4\n",
      "4503  -SjQXQd-IRfOdUdYYwWGOQ      0     0      1\n"
     ]
    }
   ],
   "source": [
    "for bid, sub_df in train_df_full.groupby('user_id'):\n",
    "    if len(sub_df) > 1:\n",
    "        print(sub_df[['user_id', 'funny', 'cool', 'stars']].head())\n",
    "        break"
   ]
  },
  {
   "cell_type": "markdown",
   "metadata": {},
   "source": [
    "## 3. Baselines\n",
    "\n",
    "Finally, we come up with two baselines for you to refer.\n",
    "We only use text data here and consider all training samples.\n",
    "\n",
    "For example, a baseline can be a logistic regression"
   ]
  },
  {
   "cell_type": "code",
   "execution_count": 29,
   "metadata": {},
   "outputs": [
    {
     "name": "stdout",
     "output_type": "stream",
     "text": [
      "select [text, stars] columns from the train split\n",
      "succeed!\n",
      "select [text, stars] columns from the valid split\n",
      "succeed!\n"
     ]
    }
   ],
   "source": [
    "train_df = load_data('train')\n",
    "valid_df = load_data('valid')"
   ]
  },
  {
   "cell_type": "markdown",
   "metadata": {},
   "source": [
    "The split above is what we have done for you. You can use the data as you like."
   ]
  },
  {
   "cell_type": "code",
   "execution_count": 30,
   "metadata": {},
   "outputs": [
    {
     "data": {
      "text/html": [
       "<div>\n",
       "<style scoped>\n",
       "    .dataframe tbody tr th:only-of-type {\n",
       "        vertical-align: middle;\n",
       "    }\n",
       "\n",
       "    .dataframe tbody tr th {\n",
       "        vertical-align: top;\n",
       "    }\n",
       "\n",
       "    .dataframe thead th {\n",
       "        text-align: right;\n",
       "    }\n",
       "</style>\n",
       "<table border=\"1\" class=\"dataframe\">\n",
       "  <thead>\n",
       "    <tr style=\"text-align: right;\">\n",
       "      <th></th>\n",
       "      <th>text</th>\n",
       "      <th>stars</th>\n",
       "    </tr>\n",
       "  </thead>\n",
       "  <tbody>\n",
       "    <tr>\n",
       "      <th>0</th>\n",
       "      <td>Nice to have a diner still around. Food was go...</td>\n",
       "      <td>4</td>\n",
       "    </tr>\n",
       "    <tr>\n",
       "      <th>1</th>\n",
       "      <td>Tried this a while back, got the fried chicken...</td>\n",
       "      <td>2</td>\n",
       "    </tr>\n",
       "    <tr>\n",
       "      <th>2</th>\n",
       "      <td>I expected more pork selections on menu. Food ...</td>\n",
       "      <td>4</td>\n",
       "    </tr>\n",
       "    <tr>\n",
       "      <th>3</th>\n",
       "      <td>YUMMY!!! This place is phenomenal. It is Price...</td>\n",
       "      <td>4</td>\n",
       "    </tr>\n",
       "    <tr>\n",
       "      <th>4</th>\n",
       "      <td>The Truffle Macaroni &amp; Cheese and Potatoes Au ...</td>\n",
       "      <td>5</td>\n",
       "    </tr>\n",
       "    <tr>\n",
       "      <th>...</th>\n",
       "      <td>...</td>\n",
       "      <td>...</td>\n",
       "    </tr>\n",
       "    <tr>\n",
       "      <th>9995</th>\n",
       "      <td>I think most people like this place because of...</td>\n",
       "      <td>2</td>\n",
       "    </tr>\n",
       "    <tr>\n",
       "      <th>9996</th>\n",
       "      <td>Thought I'd give this location a try from the ...</td>\n",
       "      <td>1</td>\n",
       "    </tr>\n",
       "    <tr>\n",
       "      <th>9997</th>\n",
       "      <td>I first tried this place a while ago, and ever...</td>\n",
       "      <td>4</td>\n",
       "    </tr>\n",
       "    <tr>\n",
       "      <th>9998</th>\n",
       "      <td>Yummy yummy yummy I got the chicken fried stea...</td>\n",
       "      <td>5</td>\n",
       "    </tr>\n",
       "    <tr>\n",
       "      <th>9999</th>\n",
       "      <td>4 stars for the beer selection. 1 star for the...</td>\n",
       "      <td>2</td>\n",
       "    </tr>\n",
       "  </tbody>\n",
       "</table>\n",
       "<p>10000 rows × 2 columns</p>\n",
       "</div>"
      ],
      "text/plain": [
       "                                                   text  stars\n",
       "0     Nice to have a diner still around. Food was go...      4\n",
       "1     Tried this a while back, got the fried chicken...      2\n",
       "2     I expected more pork selections on menu. Food ...      4\n",
       "3     YUMMY!!! This place is phenomenal. It is Price...      4\n",
       "4     The Truffle Macaroni & Cheese and Potatoes Au ...      5\n",
       "...                                                 ...    ...\n",
       "9995  I think most people like this place because of...      2\n",
       "9996  Thought I'd give this location a try from the ...      1\n",
       "9997  I first tried this place a while ago, and ever...      4\n",
       "9998  Yummy yummy yummy I got the chicken fried stea...      5\n",
       "9999  4 stars for the beer selection. 1 star for the...      2\n",
       "\n",
       "[10000 rows x 2 columns]"
      ]
     },
     "execution_count": 30,
     "metadata": {},
     "output_type": "execute_result"
    }
   ],
   "source": [
    "train_df"
   ]
  },
  {
   "cell_type": "code",
   "execution_count": 31,
   "metadata": {},
   "outputs": [
    {
     "data": {
      "text/html": [
       "<div>\n",
       "<style scoped>\n",
       "    .dataframe tbody tr th:only-of-type {\n",
       "        vertical-align: middle;\n",
       "    }\n",
       "\n",
       "    .dataframe tbody tr th {\n",
       "        vertical-align: top;\n",
       "    }\n",
       "\n",
       "    .dataframe thead th {\n",
       "        text-align: right;\n",
       "    }\n",
       "</style>\n",
       "<table border=\"1\" class=\"dataframe\">\n",
       "  <thead>\n",
       "    <tr style=\"text-align: right;\">\n",
       "      <th></th>\n",
       "      <th>business_id</th>\n",
       "      <th>cool</th>\n",
       "      <th>date</th>\n",
       "      <th>funny</th>\n",
       "      <th>review_id</th>\n",
       "      <th>stars</th>\n",
       "      <th>text</th>\n",
       "      <th>useful</th>\n",
       "      <th>user_id</th>\n",
       "    </tr>\n",
       "  </thead>\n",
       "  <tbody>\n",
       "    <tr>\n",
       "      <th>0</th>\n",
       "      <td>39rLHYJOy2774ZIUouuWLw</td>\n",
       "      <td>0</td>\n",
       "      <td>2017-06-28 21:44:02</td>\n",
       "      <td>0</td>\n",
       "      <td>ynzOFepQYSCDGdfWDWxiZw</td>\n",
       "      <td>4</td>\n",
       "      <td>Nice to have a diner still around. Food was go...</td>\n",
       "      <td>0</td>\n",
       "      <td>Sl6VgFOB-XXfFIAYp7TFkw</td>\n",
       "    </tr>\n",
       "    <tr>\n",
       "      <th>1</th>\n",
       "      <td>E-Kq1Yu1d6N3TL2qX0aqjA</td>\n",
       "      <td>0</td>\n",
       "      <td>2018-04-09 03:45:19</td>\n",
       "      <td>0</td>\n",
       "      <td>sQX9ncJBEdBf16AWsvO6Vg</td>\n",
       "      <td>2</td>\n",
       "      <td>Tried this a while back, got the fried chicken...</td>\n",
       "      <td>0</td>\n",
       "      <td>gcx01pMqWzkni2UC-zoZrA</td>\n",
       "    </tr>\n",
       "    <tr>\n",
       "      <th>2</th>\n",
       "      <td>nWW6fBfBljiRFa4sG7TyxA</td>\n",
       "      <td>0</td>\n",
       "      <td>2014-07-19 02:00:04</td>\n",
       "      <td>0</td>\n",
       "      <td>bVIf2kqbzvif3miNe3ARNw</td>\n",
       "      <td>4</td>\n",
       "      <td>I expected more pork selections on menu. Food ...</td>\n",
       "      <td>0</td>\n",
       "      <td>Mn9VzPbrCYU4EcP_C1oBOg</td>\n",
       "    </tr>\n",
       "    <tr>\n",
       "      <th>3</th>\n",
       "      <td>qmIHO-6T_KEfPC9jyGDamQ</td>\n",
       "      <td>0</td>\n",
       "      <td>2011-11-11 08:10:24</td>\n",
       "      <td>0</td>\n",
       "      <td>LNj1OFxy2ool3PZANGchPA</td>\n",
       "      <td>4</td>\n",
       "      <td>YUMMY!!! This place is phenomenal. It is Price...</td>\n",
       "      <td>0</td>\n",
       "      <td>SKV1heo00fdciCbCN9Z33A</td>\n",
       "    </tr>\n",
       "    <tr>\n",
       "      <th>4</th>\n",
       "      <td>pKk7jCFIm96qDdk0laVT2w</td>\n",
       "      <td>1</td>\n",
       "      <td>2010-01-16 20:04:00</td>\n",
       "      <td>1</td>\n",
       "      <td>bZXxa0hO6wQlHD-MkMf4iw</td>\n",
       "      <td>5</td>\n",
       "      <td>The Truffle Macaroni &amp; Cheese and Potatoes Au ...</td>\n",
       "      <td>1</td>\n",
       "      <td>p1r7rZYruZR92x1A649PTQ</td>\n",
       "    </tr>\n",
       "    <tr>\n",
       "      <th>...</th>\n",
       "      <td>...</td>\n",
       "      <td>...</td>\n",
       "      <td>...</td>\n",
       "      <td>...</td>\n",
       "      <td>...</td>\n",
       "      <td>...</td>\n",
       "      <td>...</td>\n",
       "      <td>...</td>\n",
       "      <td>...</td>\n",
       "    </tr>\n",
       "    <tr>\n",
       "      <th>9995</th>\n",
       "      <td>i60v66vwf1A13YqcIqGD_A</td>\n",
       "      <td>0</td>\n",
       "      <td>2011-08-19 21:35:20</td>\n",
       "      <td>0</td>\n",
       "      <td>eTRXN4fJ-ss3Nb3tROVzMw</td>\n",
       "      <td>2</td>\n",
       "      <td>I think most people like this place because of...</td>\n",
       "      <td>0</td>\n",
       "      <td>eAQq7dUH0H9q1aAQ0pqJoA</td>\n",
       "    </tr>\n",
       "    <tr>\n",
       "      <th>9996</th>\n",
       "      <td>lXYTzkRVMHPYGcDRc_8JvQ</td>\n",
       "      <td>1</td>\n",
       "      <td>2015-03-28 05:33:06</td>\n",
       "      <td>1</td>\n",
       "      <td>uQ1v2LDSBz8W-spsEPRjug</td>\n",
       "      <td>1</td>\n",
       "      <td>Thought I'd give this location a try from the ...</td>\n",
       "      <td>1</td>\n",
       "      <td>F78tJHr0qW6FsYBtWMmLpA</td>\n",
       "    </tr>\n",
       "    <tr>\n",
       "      <th>9997</th>\n",
       "      <td>leMIHa6TogufHv5HNYjnfw</td>\n",
       "      <td>0</td>\n",
       "      <td>2015-03-14 23:20:51</td>\n",
       "      <td>0</td>\n",
       "      <td>prAKvb7E1FWNRdEGWEmIHg</td>\n",
       "      <td>4</td>\n",
       "      <td>I first tried this place a while ago, and ever...</td>\n",
       "      <td>0</td>\n",
       "      <td>a2cxPk9PJkSxV5fFTUL5TA</td>\n",
       "    </tr>\n",
       "    <tr>\n",
       "      <th>9998</th>\n",
       "      <td>6Iu4YDjAPrDRRrPCt_E2zA</td>\n",
       "      <td>0</td>\n",
       "      <td>2017-01-31 20:33:36</td>\n",
       "      <td>0</td>\n",
       "      <td>Ncoi4AUV-hh_IaNTdtEzqQ</td>\n",
       "      <td>5</td>\n",
       "      <td>Yummy yummy yummy I got the chicken fried stea...</td>\n",
       "      <td>0</td>\n",
       "      <td>H-AafA7pWsVLoWP-rw-F_Q</td>\n",
       "    </tr>\n",
       "    <tr>\n",
       "      <th>9999</th>\n",
       "      <td>v2tjswIV3e0c8o7_7MwYmg</td>\n",
       "      <td>1</td>\n",
       "      <td>2015-06-03 21:11:12</td>\n",
       "      <td>0</td>\n",
       "      <td>_e_fET7h80lgwFcqOI_5jw</td>\n",
       "      <td>2</td>\n",
       "      <td>4 stars for the beer selection. 1 star for the...</td>\n",
       "      <td>3</td>\n",
       "      <td>2VhVWgmjlJ0V9S9V0S3buA</td>\n",
       "    </tr>\n",
       "  </tbody>\n",
       "</table>\n",
       "<p>10000 rows × 9 columns</p>\n",
       "</div>"
      ],
      "text/plain": [
       "                 business_id  cool                 date  funny  \\\n",
       "0     39rLHYJOy2774ZIUouuWLw     0  2017-06-28 21:44:02      0   \n",
       "1     E-Kq1Yu1d6N3TL2qX0aqjA     0  2018-04-09 03:45:19      0   \n",
       "2     nWW6fBfBljiRFa4sG7TyxA     0  2014-07-19 02:00:04      0   \n",
       "3     qmIHO-6T_KEfPC9jyGDamQ     0  2011-11-11 08:10:24      0   \n",
       "4     pKk7jCFIm96qDdk0laVT2w     1  2010-01-16 20:04:00      1   \n",
       "...                      ...   ...                  ...    ...   \n",
       "9995  i60v66vwf1A13YqcIqGD_A     0  2011-08-19 21:35:20      0   \n",
       "9996  lXYTzkRVMHPYGcDRc_8JvQ     1  2015-03-28 05:33:06      1   \n",
       "9997  leMIHa6TogufHv5HNYjnfw     0  2015-03-14 23:20:51      0   \n",
       "9998  6Iu4YDjAPrDRRrPCt_E2zA     0  2017-01-31 20:33:36      0   \n",
       "9999  v2tjswIV3e0c8o7_7MwYmg     1  2015-06-03 21:11:12      0   \n",
       "\n",
       "                   review_id  stars  \\\n",
       "0     ynzOFepQYSCDGdfWDWxiZw      4   \n",
       "1     sQX9ncJBEdBf16AWsvO6Vg      2   \n",
       "2     bVIf2kqbzvif3miNe3ARNw      4   \n",
       "3     LNj1OFxy2ool3PZANGchPA      4   \n",
       "4     bZXxa0hO6wQlHD-MkMf4iw      5   \n",
       "...                      ...    ...   \n",
       "9995  eTRXN4fJ-ss3Nb3tROVzMw      2   \n",
       "9996  uQ1v2LDSBz8W-spsEPRjug      1   \n",
       "9997  prAKvb7E1FWNRdEGWEmIHg      4   \n",
       "9998  Ncoi4AUV-hh_IaNTdtEzqQ      5   \n",
       "9999  _e_fET7h80lgwFcqOI_5jw      2   \n",
       "\n",
       "                                                   text  useful  \\\n",
       "0     Nice to have a diner still around. Food was go...       0   \n",
       "1     Tried this a while back, got the fried chicken...       0   \n",
       "2     I expected more pork selections on menu. Food ...       0   \n",
       "3     YUMMY!!! This place is phenomenal. It is Price...       0   \n",
       "4     The Truffle Macaroni & Cheese and Potatoes Au ...       1   \n",
       "...                                                 ...     ...   \n",
       "9995  I think most people like this place because of...       0   \n",
       "9996  Thought I'd give this location a try from the ...       1   \n",
       "9997  I first tried this place a while ago, and ever...       0   \n",
       "9998  Yummy yummy yummy I got the chicken fried stea...       0   \n",
       "9999  4 stars for the beer selection. 1 star for the...       3   \n",
       "\n",
       "                     user_id  \n",
       "0     Sl6VgFOB-XXfFIAYp7TFkw  \n",
       "1     gcx01pMqWzkni2UC-zoZrA  \n",
       "2     Mn9VzPbrCYU4EcP_C1oBOg  \n",
       "3     SKV1heo00fdciCbCN9Z33A  \n",
       "4     p1r7rZYruZR92x1A649PTQ  \n",
       "...                      ...  \n",
       "9995  eAQq7dUH0H9q1aAQ0pqJoA  \n",
       "9996  F78tJHr0qW6FsYBtWMmLpA  \n",
       "9997  a2cxPk9PJkSxV5fFTUL5TA  \n",
       "9998  H-AafA7pWsVLoWP-rw-F_Q  \n",
       "9999  2VhVWgmjlJ0V9S9V0S3buA  \n",
       "\n",
       "[10000 rows x 9 columns]"
      ]
     },
     "execution_count": 31,
     "metadata": {},
     "output_type": "execute_result"
    }
   ],
   "source": [
    "train_df_full"
   ]
  },
  {
   "cell_type": "code",
   "execution_count": 32,
   "metadata": {},
   "outputs": [
    {
     "data": {
      "text/html": [
       "<div>\n",
       "<style scoped>\n",
       "    .dataframe tbody tr th:only-of-type {\n",
       "        vertical-align: middle;\n",
       "    }\n",
       "\n",
       "    .dataframe tbody tr th {\n",
       "        vertical-align: top;\n",
       "    }\n",
       "\n",
       "    .dataframe thead th {\n",
       "        text-align: right;\n",
       "    }\n",
       "</style>\n",
       "<table border=\"1\" class=\"dataframe\">\n",
       "  <thead>\n",
       "    <tr style=\"text-align: right;\">\n",
       "      <th></th>\n",
       "      <th>business_id</th>\n",
       "      <th>cool</th>\n",
       "      <th>date</th>\n",
       "      <th>funny</th>\n",
       "      <th>review_id</th>\n",
       "      <th>text</th>\n",
       "      <th>useful</th>\n",
       "      <th>user_id</th>\n",
       "    </tr>\n",
       "  </thead>\n",
       "  <tbody>\n",
       "    <tr>\n",
       "      <th>0</th>\n",
       "      <td>7YYrZ9LgjpKLTtF-huhJug</td>\n",
       "      <td>0</td>\n",
       "      <td>2018-04-04 21:21:45</td>\n",
       "      <td>0</td>\n",
       "      <td>b8-ELBwhmDKcmcM8icT86g</td>\n",
       "      <td>I took the UP Train to Union Station to catch ...</td>\n",
       "      <td>0</td>\n",
       "      <td>9Lglv-v8SRo_S-IyvFBmbw</td>\n",
       "    </tr>\n",
       "    <tr>\n",
       "      <th>1</th>\n",
       "      <td>gyNixTgp1yFX97soBZpZ7Q</td>\n",
       "      <td>1</td>\n",
       "      <td>2013-07-10 00:04:01</td>\n",
       "      <td>0</td>\n",
       "      <td>rBpAJhIen_V-zLoXZIcROg</td>\n",
       "      <td>We worked with Fitness with a Twist for part o...</td>\n",
       "      <td>1</td>\n",
       "      <td>zIl62G84XT2BwSIAjjjvYw</td>\n",
       "    </tr>\n",
       "    <tr>\n",
       "      <th>2</th>\n",
       "      <td>vNWfQrQCa_XijstJbylcDQ</td>\n",
       "      <td>1</td>\n",
       "      <td>2015-10-28 01:23:21</td>\n",
       "      <td>2</td>\n",
       "      <td>_pALaDG6se9OTkGGhyhnNA</td>\n",
       "      <td>It's your typical, average, run-of-the-mill co...</td>\n",
       "      <td>1</td>\n",
       "      <td>WP7FsUsgNW24s7HH5xi7pg</td>\n",
       "    </tr>\n",
       "    <tr>\n",
       "      <th>3</th>\n",
       "      <td>wfxmuA7LbKZKVLV58EiWBw</td>\n",
       "      <td>0</td>\n",
       "      <td>2015-11-19 03:48:40</td>\n",
       "      <td>0</td>\n",
       "      <td>ru8fpA1Uk0tTFtO5hLM49g</td>\n",
       "      <td>We went to Outback today to celebrate my daugh...</td>\n",
       "      <td>0</td>\n",
       "      <td>yLSj54f2YgGQu-lhPIhMTQ</td>\n",
       "    </tr>\n",
       "    <tr>\n",
       "      <th>4</th>\n",
       "      <td>5jTmjxb1X34EfcY1gos4tw</td>\n",
       "      <td>0</td>\n",
       "      <td>2016-06-04 23:29:46</td>\n",
       "      <td>0</td>\n",
       "      <td>fRPgwuFoY6SriToXZyaOQA</td>\n",
       "      <td>We Went to see Nashville unplugged a country c...</td>\n",
       "      <td>1</td>\n",
       "      <td>73-u0a3G9Le4GWG7zLYWtg</td>\n",
       "    </tr>\n",
       "    <tr>\n",
       "      <th>...</th>\n",
       "      <td>...</td>\n",
       "      <td>...</td>\n",
       "      <td>...</td>\n",
       "      <td>...</td>\n",
       "      <td>...</td>\n",
       "      <td>...</td>\n",
       "      <td>...</td>\n",
       "      <td>...</td>\n",
       "    </tr>\n",
       "    <tr>\n",
       "      <th>1995</th>\n",
       "      <td>rKl9yHz4LmQzD70yXBaRlg</td>\n",
       "      <td>0</td>\n",
       "      <td>2016-04-24 02:43:01</td>\n",
       "      <td>0</td>\n",
       "      <td>oZxqo6rspUimmoqKl0_qdA</td>\n",
       "      <td>This was an ok Burger joint. This chain is big...</td>\n",
       "      <td>1</td>\n",
       "      <td>XxG5SZOPkihWeJe3r9XL8Q</td>\n",
       "    </tr>\n",
       "    <tr>\n",
       "      <th>1996</th>\n",
       "      <td>Hqs4YNST_ZHbshwyi4bnsQ</td>\n",
       "      <td>3</td>\n",
       "      <td>2017-12-30 08:01:06</td>\n",
       "      <td>1</td>\n",
       "      <td>C_oCpNq91uTtOYUs2cChdg</td>\n",
       "      <td>Came here on a whim as we were passing through...</td>\n",
       "      <td>3</td>\n",
       "      <td>acPFDB6xB5qtcwTCI2wLvg</td>\n",
       "    </tr>\n",
       "    <tr>\n",
       "      <th>1997</th>\n",
       "      <td>46hnat0aLao-qYWZkN9aBg</td>\n",
       "      <td>1</td>\n",
       "      <td>2010-03-28 15:40:22</td>\n",
       "      <td>1</td>\n",
       "      <td>qMrxDB5fm8wIzexUp643xQ</td>\n",
       "      <td>This is my favorite Mexican food place on the ...</td>\n",
       "      <td>1</td>\n",
       "      <td>TJoILHOxI_K5kJUye0BtbA</td>\n",
       "    </tr>\n",
       "    <tr>\n",
       "      <th>1998</th>\n",
       "      <td>BGGQOJQTQerEQu0kHbT_UQ</td>\n",
       "      <td>0</td>\n",
       "      <td>2016-05-02 22:24:13</td>\n",
       "      <td>0</td>\n",
       "      <td>HrejfPp6Xduy5Pv7i-is1A</td>\n",
       "      <td>Stopped in here on 3/24/16 around 8pm when the...</td>\n",
       "      <td>0</td>\n",
       "      <td>PTHCHcBhJbyNS3hMSQ2pYQ</td>\n",
       "    </tr>\n",
       "    <tr>\n",
       "      <th>1999</th>\n",
       "      <td>I_a74zmgR-X03LsKISWPcg</td>\n",
       "      <td>1</td>\n",
       "      <td>2017-07-08 00:16:47</td>\n",
       "      <td>0</td>\n",
       "      <td>cXo09g5VbXvLHtg52wqhdg</td>\n",
       "      <td>Who knew that you could get really good Asian ...</td>\n",
       "      <td>0</td>\n",
       "      <td>Q8BS0HbtMqH295h46UsL7w</td>\n",
       "    </tr>\n",
       "  </tbody>\n",
       "</table>\n",
       "<p>2000 rows × 8 columns</p>\n",
       "</div>"
      ],
      "text/plain": [
       "                 business_id  cool                 date  funny  \\\n",
       "0     7YYrZ9LgjpKLTtF-huhJug     0  2018-04-04 21:21:45      0   \n",
       "1     gyNixTgp1yFX97soBZpZ7Q     1  2013-07-10 00:04:01      0   \n",
       "2     vNWfQrQCa_XijstJbylcDQ     1  2015-10-28 01:23:21      2   \n",
       "3     wfxmuA7LbKZKVLV58EiWBw     0  2015-11-19 03:48:40      0   \n",
       "4     5jTmjxb1X34EfcY1gos4tw     0  2016-06-04 23:29:46      0   \n",
       "...                      ...   ...                  ...    ...   \n",
       "1995  rKl9yHz4LmQzD70yXBaRlg     0  2016-04-24 02:43:01      0   \n",
       "1996  Hqs4YNST_ZHbshwyi4bnsQ     3  2017-12-30 08:01:06      1   \n",
       "1997  46hnat0aLao-qYWZkN9aBg     1  2010-03-28 15:40:22      1   \n",
       "1998  BGGQOJQTQerEQu0kHbT_UQ     0  2016-05-02 22:24:13      0   \n",
       "1999  I_a74zmgR-X03LsKISWPcg     1  2017-07-08 00:16:47      0   \n",
       "\n",
       "                   review_id  \\\n",
       "0     b8-ELBwhmDKcmcM8icT86g   \n",
       "1     rBpAJhIen_V-zLoXZIcROg   \n",
       "2     _pALaDG6se9OTkGGhyhnNA   \n",
       "3     ru8fpA1Uk0tTFtO5hLM49g   \n",
       "4     fRPgwuFoY6SriToXZyaOQA   \n",
       "...                      ...   \n",
       "1995  oZxqo6rspUimmoqKl0_qdA   \n",
       "1996  C_oCpNq91uTtOYUs2cChdg   \n",
       "1997  qMrxDB5fm8wIzexUp643xQ   \n",
       "1998  HrejfPp6Xduy5Pv7i-is1A   \n",
       "1999  cXo09g5VbXvLHtg52wqhdg   \n",
       "\n",
       "                                                   text  useful  \\\n",
       "0     I took the UP Train to Union Station to catch ...       0   \n",
       "1     We worked with Fitness with a Twist for part o...       1   \n",
       "2     It's your typical, average, run-of-the-mill co...       1   \n",
       "3     We went to Outback today to celebrate my daugh...       0   \n",
       "4     We Went to see Nashville unplugged a country c...       1   \n",
       "...                                                 ...     ...   \n",
       "1995  This was an ok Burger joint. This chain is big...       1   \n",
       "1996  Came here on a whim as we were passing through...       3   \n",
       "1997  This is my favorite Mexican food place on the ...       1   \n",
       "1998  Stopped in here on 3/24/16 around 8pm when the...       0   \n",
       "1999  Who knew that you could get really good Asian ...       0   \n",
       "\n",
       "                     user_id  \n",
       "0     9Lglv-v8SRo_S-IyvFBmbw  \n",
       "1     zIl62G84XT2BwSIAjjjvYw  \n",
       "2     WP7FsUsgNW24s7HH5xi7pg  \n",
       "3     yLSj54f2YgGQu-lhPIhMTQ  \n",
       "4     73-u0a3G9Le4GWG7zLYWtg  \n",
       "...                      ...  \n",
       "1995  XxG5SZOPkihWeJe3r9XL8Q  \n",
       "1996  acPFDB6xB5qtcwTCI2wLvg  \n",
       "1997  TJoILHOxI_K5kJUye0BtbA  \n",
       "1998  PTHCHcBhJbyNS3hMSQ2pYQ  \n",
       "1999  Q8BS0HbtMqH295h46UsL7w  \n",
       "\n",
       "[2000 rows x 8 columns]"
      ]
     },
     "execution_count": 32,
     "metadata": {},
     "output_type": "execute_result"
    }
   ],
   "source": [
    "test_df_full"
   ]
  },
  {
   "cell_type": "code",
   "execution_count": 34,
   "metadata": {},
   "outputs": [],
   "source": [
    "x_train_text = train_df_full['text']\n",
    "x_train_useful = train_df_full['useful']\n",
    "x_valid_text = valid_df['text']\n",
    "# x_test_useful = valid_df['useful']\n",
    "\n",
    "y_train = train_df['stars']\n",
    "y_valid = valid_df['stars']"
   ]
  },
  {
   "cell_type": "code",
   "execution_count": 35,
   "metadata": {},
   "outputs": [
    {
     "data": {
      "text/plain": [
       "0       Nice to have a diner still around. Food was go...\n",
       "1       Tried this a while back, got the fried chicken...\n",
       "2       I expected more pork selections on menu. Food ...\n",
       "3       YUMMY!!! This place is phenomenal. It is Price...\n",
       "4       The Truffle Macaroni & Cheese and Potatoes Au ...\n",
       "                              ...                        \n",
       "9995    I think most people like this place because of...\n",
       "9996    Thought I'd give this location a try from the ...\n",
       "9997    I first tried this place a while ago, and ever...\n",
       "9998    Yummy yummy yummy I got the chicken fried stea...\n",
       "9999    4 stars for the beer selection. 1 star for the...\n",
       "Name: text, Length: 10000, dtype: object"
      ]
     },
     "execution_count": 35,
     "metadata": {},
     "output_type": "execute_result"
    }
   ],
   "source": [
    "x_train_text"
   ]
  },
  {
   "cell_type": "code",
   "execution_count": 36,
   "metadata": {},
   "outputs": [],
   "source": [
    "# pre-processing the data for better feature selection"
   ]
  },
  {
   "cell_type": "code",
   "execution_count": 37,
   "metadata": {},
   "outputs": [],
   "source": [
    "\n",
    "# # load data\n",
    "# train_ids, train_texts, train_labels = load_data(train_file)\n",
    "# test_ids, test_texts, _ = load_data(test_file)\n",
    "# test_labels = load_labels(ans_file)\n",
    "\n",
    "# extract features\n",
    "train_tokens = [tokenize(text) for text in x_train_text]\n",
    "valid_tokens = [tokenize(text) for text in x_valid_text]\n",
    "\n",
    "train_stemmed = [stem(tokens) for tokens in train_tokens]\n",
    "valid_stemmed = [stem(tokens) for tokens in valid_tokens]\n",
    "\n",
    "train_stemmed = [filter_stopwords(tokens) for tokens in train_stemmed]\n",
    "valid_stemmed = [filter_stopwords(tokens) for tokens in valid_stemmed]\n",
    "\n",
    "train_2_gram = [n_gram(tokens, 2) for tokens in train_stemmed]\n",
    "train_3_gram = [n_gram(tokens, 3) for tokens in train_stemmed]\n",
    "valid_2_gram = [n_gram(tokens, 2) for tokens in valid_stemmed]\n",
    "valid_3_gram = [n_gram(tokens, 3) for tokens in valid_stemmed]\n"
   ]
  },
  {
   "cell_type": "code",
   "execution_count": 38,
   "metadata": {},
   "outputs": [],
   "source": [
    "from itertools import chain\n",
    "from collections import Counter\n",
    "import keras"
   ]
  },
  {
   "cell_type": "code",
   "execution_count": 70,
   "metadata": {},
   "outputs": [],
   "source": [
    "from sklearn.pipeline import Pipeline\n",
    "from sklearn.feature_extraction.text import TfidfVectorizer\n",
    "from sklearn.metrics import confusion_matrix, classification_report, accuracy_score\n",
    "from sklearn.linear_model import LogisticRegression"
   ]
  },
  {
   "cell_type": "code",
   "execution_count": 71,
   "metadata": {},
   "outputs": [],
   "source": [
    "from tensorflow.python.keras.datasets import mnist\n",
    "from tensorflow.python.keras.layers.core import Dense, Dropout, Activation, Flatten\n",
    "from tensorflow.python.keras.models import Sequential\n",
    "from tensorflow.python.keras.utils import np_utils\n"
   ]
  },
  {
   "cell_type": "code",
   "execution_count": 72,
   "metadata": {},
   "outputs": [],
   "source": [
    "from keras.layers import Dense, Activation, Embedding, Dropout, BatchNormalization, Input, Add, Concatenate,\\\n",
    "    Bidirectional, SimpleRNN, LSTM, GRU"
   ]
  },
  {
   "cell_type": "code",
   "execution_count": 131,
   "metadata": {},
   "outputs": [],
   "source": [
    "# len(train_feats_matrix[0])"
   ]
  },
  {
   "cell_type": "code",
   "execution_count": 40,
   "metadata": {},
   "outputs": [
    {
     "name": "stdout",
     "output_type": "stream",
     "text": [
      "Size of features: 5033\n"
     ]
    }
   ],
   "source": [
    "# build the feature list\n",
    "# Multinomial Logistic Regression with tokenize & stopwords & stemmed & min_freq=8\n",
    "\n",
    "max_len = 50\n",
    "train_feats = list()\n",
    "for i in range(len(x_train_text)):\n",
    "    train_feats.append(\n",
    "#         train_stemmed[i] + train_2_gram[i] + train_3_gram[i])\n",
    "        train_stemmed[i])\n",
    "valid_feats = list()\n",
    "for i in range(len(x_valid_text)):\n",
    "    valid_feats.append(\n",
    "#         valid_stemmed[i] + valid_2_gram[i] + valid_3_gram[i])\n",
    "        valid_stemmed[i])\n",
    "\n",
    "# build a mapping from features to indices\n",
    "feats_dict = get_feats_dict(\n",
    "    chain.from_iterable(train_feats),\n",
    "    min_freq=8)\n",
    "\n",
    "# build the feats_matrix\n",
    "# convert each example to a ont-hot vector, and then stack vectors as a matrix\n",
    "train_feats_matrix = np.vstack(\n",
    "    [get_onehot_vector(f, feats_dict) for f in train_feats])\n",
    "valid_feats_matrix = np.vstack(\n",
    "    [get_onehot_vector(f, feats_dict) for f in valid_feats])\n",
    "\n",
    "# convert labels to label_matrix\n",
    "num_classes = max(y_train)\n",
    "# convert each label to a ont-hot vector, and then stack vectors as a matrix\n",
    "train_label_matrix = keras.utils.to_categorical(y_train-1, num_classes=num_classes)\n",
    "valid_label_matrix = keras.utils.to_categorical(y_valid-1, num_classes=num_classes)"
   ]
  },
  {
   "cell_type": "code",
   "execution_count": 41,
   "metadata": {},
   "outputs": [
    {
     "name": "stdout",
     "output_type": "stream",
     "text": [
      "stemmed feature size: 24119\n"
     ]
    },
    {
     "name": "stderr",
     "output_type": "stream",
     "text": [
      "<ipython-input-41-c1708e8294f5>:24: MatplotlibDeprecationWarning: The 'basex' parameter of __init__() has been renamed 'base' since Matplotlib 3.3; support for the old name will be dropped two minor releases later.\n",
      "  plt.loglog(range(1, len(stemmed_feat_cnt)+1),\n",
      "<ipython-input-41-c1708e8294f5>:24: MatplotlibDeprecationWarning: The 'basey' parameter of __init__() has been renamed 'base' since Matplotlib 3.3; support for the old name will be dropped two minor releases later.\n",
      "  plt.loglog(range(1, len(stemmed_feat_cnt)+1),\n"
     ]
    },
    {
     "data": {
      "image/png": "[encoded data removed]",
      "text/plain": [
       "<Figure size 720x288 with 2 Axes>"
      ]
     },
     "metadata": {
      "needs_background": "light"
     },
     "output_type": "display_data"
    }
   ],
   "source": [
    "# first, build a Counter for stemmed features, e.g., {\"text\": 2, \"mine\": 1}\n",
    "stemmed_feat_cnt = Counter()\n",
    "for feats in train_stemmed:\n",
    "    stemmed_feat_cnt.update(feats)\n",
    "print(\"stemmed feature size:\", len(stemmed_feat_cnt))\n",
    "\n",
    "# then, get the sorted features by the frequency\n",
    "stemmed_feat_keys = [f for f, cnt in stemmed_feat_cnt.most_common()]\n",
    "\n",
    "# draw linear lines and log lines for sorted features\n",
    "# set the figure size\n",
    "plt.figure(figsize=(10,4))\n",
    "# generate two subfigures and set current as the first one\n",
    "plt.subplot(1,2,1)\n",
    "# draw linear lines\n",
    "plt.plot(range(1, len(stemmed_feat_cnt)+1),\n",
    "         [stemmed_feat_cnt[f] for f in stemmed_feat_keys])\n",
    "# set labels\n",
    "plt.xlabel(\"Feature Index\")\n",
    "plt.ylabel(\"Feature Frequency\")\n",
    "# set current as the second one\n",
    "plt.subplot(1,2,2)\n",
    "# draw log lines\n",
    "plt.loglog(range(1, len(stemmed_feat_cnt)+1),\n",
    "           [stemmed_feat_cnt[f] for f in stemmed_feat_keys],\n",
    "           basex=10, basey=10)\n",
    "# set labels\n",
    "plt.xlabel(\"Feature Index\")\n",
    "plt.ylabel(\"Feature Frequency\")\n",
    "plt.show()"
   ]
  },
  {
   "cell_type": "code",
   "execution_count": 42,
   "metadata": {},
   "outputs": [
    {
     "name": "stderr",
     "output_type": "stream",
     "text": [
      "<ipython-input-42-c5e144309663>:33: MatplotlibDeprecationWarning: The 'basex' parameter of __init__() has been renamed 'base' since Matplotlib 3.3; support for the old name will be dropped two minor releases later.\n",
      "  plt.loglog(range(1, len(stemmed_feat_cnt)+1),\n",
      "<ipython-input-42-c5e144309663>:33: MatplotlibDeprecationWarning: The 'basey' parameter of __init__() has been renamed 'base' since Matplotlib 3.3; support for the old name will be dropped two minor releases later.\n",
      "  plt.loglog(range(1, len(stemmed_feat_cnt)+1),\n",
      "<ipython-input-42-c5e144309663>:36: MatplotlibDeprecationWarning: The 'basex' parameter of __init__() has been renamed 'base' since Matplotlib 3.3; support for the old name will be dropped two minor releases later.\n",
      "  plt.loglog(range(1, len(bi_gram_feat_cnt)+1),\n",
      "<ipython-input-42-c5e144309663>:36: MatplotlibDeprecationWarning: The 'basey' parameter of __init__() has been renamed 'base' since Matplotlib 3.3; support for the old name will be dropped two minor releases later.\n",
      "  plt.loglog(range(1, len(bi_gram_feat_cnt)+1),\n",
      "<ipython-input-42-c5e144309663>:39: MatplotlibDeprecationWarning: The 'basex' parameter of __init__() has been renamed 'base' since Matplotlib 3.3; support for the old name will be dropped two minor releases later.\n",
      "  plt.loglog(range(1, len(tri_gram_feat_cnt)+1),\n",
      "<ipython-input-42-c5e144309663>:39: MatplotlibDeprecationWarning: The 'basey' parameter of __init__() has been renamed 'base' since Matplotlib 3.3; support for the old name will be dropped two minor releases later.\n",
      "  plt.loglog(range(1, len(tri_gram_feat_cnt)+1),\n"
     ]
    },
    {
     "data": {
      "image/png": "[encoded data removed]",
      "text/plain": [
       "<Figure size 1080x360 with 2 Axes>"
      ]
     },
     "metadata": {
      "needs_background": "light"
     },
     "output_type": "display_data"
    },
    {
     "name": "stdout",
     "output_type": "stream",
     "text": [
      "stemmed feature size: 24119\n",
      "2-gram feature size: 331339\n",
      "3-gram feature size: 688795\n"
     ]
    }
   ],
   "source": [
    "# build Counters for 2-gram features and 3-gram features\n",
    "bi_gram_feat_cnt = Counter()\n",
    "for feats in train_2_gram:\n",
    "    bi_gram_feat_cnt.update(feats)\n",
    "    \n",
    "tri_gram_feat_cnt = Counter()\n",
    "for feats in train_3_gram:\n",
    "    tri_gram_feat_cnt.update(feats)\n",
    "\n",
    "# then, get the sorted features by the frequency\n",
    "bi_gram_feat_keys = [f for f, cnt in bi_gram_feat_cnt.most_common()]\n",
    "tri_gram_feat_keys = [f for f,cnt in tri_gram_feat_cnt.most_common()]\n",
    "\n",
    "# draw linear lines and log lines for sorted features\n",
    "plt.figure(figsize=(15,5))\n",
    "plt.subplot(1,2,1)\n",
    "# put the four linear lines together\n",
    "plt.plot(range(1, len(stemmed_feat_cnt)+1),\n",
    "         [stemmed_feat_cnt[f] for f in stemmed_feat_keys],\n",
    "         label=\"stemmed\")\n",
    "plt.plot(range(1, len(bi_gram_feat_cnt)+1),\n",
    "         [bi_gram_feat_cnt[f] for f in bi_gram_feat_keys],\n",
    "         label=\"2-gram\")\n",
    "plt.plot(range(1, len(tri_gram_feat_cnt)+1),\n",
    "         [tri_gram_feat_cnt[f] for f in tri_gram_feat_keys],\n",
    "         label=\"3-gram\")\n",
    "plt.xlabel(\"Feature Index\")\n",
    "plt.ylabel(\"Feature Frequency\")\n",
    "# show the legend\n",
    "plt.legend()\n",
    "plt.subplot(1,2,2)\n",
    "# put the four log lines together\n",
    "plt.loglog(range(1, len(stemmed_feat_cnt)+1),\n",
    "         [stemmed_feat_cnt[f] for f in stemmed_feat_keys],\n",
    "           basex=10, basey=10, label=\"stemmed\")\n",
    "plt.loglog(range(1, len(bi_gram_feat_cnt)+1),\n",
    "         [bi_gram_feat_cnt[f] for f in bi_gram_feat_keys],\n",
    "           basex=10, basey=10, label=\"2-gram\")\n",
    "plt.loglog(range(1, len(tri_gram_feat_cnt)+1),\n",
    "         [tri_gram_feat_cnt[f] for f in tri_gram_feat_keys],\n",
    "           basex=10, basey=10, label=\"3-gram\")\n",
    "plt.xlabel(\"Feature Index\")\n",
    "plt.ylabel(\"Feature Frequency\")\n",
    "# show the legend\n",
    "plt.legend()\n",
    "plt.show()\n",
    "\n",
    "print(\"stemmed feature size:\", len(stemmed_feat_cnt))\n",
    "print(\"2-gram feature size:\", len(bi_gram_feat_cnt))\n",
    "print(\"3-gram feature size:\", len(tri_gram_feat_cnt))"
   ]
  },
  {
   "cell_type": "code",
   "execution_count": 43,
   "metadata": {},
   "outputs": [
    {
     "name": "stdout",
     "output_type": "stream",
     "text": [
      "stemmed features > 10: 4217\n",
      "2-gram features > 10: 9173\n",
      "3-gram features > 10: 2870\n"
     ]
    }
   ],
   "source": [
    "print(\"stemmed features > 10:\",\n",
    "      len([f for f, cnt in stemmed_feat_cnt.items() if cnt > 10]))\n",
    "print(\"2-gram features > 10:\",\n",
    "      len([f for f, cnt in bi_gram_feat_cnt.items() if cnt > 10]))\n",
    "print(\"3-gram features > 10:\",\n",
    "      len([f for f, cnt in tri_gram_feat_cnt.items() if cnt > 10]))"
   ]
  },
  {
   "cell_type": "code",
   "execution_count": 44,
   "metadata": {
    "scrolled": true
   },
   "outputs": [
    {
     "name": "stdout",
     "output_type": "stream",
     "text": [
      "stemmed features top 10: ['.', ',', 'I', 'wa', '!', 'thi', \"n't\", \"'s\", 'food', 'place']\n",
      "2-gram features top 10: ['. I', ', I', '! !', '. We', '. It', 'I wa', 'thi place', \"I 'm\", 'I would', \"I n't\"]\n",
      "3-gram features top 10: ['! ! !', '. It wa', \". It 's\", '. I wa', \". I 'm\", '. I would', \". I n't\", 'thi place .', ', I wa', \". I 've\"]\n"
     ]
    }
   ],
   "source": [
    "print(\"stemmed features top 10:\",\n",
    "      stemmed_feat_keys[:10])\n",
    "print(\"2-gram features top 10:\",\n",
    "      bi_gram_feat_keys[:10])\n",
    "print(\"3-gram features top 10:\",\n",
    "      tri_gram_feat_keys[:10])"
   ]
  },
  {
   "cell_type": "code",
   "execution_count": 127,
   "metadata": {
    "scrolled": true
   },
   "outputs": [],
   "source": [
    "# train_feats_matrix"
   ]
  },
  {
   "cell_type": "code",
   "execution_count": 128,
   "metadata": {
    "scrolled": false
   },
   "outputs": [],
   "source": [
    "# train_label_matrix"
   ]
  },
  {
   "cell_type": "code",
   "execution_count": 129,
   "metadata": {
    "scrolled": false
   },
   "outputs": [],
   "source": [
    "# y_train"
   ]
  },
  {
   "cell_type": "code",
   "execution_count": 130,
   "metadata": {
    "scrolled": false
   },
   "outputs": [],
   "source": [
    "# num_classes"
   ]
  },
  {
   "cell_type": "code",
   "execution_count": 49,
   "metadata": {
    "scrolled": true
   },
   "outputs": [
    {
     "data": {
      "text/plain": [
       "5033"
      ]
     },
     "execution_count": 49,
     "metadata": {},
     "output_type": "execute_result"
    }
   ],
   "source": [
    "len(feats_dict)"
   ]
  },
  {
   "cell_type": "code",
   "execution_count": 50,
   "metadata": {},
   "outputs": [],
   "source": [
    "# Model Selection"
   ]
  },
  {
   "cell_type": "code",
   "execution_count": 51,
   "metadata": {
    "scrolled": true
   },
   "outputs": [
    {
     "data": {
      "text/plain": [
       "LogisticRegression(multi_class='multinomial', solver='newton-cg', tol=1e-06)"
      ]
     },
     "execution_count": 51,
     "metadata": {},
     "output_type": "execute_result"
    }
   ],
   "source": [
    "model_test = LogisticRegression(C=1.0, tol=1e-6, multi_class='multinomial', solver='newton-cg')\n",
    "model_test.fit(train_feats_matrix, y_train)"
   ]
  },
  {
   "cell_type": "code",
   "execution_count": 52,
   "metadata": {
    "scrolled": true
   },
   "outputs": [
    {
     "name": "stdout",
     "output_type": "stream",
     "text": [
      "              precision    recall  f1-score   support\n",
      "\n",
      "           1       0.72      0.75      0.74       517\n",
      "           2       0.35      0.26      0.30       278\n",
      "           3       0.42      0.43      0.43       344\n",
      "           4       0.45      0.49      0.47       427\n",
      "           5       0.65      0.64      0.65       434\n",
      "\n",
      "    accuracy                           0.55      2000\n",
      "   macro avg       0.52      0.52      0.52      2000\n",
      "weighted avg       0.54      0.55      0.55      2000\n",
      "\n",
      "\n",
      "\n",
      "\n",
      "[[389  64  36  15  13]\n",
      " [ 94  73  72  30   9]\n",
      " [ 30  55 149  92  18]\n",
      " [ 17  12  79 210 109]\n",
      " [ 11   6  19 119 279]]\n",
      "accuracy 0.55\n"
     ]
    }
   ],
   "source": [
    "#Multinomial Logistic Regression with tokenize & stopwords & stemmed & min_freq=8\n",
    "y_valid = valid_df['stars']\n",
    "y_pred = model_test.predict(valid_feats_matrix)\n",
    "print(classification_report(y_valid, y_pred))\n",
    "print(\"\\n\\n\")\n",
    "print(confusion_matrix(y_valid, y_pred))\n",
    "print('accuracy', np.mean(y_valid == y_pred))"
   ]
  },
  {
   "cell_type": "code",
   "execution_count": 74,
   "metadata": {},
   "outputs": [],
   "source": [
    "# Try Word2Vec\n",
    "# first save the reviews to txt\n",
    "x_w2v_train = train_df['text']\n",
    "x_w2v_train.to_csv('x_w2v_train.txt', header=True, index=False, sep='\\t', mode='a')"
   ]
  },
  {
   "cell_type": "code",
   "execution_count": 75,
   "metadata": {},
   "outputs": [],
   "source": [
    "def build_RNN(input_length, vocab_size, embedding_size,\n",
    "              hidden_size, output_size,\n",
    "              num_rnn_layers, num_mlp_layers,\n",
    "              rnn_type=\"lstm\",\n",
    "              bidirectional=False,\n",
    "              embedding_matrix=None,\n",
    "              activation=\"tanh\",\n",
    "              dropout_rate=0.0,\n",
    "              batch_norm=False,\n",
    "              l2_reg=0.0,\n",
    "              loss=\"categorical_crossentropy\",\n",
    "              optimizer=\"Adam\",\n",
    "              learning_rate=0.001,\n",
    "              metric=\"accuracy\"):\n",
    "    \"\"\"\n",
    "    :param input_length: the maximum length of sentences, type: int\n",
    "    :param vocab_size: the vacabulary size, type: int\n",
    "    :param embedding_size: the dimension of word representations, type: int\n",
    "    :param hidden_size: the dimension of the hidden states, type: int\n",
    "    :param output_size: the dimension of the prediction, type: int\n",
    "    :param num_rnn_layers: the number of layers of the RNN, type: int\n",
    "    :param num_mlp_layers: the number of layers of the MLP, type: int\n",
    "    :param rnn_type: the type of RNN, type: str\n",
    "    :param bidirectional: whether to use bidirectional rnn, type: bool\n",
    "    :param activation: the activation type, type: str\n",
    "    :param dropout_rate: the probability of dropout, type: float\n",
    "    :param batch_norm: whether to enable batch normalization, type: bool\n",
    "    :param l2_reg: the weight for the L2 regularizer, type: str\n",
    "    :param loss: the training loss, type: str\n",
    "    :param optimizer: the optimizer, type: str\n",
    "    :param learning_rate: the learning rate for the optimizer, type: float\n",
    "    :param metric: the metric, type: str\n",
    "    return a RNN for text classification,\n",
    "    # activation document: https://keras.io/activations/\n",
    "    # dropout document: https://keras.io/layers/core/#dropout\n",
    "    # embedding document: https://keras.io/layers/embeddings/#embedding\n",
    "    # recurrent layers document: https://keras.io/layers/recurrent\n",
    "    # batch normalization document: https://keras.io/layers/normalization/\n",
    "    # losses document: https://keras.io/losses/\n",
    "    # optimizers document: https://keras.io/optimizers/\n",
    "    # metrics document: https://keras.io/metrics/\n",
    "    \"\"\"\n",
    "    x = Input(shape=(input_length,))\n",
    "    \n",
    "    ################################\n",
    "    ###### Word Representation #####\n",
    "    ################################\n",
    "    # word representation layer\n",
    "    if embedding_matrix is not None:\n",
    "        emb = Embedding(input_dim=vocab_size,\n",
    "                        output_dim=embedding_size,\n",
    "                        input_length=input_length,\n",
    "                        embeddings_initializer=keras.initializers.Constant(embedding_matrix),\n",
    "                        trainable=False)(x)\n",
    "    else:\n",
    "        emb = Embedding(input_dim=vocab_size,\n",
    "                        output_dim=embedding_size,\n",
    "                        input_length=input_length,\n",
    "                        embeddings_initializer=keras.initializers.TruncatedNormal(mean=0.0, stddev=0.1, seed=0))(x)\n",
    "    \n",
    "    ################################\n",
    "    ####### Recurrent Layers #######\n",
    "    ################################\n",
    "    # recurrent layers\n",
    "    if rnn_type == \"rnn\":\n",
    "        fn = SimpleRNN\n",
    "    elif rnn_type == \"lstm\":\n",
    "        fn = LSTM\n",
    "    elif rnn_type == \"gru\":\n",
    "        fn = GRU\n",
    "    else:\n",
    "        raise NotImplementedError\n",
    "    h = emb\n",
    "    for i in range(num_rnn_layers):\n",
    "        is_last = (i == num_rnn_layers-1)\n",
    "        if bidirectional:\n",
    "            h = Bidirectional(fn(hidden_size,\n",
    "                                 kernel_initializer=keras.initializers.glorot_uniform(seed=0),\n",
    "                                 recurrent_initializer=keras.initializers.Orthogonal(gain=1.0, seed=0),\n",
    "                                 return_sequences=not is_last))(h)\n",
    "        else:\n",
    "            h = fn(hidden_size,\n",
    "                   kernel_initializer=keras.initializers.glorot_uniform(seed=0),\n",
    "                   recurrent_initializer=keras.initializers.Orthogonal(gain=1.0, seed=0),\n",
    "                   return_sequences=not is_last)(h)\n",
    "        h = Dropout(dropout_rate, seed=0)(h)\n",
    "    \n",
    "    ################################\n",
    "    #### Fully Connected Layers ####\n",
    "    ################################\n",
    "    # multi-layer perceptron\n",
    "    for i in range(num_mlp_layers-1):\n",
    "        new_h = Dense(hidden_size,\n",
    "                      kernel_initializer=keras.initializers.he_normal(seed=0),\n",
    "                      bias_initializer=\"zeros\",\n",
    "                      kernel_regularizer=keras.regularizers.l2(l2_reg))(h)\n",
    "        # add batch normalization layer\n",
    "        if batch_norm:\n",
    "            new_h = BatchNormalization()(new_h)\n",
    "        # add residual connection\n",
    "        if i == 0:\n",
    "            h = new_h\n",
    "        else:\n",
    "            h = Add()([h, new_h])\n",
    "        # add activation\n",
    "        h = Activation(activation)(h)\n",
    "    y = Dense(output_size,\n",
    "              activation=\"softmax\",\n",
    "              kernel_initializer=keras.initializers.he_normal(seed=0),\n",
    "              bias_initializer=\"zeros\")(h)\n",
    "    \n",
    "    # set the loss, the optimizer, and the metric\n",
    "    if optimizer == \"SGD\":\n",
    "        optimizer = keras.optimizers.SGD(lr=learning_rate)\n",
    "    elif optimizer == \"RMSprop\":\n",
    "        optmizer = keras.optimizers.RMSprop(learning_rate=learning_rate)\n",
    "    elif optimizer == \"Adam\":\n",
    "        optmizer = keras.optimizers.Adam(learning_rate=learning_rate)\n",
    "    else:\n",
    "        raise NotImplementedError\n",
    "    model = Model(x, y)\n",
    "    model.compile(loss=loss, optimizer=optimizer, metrics=[metric])\n",
    "    \n",
    "    return model"
   ]
  },
  {
   "cell_type": "code",
   "execution_count": 76,
   "metadata": {},
   "outputs": [],
   "source": [
    "from gensim.models import Word2Vec, KeyedVectors\n",
    "\n",
    "filepath = '/Users/cinder/Desktop/COMP4332_project_1/comp4332-project1-cnn-trial/x_w2v_train.txt'\n",
    "savepath = '/Users/cinder/Desktop/COMP4332_project_1/comp4332-project1-cnn-trial/word2vec.model'"
   ]
  },
  {
   "cell_type": "code",
   "execution_count": 77,
   "metadata": {},
   "outputs": [],
   "source": [
    "word_vectors = Word2Vec(corpus_file=filepath, vector_size=100, epochs=10, sg=1).wv\n",
    "word_vectors.save(savepath)"
   ]
  },
  {
   "cell_type": "code",
   "execution_count": 78,
   "metadata": {},
   "outputs": [
    {
     "name": "stdout",
     "output_type": "stream",
     "text": [
      "number of words: 29824 word dimension: 100\n",
      "[[-0.5998442   0.6131503  -0.9660659  -0.07950827 -0.07484288 -0.3059396\n",
      "   0.6332005   0.34530473 -0.37493116 -0.16765895  0.05021165 -0.10605764\n",
      "  -0.07105534  0.13796109  0.45696557 -0.10299909  0.3098173  -0.11630185\n",
      "  -0.30655727  0.10774532  0.17334558  0.6565228   0.22026393  0.83959264\n",
      "   0.42989415  0.24455665 -0.49903774 -0.13635543 -0.33855587  0.6550114\n",
      "   0.18658121 -0.6389449   0.01588     0.10817884  0.15469928  0.14937851\n",
      "   0.17724782  0.13383289 -0.5833301  -0.5840255   0.26475614 -0.09420545\n",
      "  -0.42661542  0.38296443  0.4595537  -0.33373064  0.30191153  0.07722851\n",
      "   1.0045336   0.24421194  0.5316543  -0.27285835 -0.23970748  0.24268976\n",
      "  -0.35453716 -0.22219856  0.06470132 -0.47747993 -0.1774784   0.5965443\n",
      "   0.10574081 -0.66837907 -0.20171535 -0.6764929  -0.33531955  0.6731742\n",
      "  -0.17177683  0.06044043  0.40564236 -0.10643754 -0.47370905 -0.4972027\n",
      "   0.40795925 -0.4074656   0.24964446  0.472266   -0.07923251  0.35005948\n",
      "  -0.15075333  0.392339   -0.22410743 -0.5983845  -0.7395619   0.8022201\n",
      "  -0.18621977  0.17186917 -0.7058954   0.44496474 -0.17969368 -0.32880947\n",
      "   0.4528436   0.22168738  0.4035111   0.13702509  0.5390068   0.06291558\n",
      "  -0.16992843 -0.00941542 -0.7321973   0.35449842]\n",
      " [-0.65280205  0.5676127  -0.23666357 -0.7944818  -0.0605114  -0.38477093\n",
      "   0.80595285  0.24392505  0.20363623 -0.05290601 -0.3698036  -0.1453525\n",
      "   0.10203777  0.1509386   0.44550702 -0.06081168  0.51015836 -0.06730909\n",
      "  -0.5792193  -0.29996046  0.23176624  0.40668207 -0.08687284  0.2820692\n",
      "   0.40647537  0.5320304  -0.6553525  -0.08177361 -0.11864537  0.42888853\n",
      "   0.2849023  -0.2706749   0.5920024  -0.04994738  0.6442009   0.597958\n",
      "  -0.0322443   0.05784601  0.57560384 -0.32450336  0.6123063  -0.31221268\n",
      "  -0.45860144 -0.19644785  0.12544064 -0.12319191  0.41653395 -0.01991963\n",
      "   0.4010499   0.5575675  -0.11374745 -0.5416977   0.33104593  0.56755936\n",
      "  -0.06647246 -0.06065775  0.31281558  0.24638386  0.06679367  0.7709818\n",
      "   0.03508102 -0.3582574  -0.34568328 -0.1906356  -0.28137624  0.62954086\n",
      "  -0.37082094  0.4173956   0.3153721  -0.10356914 -0.9272145  -0.32431158\n",
      "   0.25088027 -0.91223294  0.29116604  0.7088777  -0.174724    0.236922\n",
      "  -0.11732107  0.73836887 -0.20789592 -0.18045956 -0.19208753  0.3186927\n",
      "  -0.20681533 -0.03135046 -0.58847064  0.1459112  -0.7542521  -0.35501125\n",
      "   0.3263846  -0.39855468  0.14075424  0.5296792  -0.189426    0.3745168\n",
      "  -0.63815016 -0.22303449 -0.8812688   0.6356603 ]\n",
      " [-0.44360545 -0.33832797 -0.14690514  0.03963248 -0.06936649 -0.507997\n",
      "   0.20455743  0.50848126  0.1936315  -0.29814482 -0.22143674  0.04471197\n",
      "   0.15203808 -0.21588685 -0.06377243  0.00142545 -0.11334416  0.12519409\n",
      "  -0.3263371  -0.5784004  -0.06250834 -0.3313245  -0.12637961 -0.19046797\n",
      "   0.2244427  -0.06288277 -0.22326851 -0.10253938  0.03595925 -0.11116993\n",
      "   0.27109626 -0.19188076 -0.07351448  0.05226773 -0.0198468   0.01453273\n",
      "  -0.18756482  0.2536221   0.41612813 -0.01305023  0.03669626 -0.27958912\n",
      "  -0.33539036  0.10884158  0.09839389  0.0820865  -0.08141887 -0.28347585\n",
      "   0.03245737 -0.21362416  0.31179237 -0.15351051  0.26239103 -0.34902456\n",
      "   0.10193837 -0.02496998 -0.01149295 -0.06836572 -0.11240687  0.21819998\n",
      "   0.10469496 -0.19523907  0.25468707  0.03960625 -0.26962182  0.32312876\n",
      "  -0.17330736 -0.02176222 -0.00931563  0.04363492  0.00714156  0.3281176\n",
      "   0.31492424  0.11415235  0.2439482   0.3795817   0.0692477   0.38214684\n",
      "  -0.11612691  0.01712503 -0.23067905  0.11668345 -0.27939248  0.46044004\n",
      "   0.0841258  -0.13336371 -0.2881429  -0.2046149   0.10137702  0.06479198\n",
      "   0.07200611  0.11055212  0.06013918  0.12646501  0.4703439   0.2273403\n",
      "   0.19688135  0.16727458 -0.04747242  0.20899896]\n",
      " [ 0.          0.          0.          0.          0.          0.\n",
      "   0.          0.          0.          0.          0.          0.\n",
      "   0.          0.          0.          0.          0.          0.\n",
      "   0.          0.          0.          0.          0.          0.\n",
      "   0.          0.          0.          0.          0.          0.\n",
      "   0.          0.          0.          0.          0.          0.\n",
      "   0.          0.          0.          0.          0.          0.\n",
      "   0.          0.          0.          0.          0.          0.\n",
      "   0.          0.          0.          0.          0.          0.\n",
      "   0.          0.          0.          0.          0.          0.\n",
      "   0.          0.          0.          0.          0.          0.\n",
      "   0.          0.          0.          0.          0.          0.\n",
      "   0.          0.          0.          0.          0.          0.\n",
      "   0.          0.          0.          0.          0.          0.\n",
      "   0.          0.          0.          0.          0.          0.\n",
      "   0.          0.          0.          0.          0.          0.\n",
      "   0.          0.          0.          0.        ]\n",
      " [-0.35887706 -0.03525417 -0.66557735 -0.05118906  0.16877519 -0.38521653\n",
      "   0.49524269 -0.03733386 -0.26798546 -0.3836308  -0.35093197 -0.90543616\n",
      "  -0.7329342  -0.25579628  0.4932001  -0.19693726  0.307293    0.02580898\n",
      "  -0.7809037  -0.4224998  -0.45560136  0.70024395 -0.13389826  0.80221915\n",
      "   0.10112372 -0.02710464 -0.6070736  -0.03459038 -0.325249    0.3273628\n",
      "  -0.04453922 -0.24969725 -0.16095021  0.37895572  0.38506567  0.39972752\n",
      "   0.0892861   0.10443839 -0.3480518  -1.1148024  -0.19889791 -0.13082741\n",
      "   0.10589508  0.5333504   0.8407365  -0.26429132  0.21328841  0.05091431\n",
      "  -0.00311922 -0.22507265 -0.126378    0.01842151 -0.2454236   0.02727353\n",
      "   0.10794171  0.02252545 -0.47418192  0.23186389 -0.71890074 -0.0049168\n",
      "  -0.2768896  -0.6500857  -0.26633906 -0.07071191 -0.14208607  0.40092024\n",
      "  -0.88439393  0.35382318 -0.39377245  0.08143321 -0.7378866   0.04843308\n",
      "   0.14886211 -0.24704479  0.80895907 -0.12443691 -0.8619      0.65181416\n",
      "  -0.5305349   0.25589657 -1.1124598  -0.8644659   0.4765815   0.32901537\n",
      "  -0.14980213  0.3153486  -0.65015036  0.67587626 -0.18013471 -0.4484266\n",
      "   0.37446785  0.04004644  0.75764346 -0.07571622 -0.5393774   0.46525973\n",
      "  -0.22181548 -0.77587336 -0.41919506  0.2578144 ]]\n"
     ]
    }
   ],
   "source": [
    "embedding_matrix_ex = np.zeros((len(feats_dict), 100), dtype=np.float32)\n",
    "wv = KeyedVectors.load(savepath, mmap='r')\n",
    "print(\"number of words:\", len(wv), \"word dimension:\", wv.vector_size)\n",
    "for i in range(len(wv)):\n",
    "    word = wv.index_to_key[i]\n",
    "    word_idx = feats_dict.get(word, -1)\n",
    "    if word_idx != -1:\n",
    "        embedding_matrix_ex[word_idx] = wv[word]\n",
    "print(embedding_matrix_ex[:5])"
   ]
  },
  {
   "cell_type": "code",
   "execution_count": 79,
   "metadata": {},
   "outputs": [
    {
     "name": "stdout",
     "output_type": "stream",
     "text": [
      "Size of features: 5033\n"
     ]
    }
   ],
   "source": [
    "# build the feature list\n",
    "# W2V RNN\n",
    "\n",
    "maximum_len = 50\n",
    "train_w2v_feats = list()\n",
    "for i in range(len(x_train_text)):\n",
    "    train_w2v_feats.append(\n",
    "#         train_stemmed[i] + train_2_gram[i] + train_3_gram[i])\n",
    "        train_stemmed[i])\n",
    "valid_w2v_feats = list()\n",
    "for i in range(len(x_valid_text)):\n",
    "    valid_w2v_feats.append(\n",
    "#         valid_stemmed[i] + valid_2_gram[i] + valid_3_gram[i])\n",
    "        valid_stemmed[i])\n",
    "\n",
    "# build a mapping from features to indices\n",
    "feats_w2v_dict = get_feats_dict(\n",
    "    chain.from_iterable(train_w2v_feats),\n",
    "    min_freq=8)\n",
    "\n",
    "# build the feats_matrix\n",
    "# convert each example to a ont-hot vector, and then stack vectors as a matrix\n",
    "train_w2v_feats_matrix = np.vstack(\n",
    "    [get_index_vector(f, feats_w2v_dict, maximum_len) for f in train_w2v_feats])\n",
    "valid_w2v_feats_matrix = np.vstack(\n",
    "    [get_index_vector(f, feats_w2v_dict, maximum_len) for f in valid_w2v_feats])\n",
    "\n",
    "# convert labels to label_matrix\n",
    "num_classes = max(y_train)\n",
    "# convert each label to a ont-hot vector, and then stack vectors as a matrix\n",
    "train_w2v_label_matrix = keras.utils.to_categorical(y_train-1, num_classes=num_classes)\n",
    "valid_w2v_label_matrix = keras.utils.to_categorical(y_valid-1, num_classes=num_classes)"
   ]
  },
  {
   "cell_type": "code",
   "execution_count": null,
   "metadata": {},
   "outputs": [],
   "source": []
  },
  {
   "cell_type": "code",
   "execution_count": 80,
   "metadata": {},
   "outputs": [],
   "source": [
    "import os\n",
    "import tensorflow as tf"
   ]
  },
  {
   "cell_type": "code",
   "execution_count": 81,
   "metadata": {},
   "outputs": [],
   "source": [
    "# # Word2Vec RNN\n",
    "\n",
    "# maximum_len = 100\n",
    "\n",
    "# # build the feats_matrix\n",
    "# # convert each example to a index vector, and then stack vectors as a matrix\n",
    "# train_w2v_feats_matrix = np.vstack(\n",
    "#     [get_index_vector(f, feats_w2v_dict, maximum_len) for f in train_w2v_feats])\n",
    "# valid_w2v_feats_matrix = np.vstack(\n",
    "#     [get_index_vector(f, feats_w2v_dict, maximum_len) for f in valid_w2v_feats])\n",
    "\n",
    "# # convert labels to label_matrix\n",
    "# num_classes = max(train_labels)\n",
    "# # convert each label to a ont-hot vector, and then stack vectors as a matrix\n",
    "# train_label_matrix = keras.utils.to_categorical(train_labels-1, num_classes=num_classes)\n",
    "# test_label_matrix = keras.utils.to_categorical(test_labels-1, num_classes=num_classes)"
   ]
  },
  {
   "cell_type": "code",
   "execution_count": 83,
   "metadata": {},
   "outputs": [],
   "source": [
    "# y_w2v = model.predict(valid_w2v_feats_matrix)"
   ]
  },
  {
   "cell_type": "code",
   "execution_count": 85,
   "metadata": {},
   "outputs": [],
   "source": [
    "# y_w2v"
   ]
  },
  {
   "cell_type": "code",
   "execution_count": null,
   "metadata": {},
   "outputs": [],
   "source": [
    "# valid_w2v_label_matrix"
   ]
  },
  {
   "cell_type": "code",
   "execution_count": null,
   "metadata": {},
   "outputs": [],
   "source": [
    "# print(X_tfidf.shape)"
   ]
  },
  {
   "cell_type": "code",
   "execution_count": 86,
   "metadata": {},
   "outputs": [
    {
     "name": "stdout",
     "output_type": "stream",
     "text": [
      "Pipeline(steps=[('tfidf',\n",
      "                 TfidfVectorizer(tokenizer=<function tokenize at 0x7f98418dec10>)),\n",
      "                ('lr',\n",
      "                 LogisticRegression(multi_class='multinomial',\n",
      "                                    solver='newton-cg', tol=1e-06))])\n"
     ]
    }
   ],
   "source": [
    "# Demo Logistical + multinomial\n",
    "# The result shows that multinomial is better!\n",
    "x_demo_train = train_df['text']\n",
    "y_demo_train = train_df['stars']\n",
    "\n",
    "tfidf = TfidfVectorizer(tokenizer=tokenize)\n",
    "lr = LogisticRegression(C=1.0, tol=1e-6, multi_class='multinomial', solver='newton-cg')\n",
    "steps = [('tfidf', tfidf),('lr', lr)]\n",
    "pipe_demo = Pipeline(steps)\n",
    "print(pipe_demo)\n"
   ]
  },
  {
   "cell_type": "code",
   "execution_count": 87,
   "metadata": {},
   "outputs": [
    {
     "name": "stderr",
     "output_type": "stream",
     "text": [
      "/opt/anaconda3/lib/python3.8/site-packages/scipy/optimize/linesearch.py:314: LineSearchWarning: The line search algorithm did not converge\n",
      "  warn('The line search algorithm did not converge', LineSearchWarning)\n",
      "/opt/anaconda3/lib/python3.8/site-packages/sklearn/utils/optimize.py:204: UserWarning: Line Search failed\n",
      "  warnings.warn('Line Search failed')\n"
     ]
    },
    {
     "data": {
      "text/plain": [
       "Pipeline(steps=[('tfidf',\n",
       "                 TfidfVectorizer(tokenizer=<function tokenize at 0x7f98418dec10>)),\n",
       "                ('lr',\n",
       "                 LogisticRegression(multi_class='multinomial',\n",
       "                                    solver='newton-cg', tol=1e-06))])"
      ]
     },
     "execution_count": 87,
     "metadata": {},
     "output_type": "execute_result"
    }
   ],
   "source": [
    "pipe_demo.fit(x_demo_train, y_demo_train)"
   ]
  },
  {
   "cell_type": "code",
   "execution_count": 88,
   "metadata": {},
   "outputs": [
    {
     "name": "stdout",
     "output_type": "stream",
     "text": [
      "              precision    recall  f1-score   support\n",
      "\n",
      "           1       0.69      0.87      0.77       517\n",
      "           2       0.44      0.21      0.28       278\n",
      "           3       0.48      0.47      0.47       344\n",
      "           4       0.51      0.54      0.53       427\n",
      "           5       0.71      0.71      0.71       434\n",
      "\n",
      "    accuracy                           0.60      2000\n",
      "   macro avg       0.57      0.56      0.55      2000\n",
      "weighted avg       0.59      0.60      0.59      2000\n",
      "\n",
      "\n",
      "\n",
      "\n",
      "[[448  31  23   8   7]\n",
      " [111  58  78  22   9]\n",
      " [ 49  33 160  93   9]\n",
      " [ 16   8  69 231 103]\n",
      " [ 22   2   5  97 308]]\n",
      "accuracy 0.6025\n"
     ]
    }
   ],
   "source": [
    "x_demo_valid = valid_df['text']\n",
    "y_demo_valid = valid_df['stars']\n",
    "y_demo_pred = pipe_demo.predict(x_demo_valid)\n",
    "print(classification_report(y_demo_valid, y_demo_pred))\n",
    "print(\"\\n\\n\")\n",
    "print(confusion_matrix(y_demo_valid, y_demo_pred))\n",
    "print('accuracy', np.mean(y_demo_valid == y_demo_pred))"
   ]
  },
  {
   "cell_type": "code",
   "execution_count": 89,
   "metadata": {},
   "outputs": [
    {
     "name": "stdout",
     "output_type": "stream",
     "text": [
      "Pipeline(steps=[('tfidf_h',\n",
      "                 TfidfVectorizer(stop_words='english',\n",
      "                                 tokenizer=<function tokenize at 0x7f98418dec10>)),\n",
      "                ('lr',\n",
      "                 LogisticRegression(multi_class='multinomial',\n",
      "                                    solver='newton-cg', tol=1e-06))])\n"
     ]
    }
   ],
   "source": [
    "# Demo + hyperparameter training\n",
    "# The result showing that without stop_words the performance is better!\n",
    "x_demo_h_train = train_df['text']\n",
    "y_demo_h_train = train_df['stars']\n",
    "\n",
    "tfidf_h = TfidfVectorizer(tokenizer=tokenize, stop_words = 'english')\n",
    "lr = LogisticRegression(C=1.0, tol=1e-6, multi_class='multinomial', solver='newton-cg')\n",
    "steps_h = [('tfidf_h', tfidf_h),('lr', lr)]\n",
    "pipe_demo_h = Pipeline(steps_h)\n",
    "print(pipe_demo_h)\n"
   ]
  },
  {
   "cell_type": "code",
   "execution_count": 90,
   "metadata": {},
   "outputs": [
    {
     "data": {
      "text/plain": [
       "Pipeline(steps=[('tfidf_h',\n",
       "                 TfidfVectorizer(stop_words='english',\n",
       "                                 tokenizer=<function tokenize at 0x7f98418dec10>)),\n",
       "                ('lr',\n",
       "                 LogisticRegression(multi_class='multinomial',\n",
       "                                    solver='newton-cg', tol=1e-06))])"
      ]
     },
     "execution_count": 90,
     "metadata": {},
     "output_type": "execute_result"
    }
   ],
   "source": [
    "pipe_demo_h.fit(x_demo_h_train, y_demo_h_train)"
   ]
  },
  {
   "cell_type": "code",
   "execution_count": 91,
   "metadata": {},
   "outputs": [
    {
     "name": "stdout",
     "output_type": "stream",
     "text": [
      "              precision    recall  f1-score   support\n",
      "\n",
      "           1       0.68      0.86      0.76       517\n",
      "           2       0.44      0.22      0.30       278\n",
      "           3       0.44      0.42      0.43       344\n",
      "           4       0.51      0.52      0.51       427\n",
      "           5       0.69      0.69      0.69       434\n",
      "\n",
      "    accuracy                           0.59      2000\n",
      "   macro avg       0.55      0.54      0.54      2000\n",
      "weighted avg       0.57      0.59      0.57      2000\n",
      "\n",
      "\n",
      "\n",
      "\n",
      "[[447  27  26   6  11]\n",
      " [113  62  71  26   6]\n",
      " [ 51  40 145  94  14]\n",
      " [ 21   9  69 222 106]\n",
      " [ 23   4  15  91 301]]\n",
      "accuracy 0.5885\n"
     ]
    }
   ],
   "source": [
    "x_demo_h_valid = valid_df['text']\n",
    "y_demo_h_valid = valid_df['stars']\n",
    "y_demo_h_pred = pipe_demo_h.predict(x_demo_h_valid)\n",
    "print(classification_report(y_demo_h_valid, y_demo_h_pred))\n",
    "print(\"\\n\\n\")\n",
    "print(confusion_matrix(y_demo_h_valid, y_demo_h_pred))\n",
    "print('accuracy', np.mean(y_demo_h_valid == y_demo_h_pred))"
   ]
  },
  {
   "cell_type": "code",
   "execution_count": null,
   "metadata": {},
   "outputs": [],
   "source": [
    "# train_df"
   ]
  },
  {
   "cell_type": "code",
   "execution_count": 92,
   "metadata": {},
   "outputs": [],
   "source": [
    "############ Try Bert\n",
    "\n",
    "import torch\n",
    "from tqdm.notebook import tqdm\n",
    "\n",
    "from transformers import BertTokenizer\n",
    "from torch.utils.data import TensorDataset\n",
    "\n",
    "from transformers import BertForSequenceClassification"
   ]
  },
  {
   "cell_type": "code",
   "execution_count": 93,
   "metadata": {},
   "outputs": [],
   "source": [
    "train_bert_df = train_df\n",
    "valid_bert_df = valid_df"
   ]
  },
  {
   "cell_type": "code",
   "execution_count": 94,
   "metadata": {},
   "outputs": [
    {
     "name": "stderr",
     "output_type": "stream",
     "text": [
      "<ipython-input-94-6fe6d99a1b29>:2: SettingWithCopyWarning: \n",
      "A value is trying to be set on a copy of a slice from a DataFrame\n",
      "\n",
      "See the caveats in the documentation: https://pandas.pydata.org/pandas-docs/stable/user_guide/indexing.html#returning-a-view-versus-a-copy\n",
      "  train_bert_df['stars'][i] = train_bert_df['stars'][i] -1\n"
     ]
    }
   ],
   "source": [
    "for i in range(len(train_bert_df)):\n",
    "    train_bert_df['stars'][i] = train_bert_df['stars'][i] -1"
   ]
  },
  {
   "cell_type": "code",
   "execution_count": 95,
   "metadata": {},
   "outputs": [
    {
     "name": "stderr",
     "output_type": "stream",
     "text": [
      "<ipython-input-95-ba037fa114d2>:2: SettingWithCopyWarning: \n",
      "A value is trying to be set on a copy of a slice from a DataFrame\n",
      "\n",
      "See the caveats in the documentation: https://pandas.pydata.org/pandas-docs/stable/user_guide/indexing.html#returning-a-view-versus-a-copy\n",
      "  valid_bert_df['stars'][i] = valid_bert_df['stars'][i] -1\n"
     ]
    }
   ],
   "source": [
    "for i in range(len(valid_bert_df)):\n",
    "    valid_bert_df['stars'][i] = valid_bert_df['stars'][i] -1"
   ]
  },
  {
   "cell_type": "code",
   "execution_count": 96,
   "metadata": {},
   "outputs": [
    {
     "name": "stderr",
     "output_type": "stream",
     "text": [
      "Truncation was not explicitly activated but `max_length` is provided a specific value, please use `truncation=True` to explicitly truncate examples to max length. Defaulting to 'longest_first' truncation strategy. If you encode pairs of sequences (GLUE-style) with the tokenizer you can select this strategy more precisely by providing a specific strategy to `truncation`.\n",
      "/opt/anaconda3/lib/python3.8/site-packages/transformers/tokenization_utils_base.py:2068: FutureWarning: The `pad_to_max_length` argument is deprecated and will be removed in a future version, use `padding=True` or `padding='longest'` to pad to the longest sequence in the batch, or use `padding='max_length'` to pad to a max length. In this case, you can give a specific length with `max_length` (e.g. `max_length=45`) or leave max_length to None to pad to the maximal input size of the model (e.g. 512 for Bert).\n",
      "  warnings.warn(\n"
     ]
    }
   ],
   "source": [
    "tokenizer = BertTokenizer.from_pretrained('bert-base-uncased', \n",
    "                                          do_lower_case=True)\n",
    "                                          \n",
    "encoded_data_train = tokenizer.batch_encode_plus(\n",
    "    train_bert_df['text'], \n",
    "    add_special_tokens=True, \n",
    "    return_attention_mask=True, \n",
    "    pad_to_max_length=True, \n",
    "    max_length=256, \n",
    "    return_tensors='pt'\n",
    ")\n",
    "\n",
    "encoded_data_val = tokenizer.batch_encode_plus(\n",
    "    valid_bert_df['text'], \n",
    "    add_special_tokens=True, \n",
    "    return_attention_mask=True, \n",
    "    pad_to_max_length=True, \n",
    "    max_length=256, \n",
    "    return_tensors='pt'\n",
    ")\n",
    "\n",
    "\n",
    "input_ids_train = encoded_data_train['input_ids']\n",
    "attention_masks_train = encoded_data_train['attention_mask']\n",
    "labels_train = torch.tensor(train_bert_df['stars'])\n",
    "\n",
    "input_ids_val = encoded_data_val['input_ids']\n",
    "attention_masks_val = encoded_data_val['attention_mask']\n",
    "labels_val = torch.tensor(valid_bert_df['stars'])\n",
    "\n",
    "dataset_train = TensorDataset(input_ids_train, attention_masks_train, labels_train)\n",
    "dataset_val = TensorDataset(input_ids_val, attention_masks_val, labels_val)"
   ]
  },
  {
   "cell_type": "code",
   "execution_count": 97,
   "metadata": {},
   "outputs": [
    {
     "name": "stderr",
     "output_type": "stream",
     "text": [
      "Some weights of the model checkpoint at bert-base-uncased were not used when initializing BertForSequenceClassification: ['cls.predictions.bias', 'cls.predictions.transform.dense.weight', 'cls.predictions.transform.dense.bias', 'cls.predictions.decoder.weight', 'cls.seq_relationship.weight', 'cls.seq_relationship.bias', 'cls.predictions.transform.LayerNorm.weight', 'cls.predictions.transform.LayerNorm.bias']\n",
      "- This IS expected if you are initializing BertForSequenceClassification from the checkpoint of a model trained on another task or with another architecture (e.g. initializing a BertForSequenceClassification model from a BertForPreTraining model).\n",
      "- This IS NOT expected if you are initializing BertForSequenceClassification from the checkpoint of a model that you expect to be exactly identical (initializing a BertForSequenceClassification model from a BertForSequenceClassification model).\n",
      "Some weights of BertForSequenceClassification were not initialized from the model checkpoint at bert-base-uncased and are newly initialized: ['classifier.weight', 'classifier.bias']\n",
      "You should probably TRAIN this model on a down-stream task to be able to use it for predictions and inference.\n"
     ]
    }
   ],
   "source": [
    "bert_model = BertForSequenceClassification.from_pretrained(\"bert-base-uncased\",\n",
    "                                                      num_labels=num_classes,\n",
    "                                                      output_attentions=False,\n",
    "                                                      output_hidden_states=False)"
   ]
  },
  {
   "cell_type": "code",
   "execution_count": 98,
   "metadata": {},
   "outputs": [],
   "source": [
    "from torch.utils.data import DataLoader, RandomSampler, SequentialSampler\n",
    "\n",
    "batch_size = 10\n",
    "\n",
    "dataloader_train = DataLoader(dataset_train, \n",
    "                              sampler=RandomSampler(dataset_train), \n",
    "                              batch_size=batch_size)\n",
    "\n",
    "dataloader_validation = DataLoader(dataset_val, \n",
    "                                   sampler=SequentialSampler(dataset_val), \n",
    "                                   batch_size=batch_size)"
   ]
  },
  {
   "cell_type": "code",
   "execution_count": 104,
   "metadata": {},
   "outputs": [],
   "source": [
    "from transformers import AdamW, get_linear_schedule_with_warmup\n",
    "\n",
    "optimizer = AdamW(bert_model.parameters(),\n",
    "                  lr=1e-5, \n",
    "                  eps=1e-8)\n",
    "                  \n",
    "epochs = 2\n",
    "\n",
    "scheduler = get_linear_schedule_with_warmup(optimizer, \n",
    "                                            num_warmup_steps=0,\n",
    "                                            num_training_steps=len(dataloader_train)*epochs)"
   ]
  },
  {
   "cell_type": "code",
   "execution_count": 100,
   "metadata": {},
   "outputs": [],
   "source": [
    "from sklearn.metrics import f1_score\n",
    "\n",
    "def f1_score_func(preds, labels):\n",
    "    preds_flat = np.argmax(preds, axis=1).flatten()\n",
    "    labels_flat = labels.flatten()\n",
    "    return f1_score(labels_flat, preds_flat, average='weighted')\n",
    "\n",
    "def accuracy_per_class(preds, labels):\n",
    "    label_dict_inverse = {v: k for k, v in label_dict.items()}\n",
    "    \n",
    "    preds_flat = np.argmax(preds, axis=1).flatten()\n",
    "    labels_flat = labels.flatten()\n",
    "\n",
    "    for label in np.unique(labels_flat):\n",
    "        y_preds = preds_flat[labels_flat==label]\n",
    "        y_true = labels_flat[labels_flat==label]\n",
    "        print(f'Class: {label_dict_inverse[label]}')\n",
    "        print(f'Accuracy: {len(y_preds[y_preds==label])}/{len(y_true)}\\n')"
   ]
  },
  {
   "cell_type": "code",
   "execution_count": 101,
   "metadata": {},
   "outputs": [],
   "source": [
    "device = torch.device('cuda') if torch.cuda.is_available() else torch.device('cpu')"
   ]
  },
  {
   "cell_type": "code",
   "execution_count": null,
   "metadata": {},
   "outputs": [],
   "source": [
    "# inputs"
   ]
  },
  {
   "cell_type": "code",
   "execution_count": 105,
   "metadata": {},
   "outputs": [
    {
     "data": {
      "application/vnd.jupyter.widget-view+json": {
       "model_id": "f12b2a46f93c465a8927faae6ba47706",
       "version_major": 2,
       "version_minor": 0
      },
      "text/plain": [
       "HBox(children=(HTML(value=''), FloatProgress(value=0.0, max=2.0), HTML(value='')))"
      ]
     },
     "metadata": {},
     "output_type": "display_data"
    },
    {
     "data": {
      "application/vnd.jupyter.widget-view+json": {
       "model_id": "",
       "version_major": 2,
       "version_minor": 0
      },
      "text/plain": [
       "HBox(children=(HTML(value='Epoch 1'), FloatProgress(value=0.0, max=1000.0), HTML(value='')))"
      ]
     },
     "metadata": {},
     "output_type": "display_data"
    },
    {
     "name": "stdout",
     "output_type": "stream",
     "text": [
      "\n",
      "Epoch 1\n",
      "Training loss: 0.6523314317092299\n",
      "Validation loss: 0.9459494668990374\n",
      "F1 Score (Weighted): 0.6412609544583778\n"
     ]
    },
    {
     "data": {
      "application/vnd.jupyter.widget-view+json": {
       "model_id": "",
       "version_major": 2,
       "version_minor": 0
      },
      "text/plain": [
       "HBox(children=(HTML(value='Epoch 2'), FloatProgress(value=0.0, max=1000.0), HTML(value='')))"
      ]
     },
     "metadata": {},
     "output_type": "display_data"
    },
    {
     "name": "stdout",
     "output_type": "stream",
     "text": [
      "\n",
      "Epoch 2\n",
      "Training loss: 0.6035119053050876\n",
      "Validation loss: 0.8905712267011404\n",
      "F1 Score (Weighted): 0.6555688872746077\n",
      "\n"
     ]
    }
   ],
   "source": [
    "\n",
    "import random\n",
    "\n",
    "seed_val = 17\n",
    "random.seed(seed_val)\n",
    "np.random.seed(seed_val)\n",
    "torch.manual_seed(seed_val)\n",
    "torch.cuda.manual_seed_all(seed_val)\n",
    "\n",
    "def evaluate(dataloader_val):\n",
    "\n",
    "    bert_model.eval()\n",
    "    \n",
    "    loss_val_total = 0\n",
    "    predictions, true_vals = [], []\n",
    "    \n",
    "    for batch in dataloader_val:\n",
    "        \n",
    "        batch = tuple(b.to(device) for b in batch)\n",
    "        \n",
    "        inputs = {'input_ids':      batch[0],\n",
    "                  'attention_mask': batch[1],\n",
    "                  'labels':         batch[2],\n",
    "                 }\n",
    "\n",
    "        with torch.no_grad():        \n",
    "            outputs = bert_model(**inputs)\n",
    "            \n",
    "        loss = outputs[0]\n",
    "        logits = outputs[1]\n",
    "        loss_val_total += loss.item()\n",
    "\n",
    "        logits = logits.detach().cpu().numpy()\n",
    "        label_ids = inputs['labels'].cpu().numpy()\n",
    "        predictions.append(logits)\n",
    "        true_vals.append(label_ids)\n",
    "    \n",
    "    loss_val_avg = loss_val_total/len(dataloader_val) \n",
    "    \n",
    "    predictions = np.concatenate(predictions, axis=0)\n",
    "    true_vals = np.concatenate(true_vals, axis=0)\n",
    "            \n",
    "    return loss_val_avg, predictions, true_vals\n",
    "    \n",
    "for epoch in tqdm(range(1, epochs+1)):\n",
    "    \n",
    "    bert_model.train()\n",
    "    \n",
    "    loss_train_total = 0\n",
    "\n",
    "    progress_bar = tqdm(dataloader_train, desc='Epoch {:1d}'.format(epoch), leave=False, disable=False)\n",
    "    for batch in progress_bar:\n",
    "\n",
    "        bert_model.zero_grad()\n",
    "        \n",
    "        batch = tuple(b.to(device) for b in batch)\n",
    "        \n",
    "        inputs = {'input_ids':      batch[0],\n",
    "                  'attention_mask': batch[1],\n",
    "                  'labels':         batch[2],\n",
    "                 }       \n",
    "\n",
    "        outputs = bert_model(**inputs)\n",
    "        \n",
    "        loss = outputs[0]\n",
    "        loss_train_total += loss.item()\n",
    "        loss.backward()\n",
    "\n",
    "        torch.nn.utils.clip_grad_norm_(bert_model.parameters(), 1.0)\n",
    "\n",
    "        optimizer.step()\n",
    "        scheduler.step()\n",
    "        \n",
    "        progress_bar.set_postfix({'training_loss': '{:.3f}'.format(loss.item()/len(batch))})\n",
    "         \n",
    "        \n",
    "    torch.save(bert_model.state_dict(), f'/Users/cinder/Desktop/COMP4332_project_1/comp4332-project1-cnn-trial/bert_data/finetuned_BERT_epoch_{epoch}.bert_model')\n",
    "        \n",
    "    tqdm.write(f'\\nEpoch {epoch}')\n",
    "    \n",
    "    loss_train_avg = loss_train_total/len(dataloader_train)            \n",
    "    tqdm.write(f'Training loss: {loss_train_avg}')\n",
    "    \n",
    "    val_loss, predictions, true_vals = evaluate(dataloader_validation)\n",
    "    val_f1 = f1_score_func(predictions, true_vals)\n",
    "    tqdm.write(f'Validation loss: {val_loss}')\n",
    "    tqdm.write(f'F1 Score (Weighted): {val_f1}')\n"
   ]
  },
  {
   "cell_type": "code",
   "execution_count": 106,
   "metadata": {},
   "outputs": [
    {
     "data": {
      "text/plain": [
       "array([[-2.151398  , -0.6341162 ,  2.785958  ,  1.5555502 , -1.4009871 ],\n",
       "       [-0.2130135 ,  2.7958763 ,  2.1233704 , -1.2353896 , -2.7109315 ],\n",
       "       [ 2.4293492 ,  2.5757358 , -0.14212401, -2.541742  , -2.9131825 ],\n",
       "       ...,\n",
       "       [-1.578146  , -2.121511  , -1.2985153 ,  0.86633474,  3.8319721 ],\n",
       "       [-2.1850622 ,  0.4447548 ,  3.6501243 ,  0.5884896 , -1.7608833 ],\n",
       "       [-3.0847476 , -2.2397404 ,  0.557518  ,  3.7279282 ,  1.0521642 ]],\n",
       "      dtype=float32)"
      ]
     },
     "execution_count": 106,
     "metadata": {},
     "output_type": "execute_result"
    }
   ],
   "source": [
    "predictions"
   ]
  },
  {
   "cell_type": "code",
   "execution_count": 107,
   "metadata": {},
   "outputs": [
    {
     "data": {
      "text/plain": [
       "array([4, 2, 1, ..., 4, 2, 3])"
      ]
     },
     "execution_count": 107,
     "metadata": {},
     "output_type": "execute_result"
    }
   ],
   "source": [
    "true_vals"
   ]
  },
  {
   "cell_type": "code",
   "execution_count": 115,
   "metadata": {},
   "outputs": [],
   "source": [
    "list_pre = predictions.tolist()\n",
    "pre_vals = []\n",
    "\n",
    "for i in range(len(list_pre)):\n",
    "    pre_vals.append(list_pre[i].index(max(list_pre[i])))\n"
   ]
  },
  {
   "cell_type": "code",
   "execution_count": 118,
   "metadata": {},
   "outputs": [],
   "source": [
    "true_list = true_vals.tolist()"
   ]
  },
  {
   "cell_type": "code",
   "execution_count": 122,
   "metadata": {},
   "outputs": [],
   "source": [
    "k = 0\n",
    "for i in range(len(true_list)):\n",
    "    if (pre_vals[i] == true_list[i]):\n",
    "        k +=1"
   ]
  },
  {
   "cell_type": "code",
   "execution_count": 126,
   "metadata": {},
   "outputs": [
    {
     "data": {
      "text/plain": [
       "0.66"
      ]
     },
     "execution_count": 126,
     "metadata": {},
     "output_type": "execute_result"
    }
   ],
   "source": [
    "k/2000"
   ]
  },
  {
   "cell_type": "code",
   "execution_count": null,
   "metadata": {},
   "outputs": [],
   "source": []
  },
  {
   "cell_type": "code",
   "execution_count": null,
   "metadata": {},
   "outputs": [],
   "source": []
  },
  {
   "cell_type": "code",
   "execution_count": null,
   "metadata": {},
   "outputs": [],
   "source": []
  },
  {
   "cell_type": "code",
   "execution_count": null,
   "metadata": {},
   "outputs": [],
   "source": []
  },
  {
   "cell_type": "code",
   "execution_count": null,
   "metadata": {},
   "outputs": [],
   "source": [
    "# logistR=LogisticRegression(multi_class='multinomial', solver='newton-cg')"
   ]
  },
  {
   "cell_type": "code",
   "execution_count": null,
   "metadata": {},
   "outputs": [],
   "source": [
    "# def build_classifier(input_size, output_size,\n",
    "#                      loss=\"categorical_crossentropy\",\n",
    "#                      optimizer=\"SGD\",\n",
    "#                      learning_rate=0.1,\n",
    "#                      metric=\"accuracy\"):\n",
    "#     \"\"\"\n",
    "#     :param input_size: the dimension of the input, type: int\n",
    "#     :param output_size: the dimension of the prediction, type: int\n",
    "#     :param l2_reg: the weight for the L2 regularizer, type: str\n",
    "#     :param loss: the training loss, type: str\n",
    "#     :param optimizer: the optimizer, type: str\n",
    "#     :param learning_rate: the learning rate for the optimizer, type: float\n",
    "#     :param metric: the metric, type: str\n",
    "#     return a 1-layer perceptron,\n",
    "#     # losses document: https://keras.io/losses/\n",
    "#     # optimizers document: https://keras.io/optimizers/\n",
    "#     # metrics document: https://keras.io/metrics/\n",
    "#     \"\"\"\n",
    "# #     model = LogisticRegression(multi_class = 'multinomial')\n",
    "#     model = Sequential()\n",
    "# #     logistR=LogisticRegression(multi_class='multinomial', solver='newton-cg')\n",
    "#     model.add(logistR)\n",
    "# #     # the projection layer\n",
    "# #     model.add(Dense(output_size,\n",
    "# #                     activation=\"softmax\",\n",
    "# #                     input_dim=input_size,\n",
    "# #                     bias_initializer=\"zeros\"))\n",
    "    \n",
    "# #     # set the loss, the optimizer, and the metric\n",
    "# #     if optimizer == \"SGD\":\n",
    "# #         optimizer = keras.optimizers.SGD(lr=learning_rate)\n",
    "# #     elif optimizer == \"RMSprop\":\n",
    "# #         optmizer = keras.optimizers.RMSprop(learning_rate=learning_rate)\n",
    "# #     elif optimizer == \"Adam\":\n",
    "# #         optmizer = keras.optimizers.Adam(learning_rate=learning_rate)\n",
    "# #     elif optimizer == \"Adadelta'\":\n",
    "# #         optmizer = keras.optimizers.Adadelta(learning_rate=learning_rate)\n",
    "# #     elif optimizer == \"Adagrad\":\n",
    "# #         optmizer = keras.optimizers.Adagrad(learning_rate=learning_rate)\n",
    "# #     elif optimizer == \"Adamax\":\n",
    "# #         optmizer = keras.optimizers.Adamax(learning_rate=learning_rate)\n",
    "# #     elif optimizer == \"Nadam\":\n",
    "# #         optmizer = keras.optimizers.Nadam(learning_rate=learning_rate)\n",
    "# #     else:\n",
    "# #         raise NotImplementedError\n",
    "# #     model.compile(loss=loss, optimizer=optimizer, metrics=[metric])\n",
    "\n",
    "#     return model"
   ]
  },
  {
   "cell_type": "code",
   "execution_count": null,
   "metadata": {},
   "outputs": [],
   "source": [
    "######## TRY RNN Model"
   ]
  },
  {
   "cell_type": "code",
   "execution_count": null,
   "metadata": {},
   "outputs": [],
   "source": []
  },
  {
   "cell_type": "code",
   "execution_count": null,
   "metadata": {},
   "outputs": [],
   "source": []
  },
  {
   "cell_type": "code",
   "execution_count": null,
   "metadata": {},
   "outputs": [],
   "source": []
  },
  {
   "cell_type": "code",
   "execution_count": null,
   "metadata": {},
   "outputs": [],
   "source": []
  },
  {
   "cell_type": "code",
   "execution_count": null,
   "metadata": {},
   "outputs": [],
   "source": []
  },
  {
   "cell_type": "code",
   "execution_count": null,
   "metadata": {},
   "outputs": [],
   "source": []
  },
  {
   "cell_type": "code",
   "execution_count": null,
   "metadata": {},
   "outputs": [],
   "source": []
  },
  {
   "cell_type": "code",
   "execution_count": null,
   "metadata": {},
   "outputs": [],
   "source": []
  },
  {
   "cell_type": "code",
   "execution_count": null,
   "metadata": {},
   "outputs": [],
   "source": []
  },
  {
   "cell_type": "code",
   "execution_count": null,
   "metadata": {},
   "outputs": [],
   "source": []
  },
  {
   "cell_type": "code",
   "execution_count": null,
   "metadata": {},
   "outputs": [],
   "source": []
  },
  {
   "cell_type": "code",
   "execution_count": null,
   "metadata": {},
   "outputs": [],
   "source": []
  },
  {
   "cell_type": "code",
   "execution_count": null,
   "metadata": {},
   "outputs": [],
   "source": []
  },
  {
   "cell_type": "code",
   "execution_count": null,
   "metadata": {},
   "outputs": [],
   "source": []
  },
  {
   "cell_type": "code",
   "execution_count": null,
   "metadata": {},
   "outputs": [],
   "source": [
    "# y_train"
   ]
  },
  {
   "cell_type": "code",
   "execution_count": null,
   "metadata": {},
   "outputs": [],
   "source": []
  },
  {
   "cell_type": "code",
   "execution_count": null,
   "metadata": {},
   "outputs": [],
   "source": [
    "# x_valid = valid_df['text']\n",
    "# y_valid = valid_df['stars']\n",
    "# y_pred = pipe.predict(x_valid)\n",
    "# print(classification_report(y_valid, y_pred))\n",
    "# print(\"\\n\\n\")\n",
    "# print(confusion_matrix(y_valid, y_pred))\n",
    "# print('accuracy', np.mean(y_valid == y_pred))"
   ]
  },
  {
   "cell_type": "markdown",
   "metadata": {},
   "source": [
    "Of course, you can use deep learning.\n",
    "Here is a pytorch based baseline using CNN"
   ]
  },
  {
   "cell_type": "markdown",
   "metadata": {},
   "source": [
    "```bash\n",
    "pip install torch\n",
    "```"
   ]
  },
  {
   "cell_type": "code",
   "execution_count": null,
   "metadata": {},
   "outputs": [],
   "source": [
    "# import torch\n",
    "# from torch import nn\n",
    "# from torch.utils.data import DataLoader, Dataset\n",
    "# import tqdm"
   ]
  },
  {
   "cell_type": "code",
   "execution_count": null,
   "metadata": {},
   "outputs": [],
   "source": [
    "# train_text = train_df['text'].map(tokenize).map(filter_stopwords).map(stem)\n",
    "# valid_text = valid_df['text'].map(tokenize).map(filter_stopwords).map(stem)"
   ]
  },
  {
   "cell_type": "code",
   "execution_count": null,
   "metadata": {},
   "outputs": [],
   "source": [
    "# word2id = {}\n",
    "# for tokens in train_text:\n",
    "#     for t in tokens:\n",
    "#         if not t in word2id:\n",
    "#             word2id[t] = len(word2id)\n",
    "# word2id['<pad>'] = len(word2id)"
   ]
  },
  {
   "cell_type": "code",
   "execution_count": null,
   "metadata": {},
   "outputs": [],
   "source": [
    "# def texts_to_id_seq(texts, padding_length=500):\n",
    "#     records = []\n",
    "#     for tokens in texts:\n",
    "#         record = []\n",
    "#         for t in tokens:\n",
    "#             record.append(word2id.get(t, len(word2id)))\n",
    "#         if len(record) >= padding_length:\n",
    "#             records.append(record[:padding_length])\n",
    "#         else:\n",
    "#             records.append(record + [word2id['<pad>']] * (padding_length - len(record)))\n",
    "#     return records"
   ]
  },
  {
   "cell_type": "code",
   "execution_count": null,
   "metadata": {},
   "outputs": [],
   "source": [
    "# train_seqs = texts_to_id_seq(train_text)"
   ]
  },
  {
   "cell_type": "code",
   "execution_count": null,
   "metadata": {},
   "outputs": [],
   "source": [
    "# valid_seqs = texts_to_id_seq(valid_text)"
   ]
  },
  {
   "cell_type": "code",
   "execution_count": null,
   "metadata": {},
   "outputs": [],
   "source": [
    "# class MyDataset(Dataset):\n",
    "    \n",
    "#     def __init__(self, seq, y):\n",
    "#         assert len(seq) == len(y)\n",
    "#         self.seq = seq\n",
    "#         self.y = y-1\n",
    "    \n",
    "#     def __getitem__(self, idx):\n",
    "#         return np.asarray(self.seq[idx]), self.y[idx]\n",
    "\n",
    "#     def __len__(self):\n",
    "#         return len(self.seq)"
   ]
  },
  {
   "cell_type": "code",
   "execution_count": null,
   "metadata": {},
   "outputs": [],
   "source": [
    "# batch_size = 16\n",
    "\n",
    "# train_loader = DataLoader(MyDataset(train_seqs, y_train), batch_size=batch_size, shuffle=True)\n",
    "# valid_loader = DataLoader(MyDataset(valid_seqs, y_valid), batch_size=batch_size)"
   ]
  },
  {
   "cell_type": "code",
   "execution_count": null,
   "metadata": {},
   "outputs": [],
   "source": [
    "# class mlp(nn.Module):\n",
    "#     def __init__(self):\n",
    "#         super(mlp, self).__init__()\n",
    "#         self.embedding = nn.Embedding(num_embeddings=len(word2id)+1, embedding_dim=64)\n",
    "#         self.cnn = nn.Sequential(\n",
    "#             nn.Conv1d(in_channels=64,\n",
    "#                       out_channels=64,\n",
    "#                       kernel_size=3,\n",
    "#                       stride=1),\n",
    "#             nn.MaxPool1d(kernel_size=3, stride=1),\n",
    "#             nn.ReLU(),\n",
    "#             nn.Conv1d(in_channels=64,\n",
    "#                       out_channels=64,\n",
    "#                       kernel_size=3,\n",
    "#                       stride=1),\n",
    "#             nn.MaxPool1d(kernel_size=3, stride=1),\n",
    "#             nn.Dropout(0.5)\n",
    "#         )\n",
    "#         self.linear = nn.Linear(64, 5)\n",
    "    \n",
    "#     def forward(self, x):\n",
    "#         x = self.embedding(x)\n",
    "#         x = torch.transpose(x, 1, 2)\n",
    "#         x = self.cnn(x)\n",
    "#         x = torch.max(x, dim=-1)[0]\n",
    "#         x = self.linear(x)\n",
    "#         return x"
   ]
  },
  {
   "cell_type": "code",
   "execution_count": null,
   "metadata": {},
   "outputs": [],
   "source": [
    "# model = mlp()\n",
    "# optimizer = torch.optim.Adam(model.parameters(), lr=1e-3)\n",
    "# criterion = torch.nn.CrossEntropyLoss()"
   ]
  },
  {
   "cell_type": "code",
   "execution_count": null,
   "metadata": {},
   "outputs": [],
   "source": [
    "# for e in range(1, 11):    \n",
    "#     print('epoch', e)\n",
    "#     model.train()\n",
    "#     total_acc = 0\n",
    "#     total_loss = 0\n",
    "#     total_count = 0\n",
    "#     with tqdm.tqdm(train_loader) as t:\n",
    "#         for x, y in t:\n",
    "#             optimizer.zero_grad()\n",
    "#             logits = model(x)\n",
    "#             loss = criterion(logits, y)\n",
    "#             loss.backward()\n",
    "#             total_acc += (logits.argmax(1) == y).sum().item()\n",
    "#             total_count += y.size(0)\n",
    "#             total_loss += loss.item()\n",
    "#             optimizer.step()\n",
    "#             t.set_postfix({'loss': total_loss/total_count, 'acc': total_acc/total_count})\n",
    "\n",
    "#     model.eval()\n",
    "#     y_pred = []\n",
    "#     y_true = []\n",
    "#     with tqdm.tqdm(valid_loader) as t:\n",
    "#         for x, y in t:\n",
    "#             logits = model(x)\n",
    "#             total_acc += (logits.argmax(1) == y).sum().item()\n",
    "#             total_count += len(y)\n",
    "#             y_pred += logits.argmax(1).tolist()\n",
    "#             y_true += y.tolist()\n",
    "#     print(classification_report(y_true, y_pred))\n",
    "#     print(\"\\n\\n\")\n",
    "#     print(confusion_matrix(y_true, y_pred))"
   ]
  },
  {
   "cell_type": "markdown",
   "metadata": {},
   "source": [
    "Deep learning are full of tricks. \n",
    "\n",
    "In the second example above, the implementation of CNN is not good enough to beat even TFIDF+Logistic regression.\n",
    "\n",
    "You can use all the techniques introduced in the lectures and tutorials to enhance your methods.\n",
    "\n",
    "Of course, you can use ideas have not been mentioned to make your model distinguished."
   ]
  },
  {
   "cell_type": "code",
   "execution_count": null,
   "metadata": {},
   "outputs": [],
   "source": []
  }
 ],
 "metadata": {
  "kernelspec": {
   "display_name": "Python 3",
   "language": "python",
   "name": "python3"
  },
  "language_info": {
   "codemirror_mode": {
    "name": "ipython",
    "version": 3
   },
   "file_extension": ".py",
   "mimetype": "text/x-python",
   "name": "python",
   "nbconvert_exporter": "python",
   "pygments_lexer": "ipython3",
   "version": "3.8.3"
  }
 },
 "nbformat": 4,
 "nbformat_minor": 4
}
